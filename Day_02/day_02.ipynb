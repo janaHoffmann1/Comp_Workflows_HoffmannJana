{
 "cells": [
  {
   "cell_type": "markdown",
   "metadata": {},
   "source": [
    "# Day 2\n",
    "\n",
    "Today, we will start using nf-core pipelines to find differentially abundant genes in our dataset. \n",
    "We are using data from the following paper: https://www.nature.com/articles/s41593-023-01350-3#Sec10"
   ]
  },
  {
   "cell_type": "markdown",
   "metadata": {
    "vscode": {
     "languageId": "plaintext"
    }
   },
   "source": [
    "1. Please take some time to read through the paper and understand their approach, hypotheses and goals."
   ]
  },
  {
   "cell_type": "markdown",
   "metadata": {
    "vscode": {
     "languageId": "plaintext"
    }
   },
   "source": [
    "What was the objective of the study?\n",
    "\n",
    "\n",
    "The objective of the study was to investigate transcriptomic changes associated with chronic opioid exposure and physical dependency on opioids while suffering from chronic neuropathic pain.  \n",
    "\n",
    "Pryce, Kerri D., et al. \"Oxycodone withdrawal induces HDAC1/HDAC2-dependent transcriptional maladaptations in the reward pathway in a mouse model of peripheral nerve injury.\" Nature neuroscience 26.7 (2023): 1229-1244."
   ]
  },
  {
   "cell_type": "markdown",
   "metadata": {
    "vscode": {
     "languageId": "plaintext"
    }
   },
   "source": [
    "What do the conditions mean?"
   ]
  },
  {
   "cell_type": "markdown",
   "metadata": {},
   "source": [
    "oxy: oxycodone exposure <br>\n",
    "sal: saline exposure\n",
    "\n",
    "Pryce, Kerri D., et al. \"Oxycodone withdrawal induces HDAC1/HDAC2-dependent transcriptional maladaptations in the reward pathway in a mouse model of peripheral nerve injury.\" Nature neuroscience 26.7 (2023): 1229-1244."
   ]
  },
  {
   "cell_type": "markdown",
   "metadata": {},
   "source": [
    "What do the genotypes mean?"
   ]
  },
  {
   "cell_type": "markdown",
   "metadata": {},
   "source": [
    "SNI: spared nerve injury\n",
    "\n",
    "\n",
    "Sham: control group that undergoes an inactive procedure to simulate the active procedure of the other group \n",
    "\n",
    "Pryce, Kerri D., et al. \"Oxycodone withdrawal induces HDAC1/HDAC2-dependent transcriptional maladaptations in the reward pathway in a mouse model of peripheral nerve injury.\" Nature neuroscience 26.7 (2023): 1229-1244.\n",
    "https://www.cancer.gov/publications/dictionaries/cancer-terms/def/sham-controlled (20.10.2024)"
   ]
  },
  {
   "cell_type": "markdown",
   "metadata": {},
   "source": [
    "Imagine you are the bioinformatician in the group who conducted this study. They hand you the raw files and ask you to analyze them.\n",
    "\n",
    "What would you do?<br>\n",
    "I would do a differential abundance analysis.\n",
    "\n",
    "Which groups would you compare to each other?<br>\n",
    "I would compare the sham control group with the SNI control, SNI treated and the Sham treated group.\n",
    "\n",
    "Please also mention which outcome you would expect to see from each comparison. <br>\n",
    "I would expect similar outcomes to the paper. Thus for the comparison of the Sham control group with the Sham treated group I would expect the most differentially expressed genes, for the comparison of SNI control versus Sham control the second most and for the comparison of SNI treated versus Sham control the fewest."
   ]
  },
  {
   "cell_type": "markdown",
   "metadata": {},
   "source": [
    "Your group gave you a very suboptimal excel sheet (conditions_runs_oxy_project.xlsx) to get the information you need for each run they uploaded to the SRA.<br>\n",
    "So, instead of directly diving into downloading the data and starting the analysis, you first need to sort the lazy table.<br>\n",
    "Use Python and Pandas to get the table into a more sensible order.<br>\n",
    "Then, perform some overview analysis and plot the results\n",
    "1. How many samples do you have per condition?\n",
    "2. How many samples do you have per genotype?\n",
    "3. How often do you have each condition per genotype?"
   ]
  },
  {
   "cell_type": "code",
   "execution_count": 1,
   "metadata": {},
   "outputs": [
    {
     "name": "stdout",
     "output_type": "stream",
     "text": [
      "Number of samples with Sal condition: 8\n",
      "Number of samples with Oxy condition: 8\n"
     ]
    }
   ],
   "source": [
    "import pandas as pd\n",
    "import numpy as np \n",
    "\n",
    "con = pd.read_excel('conditions_runs_oxy_project.xlsx')\n",
    "\n",
    "print('Number of samples with Sal condition: {}'.format(con.count()['condition: Sal']))\n",
    "print('Number of samples with Oxy condition: {}'.format(con.count()['Condition: Oxy']))"
   ]
  },
  {
   "cell_type": "code",
   "execution_count": 2,
   "metadata": {},
   "outputs": [
    {
     "name": "stdout",
     "output_type": "stream",
     "text": [
      "Number of samples with SNI genotype: 8\n",
      "Number of samples with Sham genotype: 8\n"
     ]
    }
   ],
   "source": [
    "\n",
    "print('Number of samples with SNI genotype: {}'.format(con.count()['Genotype: SNI']))\n",
    "print('Number of samples with Sham genotype: {}'.format(con.count()['Genotype: Sham']))"
   ]
  },
  {
   "cell_type": "code",
   "execution_count": 3,
   "metadata": {},
   "outputs": [
    {
     "name": "stdout",
     "output_type": "stream",
     "text": [
      "Number of Sal conditions per SNI genotype: 4 \n",
      "Number of Oxy conditions per SNI genotype: 4 \n",
      "Number of Sal conditions per Sham genotype: 4 \n",
      "Number of Oxy conditions per Sham genotype: 4 \n"
     ]
    }
   ],
   "source": [
    "print('Number of Sal conditions per SNI genotype: {} '.format(len(con[(con['Genotype: SNI']=='x') & (con['condition: Sal']=='x')])))\n",
    "print('Number of Oxy conditions per SNI genotype: {} '.format(len(con[(con['Genotype: SNI']=='x') & (con['Condition: Oxy']=='x')])))\n",
    "print('Number of Sal conditions per Sham genotype: {} '.format(len(con[(con['Genotype: Sham']=='x') & (con['condition: Sal']=='x')])))\n",
    "print('Number of Oxy conditions per Sham genotype: {} '.format(len(con[(con['Genotype: Sham']=='x') & (con['Condition: Oxy']=='x')])))"
   ]
  },
  {
   "cell_type": "markdown",
   "metadata": {},
   "source": [
    "They were so kind to also provide you with the information of the number of bases per run, so that you can know how much space the data will take on your Cluster.<br>\n",
    "Add a new column to your fancy table with this information (base_counts.csv) and sort your dataframe according to this information and the condition.\n",
    "\n",
    "Then select the 2 smallest runs from your dataset and download them from SRA (maybe an nf-core pipeline can help here?...)"
   ]
  },
  {
   "cell_type": "code",
   "execution_count": 4,
   "metadata": {},
   "outputs": [],
   "source": [
    "bc = pd.read_csv('base_counts.csv',delimiter = ',')\n",
    "con_bc = con.merge(bc,left_on='Run',right_on='Run')\n",
    "con_bc = con_bc.sort_values('Bases')"
   ]
  },
  {
   "cell_type": "code",
   "execution_count": 5,
   "metadata": {},
   "outputs": [],
   "source": [
    "con_bc = con_bc.sort_values('Bases')\n",
    "run_ids = con_bc.head(2)\n",
    "run_ids = list(run_ids['Run'])\n",
    "\n",
    "with open('samplesheet.csv', 'w') as f:\n",
    "    for run_id in run_ids:\n",
    "        f.write(run_id+'\\n')"
   ]
  },
  {
   "cell_type": "code",
   "execution_count": 12,
   "metadata": {},
   "outputs": [
    {
     "name": "stdout",
     "output_type": "stream",
     "text": [
      "[sudo] Passwort für jana: \n",
      "\u001b[1m\u001b[38;5;232m\u001b[48;5;43m N E X T F L O W \u001b[0;2m  ~  \u001b[mversion 24.04.4\u001b[m\n",
      "\u001b[K\n",
      "Launching\u001b[35m `https://github.com/nf-core/fetchngs` \u001b[0;2m[\u001b[0;1;36madmiring_kowalevski\u001b[0;2m] DSL2 - \u001b[36mrevision: \u001b[0;36m8ec2d934f9 [master]\u001b[m\n",
      "\u001b[K\n",
      "\u001b[33mWARN: Access to undefined parameter `monochromeLogs` -- Initialise it to a default value eg. `params.monochromeLogs = some_value`\u001b[39m\u001b[K\n",
      "\n",
      "\n",
      "-\u001b[2m----------------------------------------------------\u001b[0m-\n",
      "                                        \u001b[0;32m,--.\u001b[0;30m/\u001b[0;32m,-.\u001b[0m\n",
      "\u001b[0;34m        ___     __   __   __   ___     \u001b[0;32m/,-._.--~'\u001b[0m\n",
      "\u001b[0;34m  |\\ | |__  __ /  ` /  \\ |__) |__         \u001b[0;33m}  {\u001b[0m\n",
      "\u001b[0;34m  | \\| |       \\__, \\__/ |  \\ |___     \u001b[0;32m\\`-._,-`-,\u001b[0m\n",
      "                                        \u001b[0;32m`._,._,'\u001b[0m\n",
      "\u001b[0;35m  nf-core/fetchngs v1.12.0-g8ec2d93\u001b[0m\n",
      "-\u001b[2m----------------------------------------------------\u001b[0m-\n",
      "\u001b[1mCore Nextflow options\u001b[0m\n",
      "  \u001b[0;34mrevision       : \u001b[0;32mmaster\u001b[0m\n",
      "  \u001b[0;34mrunName        : \u001b[0;32madmiring_kowalevski\u001b[0m\n",
      "  \u001b[0;34mcontainerEngine: \u001b[0;32mdocker\u001b[0m\n",
      "  \u001b[0;34mlaunchDir      : \u001b[0;32m/home/jana/UNI/Master/IISemester/compworkflows/day2/day2\u001b[0m\n",
      "  \u001b[0;34mworkDir        : \u001b[0;32m/home/jana/UNI/Master/IISemester/compworkflows/day2/day2/work\u001b[0m\n",
      "  \u001b[0;34mprojectDir     : \u001b[0;32m/root/.nextflow/assets/nf-core/fetchngs\u001b[0m\n",
      "  \u001b[0;34muserName       : \u001b[0;32mroot\u001b[0m\n",
      "  \u001b[0;34mprofile        : \u001b[0;32mdocker\u001b[0m\n",
      "  \u001b[0;34mconfigFiles    : \u001b[0;32m\u001b[0m\n",
      "\n",
      "\u001b[1mInput/output options\u001b[0m\n",
      "  \u001b[0;34minput          : \u001b[0;32msamplesheet.csv\u001b[0m\n",
      "  \u001b[0;34moutdir         : \u001b[0;32mDAY2_1\u001b[0m\n",
      "\n",
      "\u001b[1mMax job request options\u001b[0m\n",
      "  \u001b[0;34mmax_cpus       : \u001b[0;32m4\u001b[0m\n",
      "  \u001b[0;34mmax_memory     : \u001b[0;32m7GB\u001b[0m\n",
      "\n",
      "!! Only displaying parameters that differ from the pipeline defaults !!\n",
      "-\u001b[2m----------------------------------------------------\u001b[0m-\n",
      "If you use nf-core/fetchngs for your analysis please cite:\n",
      "\n",
      "* The pipeline\n",
      "  https://doi.org/10.5281/zenodo.5070524\n",
      "\n",
      "* The nf-core framework\n",
      "  https://doi.org/10.1038/s41587-020-0439-x\n",
      "\n",
      "* Software dependencies\n",
      "  https://github.com/nf-core/fetchngs/blob/master/CITATIONS.md\n",
      "-\u001b[2m----------------------------------------------------\u001b[0m-\n",
      "\u001b[2m[\u001b[0;34m-        \u001b[0;2m] \u001b[0;2mNFC…NGS:SRA:\u001b[mSRA_IDS_TO_RUNINFO -\u001b[K\n",
      "\u001b[2m[\u001b[0;34m-        \u001b[0;2m] \u001b[0;2mNFC…NGS:SRA:\u001b[mSRA_RUNINFO_TO_FTP -\u001b[K\n",
      "\u001b[2m[\u001b[0;34m-        \u001b[0;2m] \u001b[0;2mNFC…FETCHNGS:SRA:\u001b[mSRA_FASTQ_FTP -\u001b[K\n",
      "\u001b[4A\n",
      "\u001b[2m[\u001b[0;34m-        \u001b[0;2m] \u001b[0;2mNFC…NGS:SRA:\u001b[mSRA_IDS_TO_RUNINFO -\u001b[K\n",
      "\u001b[2m[\u001b[0;34m-        \u001b[0;2m] \u001b[0;2mNFC…NGS:SRA:\u001b[mSRA_RUNINFO_TO_FTP -\u001b[K\n",
      "\u001b[2m[\u001b[0;34m-        \u001b[0;2m] \u001b[0;2mNFC…FETCHNGS:SRA:\u001b[mSRA_FASTQ_FTP -\u001b[K\n",
      "\u001b[2m[\u001b[0;34m-        \u001b[0;2m] \u001b[0;2m\u001b[mNFC…USTOM_SRATOOLSNCBISETTINGS -\u001b[K\n",
      "\u001b[2m[\u001b[0;34m-        \u001b[0;2m] \u001b[0;2mNFC…SRATOOLS:\u001b[mSRATOOLS_PREFETCH -\u001b[K\n",
      "\u001b[2m[\u001b[0;34m-        \u001b[0;2m] \u001b[0;2mNFC…TOOLS:\u001b[mSRATOOLS_FASTERQDUMP -\u001b[K\n",
      "\u001b[2m[\u001b[0;34m-        \u001b[0;2m] \u001b[0;2mNFCORE_FETCHNGS:SRA:\u001b[mASPERA_CLI -\u001b[K\n",
      "\u001b[8A\n",
      "\u001b[2m[\u001b[0;34m-        \u001b[0;2m] \u001b[0;2mNFC…NGS:SRA:\u001b[mSRA_IDS_TO_RUNINFO -\u001b[K\n",
      "\u001b[2m[\u001b[0;34m-        \u001b[0;2m] \u001b[0;2mNFC…NGS:SRA:\u001b[mSRA_RUNINFO_TO_FTP -\u001b[K\n",
      "\u001b[2m[\u001b[0;34m-        \u001b[0;2m] \u001b[0;2mNFC…FETCHNGS:SRA:\u001b[mSRA_FASTQ_FTP -\u001b[K\n",
      "\u001b[2m[\u001b[0;34m-        \u001b[0;2m] \u001b[0;2m\u001b[mNFC…USTOM_SRATOOLSNCBISETTINGS -\u001b[K\n",
      "\u001b[2m[\u001b[0;34m-        \u001b[0;2m] \u001b[0;2mNFC…SRATOOLS:\u001b[mSRATOOLS_PREFETCH -\u001b[K\n",
      "\u001b[2m[\u001b[0;34m-        \u001b[0;2m] \u001b[0;2mNFC…TOOLS:\u001b[mSRATOOLS_FASTERQDUMP -\u001b[K\n",
      "\u001b[2m[\u001b[0;34m-        \u001b[0;2m] \u001b[0;2mNFCORE_FETCHNGS:SRA:\u001b[mASPERA_CLI -\u001b[K\n",
      "\u001b[2m[\u001b[0;34m-        \u001b[0;2m] \u001b[0;2mNFC…NGS:SRA:\u001b[mSRA_TO_SAMPLESHEET -\u001b[K\n",
      "\u001b[2m[\u001b[0;34m-        \u001b[0;2m] \u001b[0;2mNFC…RA:\u001b[mMULTIQC_MAPPINGS_CONFIG -\u001b[K\n",
      "\u001b[10A\n",
      "\u001b[2m[\u001b[0;34mdc/55fff2\u001b[0;2m] \u001b[0;2m\u001b[mNFC…S_TO_RUNINFO\u001b[33;2m (\u001b[0;33mSRR23195511\u001b[2m)\u001b[m\u001b[2m |\u001b[m 2 of 2\u001b[2m, cached: 2\u001b[0;32m ✔\u001b[m\u001b[K\n",
      "\u001b[2m[\u001b[0;34m-        \u001b[0;2m] \u001b[0;2mNFC…NGS:SRA:\u001b[mSRA_RUNINFO_TO_FTP -\u001b[K\n",
      "\u001b[2m[\u001b[0;34m-        \u001b[0;2m] \u001b[0;2mNFC…FETCHNGS:SRA:\u001b[mSRA_FASTQ_FTP -\u001b[K\n",
      "\u001b[2m[\u001b[0;34m-        \u001b[0;2m] \u001b[0;2m\u001b[mNFC…USTOM_SRATOOLSNCBISETTINGS -\u001b[K\n",
      "\u001b[2m[\u001b[0;34m-        \u001b[0;2m] \u001b[0;2mNFC…SRATOOLS:\u001b[mSRATOOLS_PREFETCH -\u001b[K\n",
      "\u001b[2m[\u001b[0;34m-        \u001b[0;2m] \u001b[0;2mNFC…TOOLS:\u001b[mSRATOOLS_FASTERQDUMP -\u001b[K\n",
      "\u001b[2m[\u001b[0;34m-        \u001b[0;2m] \u001b[0;2mNFCORE_FETCHNGS:SRA:\u001b[mASPERA_CLI -\u001b[K\n",
      "\u001b[2m[\u001b[0;34m-        \u001b[0;2m] \u001b[0;2mNFC…NGS:SRA:\u001b[mSRA_TO_SAMPLESHEET -\u001b[K\n",
      "\u001b[2m[\u001b[0;34m-        \u001b[0;2m] \u001b[0;2mNFC…RA:\u001b[mMULTIQC_MAPPINGS_CONFIG -\u001b[K\n",
      "\u001b[10A\n",
      "\u001b[2m[\u001b[0;34mdc/55fff2\u001b[0;2m] \u001b[0;2m\u001b[mNFC…S_TO_RUNINFO\u001b[33;2m (\u001b[0;33mSRR23195511\u001b[2m)\u001b[m\u001b[2m |\u001b[m 2 of 2\u001b[2m, cached: 2\u001b[0;32m ✔\u001b[m\u001b[K\n",
      "\u001b[2m[\u001b[0;34ma3/ef09a4\u001b[0;2m] \u001b[0;2mNFC…SRA:\u001b[mSRA_RUNINFO_TO_FTP\u001b[33;2m (\u001b[0;33m2\u001b[2m)\u001b[m\u001b[2m |\u001b[m 1 of 2\u001b[2m, cached: 1\u001b[m\u001b[K\n",
      "\u001b[2m[\u001b[0;34m-        \u001b[0;2m] \u001b[0;2mNFC…FETCHNGS:SRA:\u001b[mSRA_FASTQ_FTP\u001b[2m |\u001b[m 0 of 1\u001b[K\n",
      "\u001b[2m[\u001b[0;34m-        \u001b[0;2m] \u001b[0;2m\u001b[mNFC…USTOM_SRATOOLSNCBISETTINGS -\u001b[K\n",
      "\u001b[2m[\u001b[0;34m-        \u001b[0;2m] \u001b[0;2mNFC…SRATOOLS:\u001b[mSRATOOLS_PREFETCH -\u001b[K\n",
      "\u001b[2m[\u001b[0;34m-        \u001b[0;2m] \u001b[0;2mNFC…TOOLS:\u001b[mSRATOOLS_FASTERQDUMP -\u001b[K\n",
      "\u001b[2m[\u001b[0;34m-        \u001b[0;2m] \u001b[0;2mNFCORE_FETCHNGS:SRA:\u001b[mASPERA_CLI -\u001b[K\n",
      "\u001b[2m[\u001b[0;34m-        \u001b[0;2m] \u001b[0;2mNFC…NGS:SRA:\u001b[mSRA_TO_SAMPLESHEET -\u001b[K\n",
      "\u001b[2m[\u001b[0;34m-        \u001b[0;2m] \u001b[0;2mNFC…RA:\u001b[mMULTIQC_MAPPINGS_CONFIG -\u001b[K\n",
      "\u001b[10A\n",
      "\u001b[2mexecutor >  local (1)\u001b[m\u001b[K\n",
      "\u001b[2m[\u001b[0;34mdc/55fff2\u001b[0;2m] \u001b[0;2m\u001b[mNFC…S_TO_RUNINFO\u001b[33;2m (\u001b[0;33mSRR23195511\u001b[2m)\u001b[m\u001b[2m |\u001b[m 2 of 2\u001b[2m, cached: 2\u001b[0;32m ✔\u001b[m\u001b[K\n",
      "\u001b[2m[\u001b[0;34m14/1dd953\u001b[0;2m] \u001b[0;2mNFC…SRA:\u001b[mSRA_RUNINFO_TO_FTP\u001b[33;2m (\u001b[0;33m1\u001b[2m)\u001b[m\u001b[2m |\u001b[m 1 of 2\u001b[2m, cached: 1\u001b[m\u001b[K\n",
      "\u001b[2m[\u001b[0;34m-        \u001b[0;2m] \u001b[0;2mNFC…FETCHNGS:SRA:\u001b[mSRA_FASTQ_FTP\u001b[2m |\u001b[m 0 of 1\u001b[K\n",
      "\u001b[2m[\u001b[0;34m-        \u001b[0;2m] \u001b[0;2m\u001b[mNFC…USTOM_SRATOOLSNCBISETTINGS -\u001b[K\n",
      "\u001b[2m[\u001b[0;34m-        \u001b[0;2m] \u001b[0;2mNFC…SRATOOLS:\u001b[mSRATOOLS_PREFETCH -\u001b[K\n",
      "\u001b[2m[\u001b[0;34m-        \u001b[0;2m] \u001b[0;2mNFC…TOOLS:\u001b[mSRATOOLS_FASTERQDUMP -\u001b[K\n",
      "\u001b[2m[\u001b[0;34m-        \u001b[0;2m] \u001b[0;2mNFCORE_FETCHNGS:SRA:\u001b[mASPERA_CLI -\u001b[K\n",
      "\u001b[2m[\u001b[0;34m-        \u001b[0;2m] \u001b[0;2mNFC…NGS:SRA:\u001b[mSRA_TO_SAMPLESHEET -\u001b[K\n",
      "\u001b[2m[\u001b[0;34m-        \u001b[0;2m] \u001b[0;2mNFC…RA:\u001b[mMULTIQC_MAPPINGS_CONFIG -\u001b[K\n",
      "\u001b[11A\n",
      "\u001b[2mexecutor >  local (2)\u001b[m\u001b[K\n",
      "\u001b[2m[\u001b[0;34mdc/55fff2\u001b[0;2m] \u001b[0;2m\u001b[mNFC…S_TO_RUNINFO\u001b[33;2m (\u001b[0;33mSRR23195511\u001b[2m)\u001b[m\u001b[2m |\u001b[m 2 of 2\u001b[2m, cached: 2\u001b[0;32m ✔\u001b[m\u001b[K\n",
      "\u001b[2m[\u001b[0;34m14/1dd953\u001b[0;2m] \u001b[0;2mNFC…SRA:\u001b[mSRA_RUNINFO_TO_FTP\u001b[33;2m (\u001b[0;33m1\u001b[2m)\u001b[m\u001b[2m |\u001b[m 2 of 2\u001b[2m, cached: 1\u001b[0;32m ✔\u001b[m\u001b[K\n",
      "\u001b[2m[\u001b[0;34m1a/e8939f\u001b[0;2m] \u001b[0;2m\u001b[mNFC…\u001b[33;2m (\u001b[0;33mSRX19144488_SRR23195511\u001b[2m)\u001b[m\u001b[2m |\u001b[m 0 of 2\u001b[K\n",
      "\u001b[2m[\u001b[0;34m-        \u001b[0;2m] \u001b[0;2m\u001b[mNFC…USTOM_SRATOOLSNCBISETTINGS -\u001b[K\n",
      "\u001b[2m[\u001b[0;34m-        \u001b[0;2m] \u001b[0;2mNFC…SRATOOLS:\u001b[mSRATOOLS_PREFETCH -\u001b[K\n",
      "\u001b[2m[\u001b[0;34m-        \u001b[0;2m] \u001b[0;2mNFC…TOOLS:\u001b[mSRATOOLS_FASTERQDUMP -\u001b[K\n",
      "\u001b[2m[\u001b[0;34m-        \u001b[0;2m] \u001b[0;2mNFCORE_FETCHNGS:SRA:\u001b[mASPERA_CLI -\u001b[K\n",
      "\u001b[2m[\u001b[0;34m-        \u001b[0;2m] \u001b[0;2mNFC…NGS:SRA:\u001b[mSRA_TO_SAMPLESHEET -\u001b[K\n",
      "\u001b[2m[\u001b[0;34m-        \u001b[0;2m] \u001b[0;2mNFC…RA:\u001b[mMULTIQC_MAPPINGS_CONFIG -\u001b[K\n",
      "\u001b[11A\n",
      "\u001b[2mexecutor >  local (3)\u001b[m\u001b[K\n",
      "\u001b[2m[\u001b[0;34mdc/55fff2\u001b[0;2m] \u001b[0;2m\u001b[mNFC…S_TO_RUNINFO\u001b[33;2m (\u001b[0;33mSRR23195511\u001b[2m)\u001b[m\u001b[2m |\u001b[m 2 of 2\u001b[2m, cached: 2\u001b[0;32m ✔\u001b[m\u001b[K\n",
      "\u001b[2m[\u001b[0;34m14/1dd953\u001b[0;2m] \u001b[0;2mNFC…SRA:\u001b[mSRA_RUNINFO_TO_FTP\u001b[33;2m (\u001b[0;33m1\u001b[2m)\u001b[m\u001b[2m |\u001b[m 2 of 2\u001b[2m, cached: 1\u001b[0;32m ✔\u001b[m\u001b[K\n",
      "\u001b[2m[\u001b[0;34m1a/e8939f\u001b[0;2m] \u001b[0;2m\u001b[mNFC…\u001b[33;2m (\u001b[0;33mSRX19144488_SRR23195511\u001b[2m)\u001b[m\u001b[2m |\u001b[m 1 of 2\u001b[K\n",
      "\u001b[2m[\u001b[0;34m-        \u001b[0;2m] \u001b[0;2m\u001b[mNFC…USTOM_SRATOOLSNCBISETTINGS -\u001b[K\n",
      "\u001b[2m[\u001b[0;34m-        \u001b[0;2m] \u001b[0;2mNFC…SRATOOLS:\u001b[mSRATOOLS_PREFETCH -\u001b[K\n",
      "\u001b[2m[\u001b[0;34m-        \u001b[0;2m] \u001b[0;2mNFC…TOOLS:\u001b[mSRATOOLS_FASTERQDUMP -\u001b[K\n",
      "\u001b[2m[\u001b[0;34m-        \u001b[0;2m] \u001b[0;2mNFCORE_FETCHNGS:SRA:\u001b[mASPERA_CLI -\u001b[K\n",
      "\u001b[2m[\u001b[0;34m-        \u001b[0;2m] \u001b[0;2mNFC…NGS:SRA:\u001b[mSRA_TO_SAMPLESHEET -\u001b[K\n",
      "\u001b[2m[\u001b[0;34m-        \u001b[0;2m] \u001b[0;2mNFC…RA:\u001b[mMULTIQC_MAPPINGS_CONFIG -\u001b[K\n",
      "\u001b[11A\n",
      "\u001b[2mexecutor >  local (3)\u001b[m\u001b[K\n",
      "\u001b[2m[\u001b[0;34mdc/55fff2\u001b[0;2m] \u001b[0;2m\u001b[mNFC…S_TO_RUNINFO\u001b[33;2m (\u001b[0;33mSRR23195511\u001b[2m)\u001b[m\u001b[2m |\u001b[m 2 of 2\u001b[2m, cached: 2\u001b[0;32m ✔\u001b[m\u001b[K\n",
      "\u001b[2m[\u001b[0;34m14/1dd953\u001b[0;2m] \u001b[0;2mNFC…SRA:\u001b[mSRA_RUNINFO_TO_FTP\u001b[33;2m (\u001b[0;33m1\u001b[2m)\u001b[m\u001b[2m |\u001b[m 2 of 2\u001b[2m, cached: 1\u001b[0;32m ✔\u001b[m\u001b[K\n",
      "\u001b[2m[\u001b[0;34m1a/e8939f\u001b[0;2m] \u001b[0;2m\u001b[mNFC…\u001b[33;2m (\u001b[0;33mSRX19144488_SRR23195511\u001b[2m)\u001b[m\u001b[2m |\u001b[m 1 of 2\u001b[K\n",
      "\u001b[2m[\u001b[0;34m-        \u001b[0;2m] \u001b[0;2m\u001b[mNFC…USTOM_SRATOOLSNCBISETTINGS -\u001b[K\n",
      "\u001b[2m[\u001b[0;34m-        \u001b[0;2m] \u001b[0;2mNFC…SRATOOLS:\u001b[mSRATOOLS_PREFETCH -\u001b[K\n",
      "\u001b[2m[\u001b[0;34m-        \u001b[0;2m] \u001b[0;2mNFC…TOOLS:\u001b[mSRATOOLS_FASTERQDUMP -\u001b[K\n",
      "\u001b[2m[\u001b[0;34m-        \u001b[0;2m] \u001b[0;2mNFCORE_FETCHNGS:SRA:\u001b[mASPERA_CLI -\u001b[K\n",
      "\u001b[2m[\u001b[0;34m-        \u001b[0;2m] \u001b[0;2mNFC…NGS:SRA:\u001b[mSRA_TO_SAMPLESHEET\u001b[2m |\u001b[m 0 of 1\u001b[K\n",
      "\u001b[2m[\u001b[0;34m-        \u001b[0;2m] \u001b[0;2mNFC…RA:\u001b[mMULTIQC_MAPPINGS_CONFIG -\u001b[K\n",
      "\u001b[11A\n",
      "\u001b[2mexecutor >  local (4)\u001b[m\u001b[K\n",
      "\u001b[2m[\u001b[0;34mdc/55fff2\u001b[0;2m] \u001b[0;2m\u001b[mNFC…S_TO_RUNINFO\u001b[33;2m (\u001b[0;33mSRR23195511\u001b[2m)\u001b[m\u001b[2m |\u001b[m 2 of 2\u001b[2m, cached: 2\u001b[0;32m ✔\u001b[m\u001b[K\n",
      "\u001b[2m[\u001b[0;34m14/1dd953\u001b[0;2m] \u001b[0;2mNFC…SRA:\u001b[mSRA_RUNINFO_TO_FTP\u001b[33;2m (\u001b[0;33m1\u001b[2m)\u001b[m\u001b[2m |\u001b[m 2 of 2\u001b[2m, cached: 1\u001b[0;32m ✔\u001b[m\u001b[K\n",
      "\u001b[2m[\u001b[0;34m1a/e8939f\u001b[0;2m] \u001b[0;2m\u001b[mNFC…\u001b[33;2m (\u001b[0;33mSRX19144488_SRR23195511\u001b[2m)\u001b[m\u001b[2m |\u001b[m 1 of 2\u001b[K\n",
      "\u001b[2m[\u001b[0;34m-        \u001b[0;2m] \u001b[0;2m\u001b[mNFC…USTOM_SRATOOLSNCBISETTINGS -\u001b[K\n",
      "\u001b[2m[\u001b[0;34m-        \u001b[0;2m] \u001b[0;2mNFC…SRATOOLS:\u001b[mSRATOOLS_PREFETCH -\u001b[K\n",
      "\u001b[2m[\u001b[0;34m-        \u001b[0;2m] \u001b[0;2mNFC…TOOLS:\u001b[mSRATOOLS_FASTERQDUMP -\u001b[K\n",
      "\u001b[2m[\u001b[0;34m-        \u001b[0;2m] \u001b[0;2mNFCORE_FETCHNGS:SRA:\u001b[mASPERA_CLI -\u001b[K\n",
      "\u001b[2m[\u001b[0;34mca/c054e8\u001b[0;2m] \u001b[0;2m\u001b[mNFC…\u001b[33;2m (\u001b[0;33mSRX19144488_SRR23195511\u001b[2m)\u001b[m\u001b[2m |\u001b[m 0 of 1\u001b[K\n",
      "\u001b[2m[\u001b[0;34m-        \u001b[0;2m] \u001b[0;2mNFC…RA:\u001b[mMULTIQC_MAPPINGS_CONFIG -\u001b[K\n",
      "\u001b[11A\n",
      "\u001b[2mexecutor >  local (4)\u001b[m\u001b[K\n",
      "\u001b[2m[\u001b[0;34mdc/55fff2\u001b[0;2m] \u001b[0;2m\u001b[mNFC…S_TO_RUNINFO\u001b[33;2m (\u001b[0;33mSRR23195511\u001b[2m)\u001b[m\u001b[2m |\u001b[m 2 of 2\u001b[2m, cached: 2\u001b[0;32m ✔\u001b[m\u001b[K\n",
      "\u001b[2m[\u001b[0;34m14/1dd953\u001b[0;2m] \u001b[0;2mNFC…SRA:\u001b[mSRA_RUNINFO_TO_FTP\u001b[33;2m (\u001b[0;33m1\u001b[2m)\u001b[m\u001b[2m |\u001b[m 2 of 2\u001b[2m, cached: 1\u001b[0;32m ✔\u001b[m\u001b[K\n",
      "\u001b[2m[\u001b[0;34m1a/e8939f\u001b[0;2m] \u001b[0;2m\u001b[mNFC…\u001b[33;2m (\u001b[0;33mSRX19144488_SRR23195511\u001b[2m)\u001b[m\u001b[2m |\u001b[m 1 of 2\u001b[K\n",
      "\u001b[2m[\u001b[0;34m-        \u001b[0;2m] \u001b[0;2m\u001b[mNFC…USTOM_SRATOOLSNCBISETTINGS -\u001b[K\n",
      "\u001b[2m[\u001b[0;34m-        \u001b[0;2m] \u001b[0;2mNFC…SRATOOLS:\u001b[mSRATOOLS_PREFETCH -\u001b[K\n",
      "\u001b[2m[\u001b[0;34m-        \u001b[0;2m] \u001b[0;2mNFC…TOOLS:\u001b[mSRATOOLS_FASTERQDUMP -\u001b[K\n",
      "\u001b[2m[\u001b[0;34m-        \u001b[0;2m] \u001b[0;2mNFCORE_FETCHNGS:SRA:\u001b[mASPERA_CLI -\u001b[K\n",
      "\u001b[2m[\u001b[0;34mca/c054e8\u001b[0;2m] \u001b[0;2m\u001b[mNFC…\u001b[33;2m (\u001b[0;33mSRX19144488_SRR23195511\u001b[2m)\u001b[m\u001b[2m |\u001b[m 1 of 1\u001b[K\n",
      "\u001b[2m[\u001b[0;34m-        \u001b[0;2m] \u001b[0;2mNFC…RA:\u001b[mMULTIQC_MAPPINGS_CONFIG -\u001b[K\n",
      "\u001b[11A\n",
      "\u001b[2mexecutor >  local (5)\u001b[m\u001b[K\n",
      "\u001b[2m[\u001b[0;34mdc/55fff2\u001b[0;2m] \u001b[0;2m\u001b[mNFC…S_TO_RUNINFO\u001b[33;2m (\u001b[0;33mSRR23195511\u001b[2m)\u001b[m\u001b[2m |\u001b[m 2 of 2\u001b[2m, cached: 2\u001b[0;32m ✔\u001b[m\u001b[K\n",
      "\u001b[2m[\u001b[0;34m14/1dd953\u001b[0;2m] \u001b[0;2mNFC…SRA:\u001b[mSRA_RUNINFO_TO_FTP\u001b[33;2m (\u001b[0;33m1\u001b[2m)\u001b[m\u001b[2m |\u001b[m 2 of 2\u001b[2m, cached: 1\u001b[0;32m ✔\u001b[m\u001b[K\n",
      "\u001b[2m[\u001b[0;34m25/64c675\u001b[0;2m] \u001b[0;2m\u001b[mNFC…\u001b[33;2m (\u001b[0;33mSRX19144486_SRR23195516\u001b[2m)\u001b[m\u001b[2m |\u001b[m 2 of 2\u001b[32m ✔\u001b[m\u001b[K\n",
      "\u001b[2m[\u001b[0;34m-        \u001b[0;2m] \u001b[0;2m\u001b[mNFC…USTOM_SRATOOLSNCBISETTINGS -\u001b[K\n",
      "\u001b[2m[\u001b[0;34m-        \u001b[0;2m] \u001b[0;2mNFC…SRATOOLS:\u001b[mSRATOOLS_PREFETCH -\u001b[K\n",
      "\u001b[2m[\u001b[0;34m-        \u001b[0;2m] \u001b[0;2mNFC…TOOLS:\u001b[mSRATOOLS_FASTERQDUMP -\u001b[K\n",
      "\u001b[2m[\u001b[0;34m-        \u001b[0;2m] \u001b[0;2mNFCORE_FETCHNGS:SRA:\u001b[mASPERA_CLI -\u001b[K\n",
      "\u001b[2m[\u001b[0;34m34/ed38a4\u001b[0;2m] \u001b[0;2m\u001b[mNFC…\u001b[33;2m (\u001b[0;33mSRX19144486_SRR23195516\u001b[2m)\u001b[m\u001b[2m |\u001b[m 1 of 2\u001b[K\n",
      "\u001b[2m[\u001b[0;34m-        \u001b[0;2m] \u001b[0;2mNFC…RA:\u001b[mMULTIQC_MAPPINGS_CONFIG -\u001b[K\n",
      "\u001b[11A\n",
      "\u001b[2mexecutor >  local (5)\u001b[m\u001b[K\n",
      "\u001b[2m[\u001b[0;34mdc/55fff2\u001b[0;2m] \u001b[0;2m\u001b[mNFC…S_TO_RUNINFO\u001b[33;2m (\u001b[0;33mSRR23195511\u001b[2m)\u001b[m\u001b[2m |\u001b[m 2 of 2\u001b[2m, cached: 2\u001b[0;32m ✔\u001b[m\u001b[K\n",
      "\u001b[2m[\u001b[0;34m14/1dd953\u001b[0;2m] \u001b[0;2mNFC…SRA:\u001b[mSRA_RUNINFO_TO_FTP\u001b[33;2m (\u001b[0;33m1\u001b[2m)\u001b[m\u001b[2m |\u001b[m 2 of 2\u001b[2m, cached: 1\u001b[0;32m ✔\u001b[m\u001b[K\n",
      "\u001b[2m[\u001b[0;34m25/64c675\u001b[0;2m] \u001b[0;2m\u001b[mNFC…\u001b[33;2m (\u001b[0;33mSRX19144486_SRR23195516\u001b[2m)\u001b[m\u001b[2m |\u001b[m 2 of 2\u001b[32m ✔\u001b[m\u001b[K\n",
      "\u001b[2m[\u001b[0;34m-        \u001b[0;2m] \u001b[0;2m\u001b[mNFC…USTOM_SRATOOLSNCBISETTINGS -\u001b[K\n",
      "\u001b[2m[\u001b[0;34m-        \u001b[0;2m] \u001b[0;2mNFC…SRATOOLS:\u001b[mSRATOOLS_PREFETCH -\u001b[K\n",
      "\u001b[2m[\u001b[0;34m-        \u001b[0;2m] \u001b[0;2mNFC…TOOLS:\u001b[mSRATOOLS_FASTERQDUMP -\u001b[K\n",
      "\u001b[2m[\u001b[0;34m-        \u001b[0;2m] \u001b[0;2mNFCORE_FETCHNGS:SRA:\u001b[mASPERA_CLI -\u001b[K\n",
      "\u001b[2m[\u001b[0;34m34/ed38a4\u001b[0;2m] \u001b[0;2m\u001b[mNFC…\u001b[33;2m (\u001b[0;33mSRX19144486_SRR23195516\u001b[2m)\u001b[m\u001b[2m |\u001b[m 1 of 2\u001b[K\n",
      "\u001b[2m[\u001b[0;34m-        \u001b[0;2m] \u001b[0;2mNFC…RA:\u001b[mMULTIQC_MAPPINGS_CONFIG -\u001b[K\n",
      "\u001b[11A\n",
      "\u001b[2mexecutor >  local (5)\u001b[m\u001b[K\n",
      "\u001b[2m[\u001b[0;34mdc/55fff2\u001b[0;2m] \u001b[0;2m\u001b[mNFC…S_TO_RUNINFO\u001b[33;2m (\u001b[0;33mSRR23195511\u001b[2m)\u001b[m\u001b[2m |\u001b[m 2 of 2\u001b[2m, cached: 2\u001b[0;32m ✔\u001b[m\u001b[K\n",
      "\u001b[2m[\u001b[0;34m14/1dd953\u001b[0;2m] \u001b[0;2mNFC…SRA:\u001b[mSRA_RUNINFO_TO_FTP\u001b[33;2m (\u001b[0;33m1\u001b[2m)\u001b[m\u001b[2m |\u001b[m 2 of 2\u001b[2m, cached: 1\u001b[0;32m ✔\u001b[m\u001b[K\n",
      "\u001b[2m[\u001b[0;34m25/64c675\u001b[0;2m] \u001b[0;2m\u001b[mNFC…\u001b[33;2m (\u001b[0;33mSRX19144486_SRR23195516\u001b[2m)\u001b[m\u001b[2m |\u001b[m 2 of 2\u001b[32m ✔\u001b[m\u001b[K\n",
      "\u001b[2m[\u001b[0;34m-        \u001b[0;2m] \u001b[0;2m\u001b[mNFC…USTOM_SRATOOLSNCBISETTINGS -\u001b[K\n",
      "\u001b[2m[\u001b[0;34m-        \u001b[0;2m] \u001b[0;2mNFC…SRATOOLS:\u001b[mSRATOOLS_PREFETCH -\u001b[K\n",
      "\u001b[2m[\u001b[0;34m-        \u001b[0;2m] \u001b[0;2mNFC…TOOLS:\u001b[mSRATOOLS_FASTERQDUMP -\u001b[K\n",
      "\u001b[2m[\u001b[0;34m-        \u001b[0;2m] \u001b[0;2mNFCORE_FETCHNGS:SRA:\u001b[mASPERA_CLI -\u001b[K\n",
      "\u001b[2m[\u001b[0;34m34/ed38a4\u001b[0;2m] \u001b[0;2m\u001b[mNFC…\u001b[33;2m (\u001b[0;33mSRX19144486_SRR23195516\u001b[2m)\u001b[m\u001b[2m |\u001b[m 2 of 2\u001b[32m ✔\u001b[m\u001b[K\n",
      "\u001b[2m[\u001b[0;34m-        \u001b[0;2m] \u001b[0;2mNFC…RA:\u001b[mMULTIQC_MAPPINGS_CONFIG -\u001b[K\n",
      "\u001b[11A\n",
      "\u001b[2mexecutor >  local (5)\u001b[m\u001b[K\n",
      "\u001b[2m[\u001b[0;34mdc/55fff2\u001b[0;2m] \u001b[0;2m\u001b[mNFC…S_TO_RUNINFO\u001b[33;2m (\u001b[0;33mSRR23195511\u001b[2m)\u001b[m\u001b[2m |\u001b[m 2 of 2\u001b[2m, cached: 2\u001b[0;32m ✔\u001b[m\u001b[K\n",
      "\u001b[2m[\u001b[0;34m14/1dd953\u001b[0;2m] \u001b[0;2mNFC…SRA:\u001b[mSRA_RUNINFO_TO_FTP\u001b[33;2m (\u001b[0;33m1\u001b[2m)\u001b[m\u001b[2m |\u001b[m 2 of 2\u001b[2m, cached: 1\u001b[0;32m ✔\u001b[m\u001b[K\n",
      "\u001b[2m[\u001b[0;34m25/64c675\u001b[0;2m] \u001b[0;2m\u001b[mNFC…\u001b[33;2m (\u001b[0;33mSRX19144486_SRR23195516\u001b[2m)\u001b[m\u001b[2m |\u001b[m 2 of 2\u001b[32m ✔\u001b[m\u001b[K\n",
      "\u001b[2m[\u001b[0;34m-        \u001b[0;2m] \u001b[0;2m\u001b[mNFC…USTOM_SRATOOLSNCBISETTINGS -\u001b[K\n",
      "\u001b[2m[\u001b[0;34m-        \u001b[0;2m] \u001b[0;2mNFC…SRATOOLS:\u001b[mSRATOOLS_PREFETCH -\u001b[K\n",
      "\u001b[2m[\u001b[0;34m-        \u001b[0;2m] \u001b[0;2mNFC…TOOLS:\u001b[mSRATOOLS_FASTERQDUMP -\u001b[K\n",
      "\u001b[2m[\u001b[0;34m-        \u001b[0;2m] \u001b[0;2mNFCORE_FETCHNGS:SRA:\u001b[mASPERA_CLI -\u001b[K\n",
      "\u001b[2m[\u001b[0;34m34/ed38a4\u001b[0;2m] \u001b[0;2m\u001b[mNFC…\u001b[33;2m (\u001b[0;33mSRX19144486_SRR23195516\u001b[2m)\u001b[m\u001b[2m |\u001b[m 2 of 2\u001b[32m ✔\u001b[m\u001b[K\n",
      "\u001b[2m[\u001b[0;34m-        \u001b[0;2m] \u001b[0;2mNFC…RA:\u001b[mMULTIQC_MAPPINGS_CONFIG\u001b[2m |\u001b[m 0 of 1\u001b[K\n",
      "\u001b[11A\n",
      "\u001b[2mexecutor >  local (6)\u001b[m\u001b[K\n",
      "\u001b[2m[\u001b[0;34mdc/55fff2\u001b[0;2m] \u001b[0;2m\u001b[mNFC…S_TO_RUNINFO\u001b[33;2m (\u001b[0;33mSRR23195511\u001b[2m)\u001b[m\u001b[2m |\u001b[m 2 of 2\u001b[2m, cached: 2\u001b[0;32m ✔\u001b[m\u001b[K\n",
      "\u001b[2m[\u001b[0;34m14/1dd953\u001b[0;2m] \u001b[0;2mNFC…SRA:\u001b[mSRA_RUNINFO_TO_FTP\u001b[33;2m (\u001b[0;33m1\u001b[2m)\u001b[m\u001b[2m |\u001b[m 2 of 2\u001b[2m, cached: 1\u001b[0;32m ✔\u001b[m\u001b[K\n",
      "\u001b[2m[\u001b[0;34m25/64c675\u001b[0;2m] \u001b[0;2m\u001b[mNFC…\u001b[33;2m (\u001b[0;33mSRX19144486_SRR23195516\u001b[2m)\u001b[m\u001b[2m |\u001b[m 2 of 2\u001b[32m ✔\u001b[m\u001b[K\n",
      "\u001b[2m[\u001b[0;34m-        \u001b[0;2m] \u001b[0;2m\u001b[mNFC…USTOM_SRATOOLSNCBISETTINGS -\u001b[K\n",
      "\u001b[2m[\u001b[0;34m-        \u001b[0;2m] \u001b[0;2mNFC…SRATOOLS:\u001b[mSRATOOLS_PREFETCH -\u001b[K\n",
      "\u001b[2m[\u001b[0;34m-        \u001b[0;2m] \u001b[0;2mNFC…TOOLS:\u001b[mSRATOOLS_FASTERQDUMP -\u001b[K\n",
      "\u001b[2m[\u001b[0;34m-        \u001b[0;2m] \u001b[0;2mNFCORE_FETCHNGS:SRA:\u001b[mASPERA_CLI -\u001b[K\n",
      "\u001b[2m[\u001b[0;34m34/ed38a4\u001b[0;2m] \u001b[0;2m\u001b[mNFC…\u001b[33;2m (\u001b[0;33mSRX19144486_SRR23195516\u001b[2m)\u001b[m\u001b[2m |\u001b[m 2 of 2\u001b[32m ✔\u001b[m\u001b[K\n",
      "\u001b[2m[\u001b[0;34me6/481ef5\u001b[0;2m] \u001b[0;2m\u001b[mNFC…ULTIQC_MAPPINGS_CONFIG\u001b[33;2m (\u001b[0;33m1\u001b[2m)\u001b[m\u001b[2m |\u001b[m 0 of 1\u001b[K\n",
      "\u001b[11A\n",
      "\u001b[2mexecutor >  local (6)\u001b[m\u001b[K\n",
      "\u001b[2m[\u001b[0;34mdc/55fff2\u001b[0;2m] \u001b[0;2m\u001b[mNFC…S_TO_RUNINFO\u001b[33;2m (\u001b[0;33mSRR23195511\u001b[2m)\u001b[m\u001b[2m |\u001b[m 2 of 2\u001b[2m, cached: 2\u001b[0;32m ✔\u001b[m\u001b[K\n",
      "\u001b[2m[\u001b[0;34m14/1dd953\u001b[0;2m] \u001b[0;2mNFC…SRA:\u001b[mSRA_RUNINFO_TO_FTP\u001b[33;2m (\u001b[0;33m1\u001b[2m)\u001b[m\u001b[2m |\u001b[m 2 of 2\u001b[2m, cached: 1\u001b[0;32m ✔\u001b[m\u001b[K\n",
      "\u001b[2m[\u001b[0;34m25/64c675\u001b[0;2m] \u001b[0;2m\u001b[mNFC…\u001b[33;2m (\u001b[0;33mSRX19144486_SRR23195516\u001b[2m)\u001b[m\u001b[2m |\u001b[m 2 of 2\u001b[32m ✔\u001b[m\u001b[K\n",
      "\u001b[2m[\u001b[0;34m-        \u001b[0;2m] \u001b[0;2m\u001b[mNFC…USTOM_SRATOOLSNCBISETTINGS -\u001b[K\n",
      "\u001b[2m[\u001b[0;34m-        \u001b[0;2m] \u001b[0;2mNFC…SRATOOLS:\u001b[mSRATOOLS_PREFETCH -\u001b[K\n",
      "\u001b[2m[\u001b[0;34m-        \u001b[0;2m] \u001b[0;2mNFC…TOOLS:\u001b[mSRATOOLS_FASTERQDUMP -\u001b[K\n",
      "\u001b[2m[\u001b[0;34m-        \u001b[0;2m] \u001b[0;2mNFCORE_FETCHNGS:SRA:\u001b[mASPERA_CLI -\u001b[K\n",
      "\u001b[2m[\u001b[0;34m34/ed38a4\u001b[0;2m] \u001b[0;2m\u001b[mNFC…\u001b[33;2m (\u001b[0;33mSRX19144486_SRR23195516\u001b[2m)\u001b[m\u001b[2m |\u001b[m 2 of 2\u001b[32m ✔\u001b[m\u001b[K\n",
      "\u001b[2m[\u001b[0;34me6/481ef5\u001b[0;2m] \u001b[0;2m\u001b[mNFC…ULTIQC_MAPPINGS_CONFIG\u001b[33;2m (\u001b[0;33m1\u001b[2m)\u001b[m\u001b[2m |\u001b[m 1 of 1\u001b[32m ✔\u001b[m\u001b[K\n",
      "\u001b[11A\n",
      "\u001b[2mexecutor >  local (6)\u001b[m\u001b[K\n",
      "\u001b[2m[\u001b[0;34mdc/55fff2\u001b[0;2m] \u001b[0;2m\u001b[mNFC…S_TO_RUNINFO\u001b[33;2m (\u001b[0;33mSRR23195511\u001b[2m)\u001b[m\u001b[2m |\u001b[m 2 of 2\u001b[2m, cached: 2\u001b[0;32m ✔\u001b[m\u001b[K\n",
      "\u001b[2m[\u001b[0;34m14/1dd953\u001b[0;2m] \u001b[0;2mNFC…SRA:\u001b[mSRA_RUNINFO_TO_FTP\u001b[33;2m (\u001b[0;33m1\u001b[2m)\u001b[m\u001b[2m |\u001b[m 2 of 2\u001b[2m, cached: 1\u001b[0;32m ✔\u001b[m\u001b[K\n",
      "\u001b[2m[\u001b[0;34m25/64c675\u001b[0;2m] \u001b[0;2m\u001b[mNFC…\u001b[33;2m (\u001b[0;33mSRX19144486_SRR23195516\u001b[2m)\u001b[m\u001b[2m |\u001b[m 2 of 2\u001b[32m ✔\u001b[m\u001b[K\n",
      "\u001b[2m[\u001b[0;34m-        \u001b[0;2m] \u001b[0;2m\u001b[mNFC…USTOM_SRATOOLSNCBISETTINGS -\u001b[K\n",
      "\u001b[2m[\u001b[0;34m-        \u001b[0;2m] \u001b[0;2mNFC…SRATOOLS:\u001b[mSRATOOLS_PREFETCH -\u001b[K\n",
      "\u001b[2m[\u001b[0;34m-        \u001b[0;2m] \u001b[0;2mNFC…TOOLS:\u001b[mSRATOOLS_FASTERQDUMP -\u001b[K\n",
      "\u001b[2m[\u001b[0;34m-        \u001b[0;2m] \u001b[0;2mNFCORE_FETCHNGS:SRA:\u001b[mASPERA_CLI -\u001b[K\n",
      "\u001b[2m[\u001b[0;34m34/ed38a4\u001b[0;2m] \u001b[0;2m\u001b[mNFC…\u001b[33;2m (\u001b[0;33mSRX19144486_SRR23195516\u001b[2m)\u001b[m\u001b[2m |\u001b[m 2 of 2\u001b[32m ✔\u001b[m\u001b[K\n",
      "\u001b[2m[\u001b[0;34me6/481ef5\u001b[0;2m] \u001b[0;2m\u001b[mNFC…ULTIQC_MAPPINGS_CONFIG\u001b[33;2m (\u001b[0;33m1\u001b[2m)\u001b[m\u001b[2m |\u001b[m 1 of 1\u001b[32m ✔\u001b[m\u001b[K\n",
      "Waiting for file transfers to complete (2 files)\u001b[K\n",
      "\u001b[12A\n",
      "\u001b[2mexecutor >  local (6)\u001b[m\u001b[K\n",
      "\u001b[2m[\u001b[0;34mdc/55fff2\u001b[0;2m] \u001b[0;2m\u001b[mNFC…S_TO_RUNINFO\u001b[33;2m (\u001b[0;33mSRR23195511\u001b[2m)\u001b[m\u001b[2m |\u001b[m 2 of 2\u001b[2m, cached: 2\u001b[0;32m ✔\u001b[m\u001b[K\n",
      "\u001b[2m[\u001b[0;34m14/1dd953\u001b[0;2m] \u001b[0;2mNFC…SRA:\u001b[mSRA_RUNINFO_TO_FTP\u001b[33;2m (\u001b[0;33m1\u001b[2m)\u001b[m\u001b[2m |\u001b[m 2 of 2\u001b[2m, cached: 1\u001b[0;32m ✔\u001b[m\u001b[K\n",
      "\u001b[2m[\u001b[0;34m25/64c675\u001b[0;2m] \u001b[0;2m\u001b[mNFC…\u001b[33;2m (\u001b[0;33mSRX19144486_SRR23195516\u001b[2m)\u001b[m\u001b[2m |\u001b[m 2 of 2\u001b[32m ✔\u001b[m\u001b[K\n",
      "\u001b[2m[\u001b[0;34m-        \u001b[0;2m] \u001b[0;2m\u001b[mNFC…USTOM_SRATOOLSNCBISETTINGS -\u001b[K\n",
      "\u001b[2m[\u001b[0;34m-        \u001b[0;2m] \u001b[0;2mNFC…SRATOOLS:\u001b[mSRATOOLS_PREFETCH -\u001b[K\n",
      "\u001b[2m[\u001b[0;34m-        \u001b[0;2m] \u001b[0;2mNFC…TOOLS:\u001b[mSRATOOLS_FASTERQDUMP -\u001b[K\n",
      "\u001b[2m[\u001b[0;34m-        \u001b[0;2m] \u001b[0;2mNFCORE_FETCHNGS:SRA:\u001b[mASPERA_CLI -\u001b[K\n",
      "\u001b[2m[\u001b[0;34m34/ed38a4\u001b[0;2m] \u001b[0;2m\u001b[mNFC…\u001b[33;2m (\u001b[0;33mSRX19144486_SRR23195516\u001b[2m)\u001b[m\u001b[2m |\u001b[m 2 of 2\u001b[32m ✔\u001b[m\u001b[K\n",
      "\u001b[2m[\u001b[0;34me6/481ef5\u001b[0;2m] \u001b[0;2m\u001b[mNFC…ULTIQC_MAPPINGS_CONFIG\u001b[33;2m (\u001b[0;33m1\u001b[2m)\u001b[m\u001b[2m |\u001b[m 1 of 1\u001b[32m ✔\u001b[m\u001b[K\n",
      "Waiting for file transfers to complete (2 files)\u001b[K\n",
      "-\u001b[0;35m[nf-core/fetchngs]\u001b[0;32m Pipeline completed successfully\u001b[0m-\u001b[K\n",
      "\u001b[33mWARN: =============================================================================\u001b[K\n",
      "  Please double-check the samplesheet that has been auto-created by the pipeline.\u001b[K\n",
      "\u001b[K\n",
      "  Public databases don't reliably hold information such as strandedness\u001b[K\n",
      "  information, controls etc\u001b[K\n",
      "\u001b[K\n",
      "  All of the sample metadata obtained from the ENA has been appended\u001b[K\n",
      "  as additional columns to help you manually curate the samplesheet before\u001b[K\n",
      "  running nf-core/other pipelines.\u001b[K\n",
      "===================================================================================\u001b[39m\u001b[K\n",
      "\u001b[23A\n",
      "\u001b[2mexecutor >  local (6)\u001b[m\u001b[K\n",
      "\u001b[2m[\u001b[0;34mdc/55fff2\u001b[0;2m] \u001b[0;2m\u001b[mNFC…S_TO_RUNINFO\u001b[33;2m (\u001b[0;33mSRR23195511\u001b[2m)\u001b[m\u001b[2m |\u001b[m 2 of 2\u001b[2m, cached: 2\u001b[0;32m ✔\u001b[m\u001b[K\n",
      "\u001b[2m[\u001b[0;34m14/1dd953\u001b[0;2m] \u001b[0;2mNFC…SRA:\u001b[mSRA_RUNINFO_TO_FTP\u001b[33;2m (\u001b[0;33m1\u001b[2m)\u001b[m\u001b[2m |\u001b[m 2 of 2\u001b[2m, cached: 1\u001b[0;32m ✔\u001b[m\u001b[K\n",
      "\u001b[2m[\u001b[0;34m25/64c675\u001b[0;2m] \u001b[0;2m\u001b[mNFC…\u001b[33;2m (\u001b[0;33mSRX19144486_SRR23195516\u001b[2m)\u001b[m\u001b[2m |\u001b[m 2 of 2\u001b[32m ✔\u001b[m\u001b[K\n",
      "\u001b[2m[\u001b[0;34m-        \u001b[0;2m] \u001b[0;2m\u001b[mNFC…USTOM_SRATOOLSNCBISETTINGS -\u001b[K\n",
      "\u001b[2m[\u001b[0;34m-        \u001b[0;2m] \u001b[0;2mNFC…SRATOOLS:\u001b[mSRATOOLS_PREFETCH -\u001b[K\n",
      "\u001b[2m[\u001b[0;34m-        \u001b[0;2m] \u001b[0;2mNFC…TOOLS:\u001b[mSRATOOLS_FASTERQDUMP -\u001b[K\n",
      "\u001b[2m[\u001b[0;34m-        \u001b[0;2m] \u001b[0;2mNFCORE_FETCHNGS:SRA:\u001b[mASPERA_CLI -\u001b[K\n",
      "\u001b[2m[\u001b[0;34m34/ed38a4\u001b[0;2m] \u001b[0;2m\u001b[mNFC…\u001b[33;2m (\u001b[0;33mSRX19144486_SRR23195516\u001b[2m)\u001b[m\u001b[2m |\u001b[m 2 of 2\u001b[32m ✔\u001b[m\u001b[K\n",
      "\u001b[2m[\u001b[0;34me6/481ef5\u001b[0;2m] \u001b[0;2m\u001b[mNFC…ULTIQC_MAPPINGS_CONFIG\u001b[33;2m (\u001b[0;33m1\u001b[2m)\u001b[m\u001b[2m |\u001b[m 1 of 1\u001b[32m ✔\u001b[m\u001b[K\n",
      "Waiting for file transfers to complete (2 files)\u001b[K\n",
      "-\u001b[0;35m[nf-core/fetchngs]\u001b[0;32m Pipeline completed successfully\u001b[0m-\u001b[K\n",
      "\u001b[33mWARN: =============================================================================\u001b[K\n",
      "  Please double-check the samplesheet that has been auto-created by the pipeline.\u001b[K\n",
      "\u001b[K\n",
      "  Public databases don't reliably hold information such as strandedness\u001b[K\n",
      "  information, controls etc\u001b[K\n",
      "\u001b[K\n",
      "  All of the sample metadata obtained from the ENA has been appended\u001b[K\n",
      "  as additional columns to help you manually curate the samplesheet before\u001b[K\n",
      "  running nf-core/other pipelines.\u001b[K\n",
      "===================================================================================\u001b[39m\u001b[K\n",
      "\u001b[32;1mCompleted at: 20-Oct-2024 14:14:53\n",
      "Duration    : 33m 12s\n",
      "CPU hours   : 1.1 (0,1% cached)\n",
      "Succeeded   : 6\n",
      "Cached      : 3\n",
      "\u001b[22;39m\u001b[K\n",
      "\n"
     ]
    }
   ],
   "source": [
    "!nextflow run nf-core/fetchngs -profile docker --input samplesheet.csv --outdir DAY2_1 -resume --max_memory '7GB' --max_cpus 4"
   ]
  },
  {
   "cell_type": "markdown",
   "metadata": {},
   "source": [
    "While your files are downloading, get back to the paper and explain how you would try to reproduce the analysis.<br>\n",
    "When you are done with this shout, so we can discuss the different ideas."
   ]
  },
  {
   "cell_type": "markdown",
   "metadata": {},
   "source": [
    "To try to reproduce the result of the differential expression analysis I would use the pipeline [nf-core/rnaseq](https://nf-co.re/rnaseq/3.16.1/). I would compare the same groups as they did in the paper (SNI-Oxy versus Sham-Sal, SNI-Sal versus Sham-Sal, Sham-Oxy versus Sham-Sal). However, it is likely that the results will deviate from the paper, since they do not employ a nf-core pipeline or a similar framework, which ensures reproducibility."
   ]
  }
 ],
 "metadata": {
  "kernelspec": {
   "display_name": "compworkflows",
   "language": "python",
   "name": "python3"
  },
  "language_info": {
   "codemirror_mode": {
    "name": "ipython",
    "version": 3
   },
   "file_extension": ".py",
   "mimetype": "text/x-python",
   "name": "python",
   "nbconvert_exporter": "python",
   "pygments_lexer": "ipython3",
   "version": "3.10.15"
  }
 },
 "nbformat": 4,
 "nbformat_minor": 2
}
