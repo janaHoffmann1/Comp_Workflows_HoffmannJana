{
 "cells": [
  {
   "cell_type": "markdown",
   "metadata": {},
   "source": [
    "# A short introduction to containerized software\n",
    "\n",
    "After spending using nf-core pipelines to answer bioinformatic questions, we will focus on the processes that lie behind these pipelines now.\n",
    "\n",
    "Today, we will focus on containerization, namely via Docker. \n",
    "\n"
   ]
  },
  {
   "cell_type": "markdown",
   "metadata": {},
   "source": [
    "1. Check if Docker is installed."
   ]
  },
  {
   "cell_type": "code",
   "execution_count": 1,
   "metadata": {},
   "outputs": [
    {
     "name": "stdout",
     "output_type": "stream",
     "text": [
      "Client: Docker Engine - Community\n",
      " Version:    27.3.1\n",
      " Context:    desktop-linux\n",
      " Debug Mode: false\n",
      " Plugins:\n",
      "  buildx: Docker Buildx (Docker Inc.)\n",
      "    Version:  v0.16.2-desktop.1\n",
      "    Path:     /usr/lib/docker/cli-plugins/docker-buildx\n",
      "  compose: Docker Compose (Docker Inc.)\n",
      "    Version:  v2.29.2-desktop.2\n",
      "    Path:     /usr/lib/docker/cli-plugins/docker-compose\n",
      "  debug: Get a shell into any image or container (Docker Inc.)\n",
      "    Version:  0.0.34\n",
      "    Path:     /usr/lib/docker/cli-plugins/docker-debug\n",
      "  desktop: Docker Desktop commands (Alpha) (Docker Inc.)\n",
      "    Version:  v0.0.15\n",
      "    Path:     /usr/lib/docker/cli-plugins/docker-desktop\n",
      "  dev: Docker Dev Environments (Docker Inc.)\n",
      "    Version:  v0.1.2\n",
      "    Path:     /usr/lib/docker/cli-plugins/docker-dev\n",
      "  extension: Manages Docker extensions (Docker Inc.)\n",
      "    Version:  v0.2.25\n",
      "    Path:     /usr/lib/docker/cli-plugins/docker-extension\n",
      "  feedback: Provide feedback, right in your terminal! (Docker Inc.)\n",
      "    Version:  v1.0.5\n",
      "    Path:     /usr/lib/docker/cli-plugins/docker-feedback\n",
      "  init: Creates Docker-related starter files for your project (Docker Inc.)\n",
      "    Version:  v1.3.0\n",
      "    Path:     /usr/lib/docker/cli-plugins/docker-init\n",
      "  sbom: View the packaged-based Software Bill Of Materials (SBOM) for an image (Anchore Inc.)\n",
      "    Version:  0.6.0\n",
      "    Path:     /usr/lib/docker/cli-plugins/docker-sbom\n",
      "  scout: Docker Scout (Docker Inc.)\n",
      "    Version:  v1.13.0\n",
      "    Path:     /usr/lib/docker/cli-plugins/docker-scout\n",
      "\n",
      "Server:\n",
      " Containers: 4\n",
      "  Running: 0\n",
      "  Paused: 0\n",
      "  Stopped: 4\n",
      " Images: 1\n",
      " Server Version: 27.2.0\n",
      " Storage Driver: overlayfs\n",
      "  driver-type: io.containerd.snapshotter.v1\n",
      " Logging Driver: json-file\n",
      " Cgroup Driver: cgroupfs\n",
      " Cgroup Version: 2\n",
      " Plugins:\n",
      "  Volume: local\n",
      "  Network: bridge host ipvlan macvlan null overlay\n",
      "  Log: awslogs fluentd gcplogs gelf journald json-file local splunk syslog\n",
      " Swarm: inactive\n",
      " Runtimes: runc io.containerd.runc.v2\n",
      " Default Runtime: runc\n",
      " Init Binary: docker-init\n",
      " containerd version: 8fc6bcff51318944179630522a095cc9dbf9f353\n",
      " runc version: v1.1.13-0-g58aa920\n",
      " init version: de40ad0\n",
      " Security Options:\n",
      "  seccomp\n",
      "   Profile: unconfined\n",
      "  cgroupns\n",
      " Kernel Version: 6.10.4-linuxkit\n",
      " Operating System: Docker Desktop\n",
      " OSType: linux\n",
      " Architecture: x86_64\n",
      " CPUs: 4\n",
      " Total Memory: 1.826GiB\n",
      " Name: docker-desktop\n",
      " ID: 64831123-4198-4659-9778-8a5b5b336991\n",
      " Docker Root Dir: /var/lib/docker\n",
      " Debug Mode: false\n",
      " HTTP Proxy: http.docker.internal:3128\n",
      " HTTPS Proxy: http.docker.internal:3128\n",
      " No Proxy: hubproxy.docker.internal\n",
      " Labels:\n",
      "  com.docker.desktop.address=unix:///home/jana/.docker/desktop/docker-cli.sock\n",
      " Experimental: false\n",
      " Insecure Registries:\n",
      "  hubproxy.docker.internal:5555\n",
      "  127.0.0.0/8\n",
      " Live Restore Enabled: false\n",
      "\n",
      "WARNING: daemon is not using the default seccomp profile\n"
     ]
    }
   ],
   "source": [
    "!docker info"
   ]
  },
  {
   "cell_type": "markdown",
   "metadata": {},
   "source": [
    "### What is a container?"
   ]
  },
  {
   "cell_type": "markdown",
   "metadata": {},
   "source": [
    "A docker container is an environments that includes the code and all dependencies of the code that an application needs to run [[source]](https://www.docker.com/resources/what-container/). "
   ]
  },
  {
   "cell_type": "markdown",
   "metadata": {},
   "source": [
    "### Why do we use containers?"
   ]
  },
  {
   "cell_type": "markdown",
   "metadata": {},
   "source": [
    "We use containers because they include everything a application needs to run and they make results reproducible across different environments [[source]](https://www.docker.com/resources/what-container/)."
   ]
  },
  {
   "cell_type": "markdown",
   "metadata": {},
   "source": [
    "### What is a docker image?"
   ]
  },
  {
   "cell_type": "markdown",
   "metadata": {},
   "source": [
    "A docker container needs files, binaries, libraries and configurations to run[[source]](https://docs.docker.com/get-started/docker-concepts/the-basics/what-is-an-image/). The docker image of a docker contains these information. "
   ]
  },
  {
   "cell_type": "markdown",
   "metadata": {},
   "source": [
    "### Let's run our first docker image:"
   ]
  },
  {
   "cell_type": "markdown",
   "metadata": {},
   "source": [
    "### Login to docker"
   ]
  },
  {
   "cell_type": "code",
   "execution_count": 2,
   "metadata": {},
   "outputs": [],
   "source": [
    "# This you need to do on the command line directly"
   ]
  },
  {
   "cell_type": "markdown",
   "metadata": {},
   "source": [
    "### Run your first docker container"
   ]
  },
  {
   "cell_type": "code",
   "execution_count": 131,
   "metadata": {},
   "outputs": [
    {
     "name": "stdout",
     "output_type": "stream",
     "text": [
      "\n",
      "Hello from Docker!\n",
      "This message shows that your installation appears to be working correctly.\n",
      "\n",
      "To generate this message, Docker took the following steps:\n",
      " 1. The Docker client contacted the Docker daemon.\n",
      " 2. The Docker daemon pulled the \"hello-world\" image from the Docker Hub.\n",
      "    (amd64)\n",
      " 3. The Docker daemon created a new container from that image which runs the\n",
      "    executable that produces the output you are currently reading.\n",
      " 4. The Docker daemon streamed that output to the Docker client, which sent it\n",
      "    to your terminal.\n",
      "\n",
      "To try something more ambitious, you can run an Ubuntu container with:\n",
      " $ docker run -it ubuntu bash\n",
      "\n",
      "Share images, automate workflows, and more with a free Docker ID:\n",
      " https://hub.docker.com/\n",
      "\n",
      "For more examples and ideas, visit:\n",
      " https://docs.docker.com/get-started/\n",
      "\n"
     ]
    }
   ],
   "source": [
    "!docker run hello-world"
   ]
  },
  {
   "cell_type": "markdown",
   "metadata": {},
   "source": [
    "### Find the container ID"
   ]
  },
  {
   "cell_type": "code",
   "execution_count": 132,
   "metadata": {},
   "outputs": [
    {
     "name": "stdout",
     "output_type": "stream",
     "text": [
      "CONTAINER ID   IMAGE         COMMAND    CREATED         STATUS                    PORTS     NAMES\n",
      "e27a1ad13e52   hello-world   \"/hello\"   2 seconds ago   Exited (0) 1 second ago             serene_aryabhata\n"
     ]
    }
   ],
   "source": [
    "!docker ps --all "
   ]
  },
  {
   "cell_type": "markdown",
   "metadata": {},
   "source": [
    "### Delete the container again, give prove its deleted"
   ]
  },
  {
   "cell_type": "code",
   "execution_count": 134,
   "metadata": {},
   "outputs": [
    {
     "name": "stdout",
     "output_type": "stream",
     "text": [
      "serene_aryabhata\n"
     ]
    }
   ],
   "source": [
    "!docker rm serene_aryabhata"
   ]
  },
  {
   "cell_type": "code",
   "execution_count": 135,
   "metadata": {},
   "outputs": [
    {
     "name": "stdout",
     "output_type": "stream",
     "text": [
      "CONTAINER ID   IMAGE     COMMAND   CREATED   STATUS    PORTS     NAMES\n"
     ]
    }
   ],
   "source": [
    "!docker ps --all"
   ]
  },
  {
   "cell_type": "markdown",
   "metadata": {},
   "source": [
    "### FASTQC is a very useful tool as you've learned last week. Let's try and run it from command line\n",
    "\n",
    "Link to the software: https://www.bioinformatics.babraham.ac.uk/projects/fastqc/"
   ]
  },
  {
   "cell_type": "markdown",
   "metadata": {},
   "source": [
    "Please describe the steps you took to download and run the software for the example fastq file from last week below:"
   ]
  },
  {
   "cell_type": "markdown",
   "metadata": {},
   "source": [
    "1. Check if java is installed.\n",
    "2. Download of fastqc_v0.12.1.zip.\n",
    "3. Create a directory for the installation.\n",
    "4. Unzip the file.\n",
    "5. Add the path of the tool to $PATH.\n",
    "6. mkdir DAY4_fastqc\n",
    "7. fastqc fastq/SRX19144486_SRR23195516_1.fastq.gz fastq/SRX19144486_SRR23195516_2.fastq.gz fastq/SRX19144488_SRR23195511_1.fastq.gz fastq/SRX19144488_SRR23195511_2.fastq.gz -o DAY4_fastqc\n"
   ]
  },
  {
   "cell_type": "markdown",
   "metadata": {},
   "source": [
    "### Very well, now let's try to make use of its docker container\n",
    "\n",
    "1. create a container holding fastqc using seqera containers (https://seqera.io/containers/)\n",
    "2. use the container to generate a fastqc html of the example fastq file"
   ]
  },
  {
   "cell_type": "code",
   "execution_count": 145,
   "metadata": {},
   "outputs": [
    {
     "name": "stdout",
     "output_type": "stream",
     "text": [
      "0.12.1--5cfd0f3cb6760c42: Pulling from library/fastqc\n",
      "\n",
      "\u001b[1B6e1d0b98: Pulling fs layer \n",
      "\u001b[1Bf787139d: Pulling fs layer \n",
      "\u001b[1Bb700ef54: Pulling fs layer \n",
      "\u001b[1B62c12ca7: Pulling fs layer \n",
      "\u001b[1Bcbe24e91: Pulling fs layer \n",
      "\u001b[1B55536720: Pulling fs layer \n",
      "\u001b[1Bb3717211: Pulling fs layer \n",
      "\u001b[1B1e94977b: Pulling fs layer \n",
      "\u001b[1Bf7ad9b3c: Pulling fs layer \n",
      "\u001b[1B529b9f20: Pulling fs layer \n",
      "\u001b[1Bca300600: Pulling fs layer \n",
      "\u001b[1Bd418774c: Pulling fs layer \n",
      "\u001b[13Be1d0b98: Download complete MB/404.5MBA\u001b[2K\u001b[9A\u001b[2K\u001b[10A\u001b[2K\u001b[12A\u001b[2K\u001b[11A\u001b[2K\u001b[11A\u001b[2K\u001b[12A\u001b[2K\u001b[5A\u001b[2K\u001b[8A\u001b[2K\u001b[1A\u001b[2K\u001b[13A\u001b[2K\u001b[1A\u001b[2K\u001b[3A\u001b[2K\u001b[7A\u001b[2K\u001b[3A\u001b[2K\u001b[3A\u001b[2K\u001b[7A\u001b[2K\u001b[7A\u001b[2K\u001b[7A\u001b[2K\u001b[13A\u001b[2K\u001b[7A\u001b[2K\u001b[13A\u001b[2K\u001b[3A\u001b[2K\u001b[3A\u001b[2K\u001b[13A\u001b[2K\u001b[13A\u001b[2K\u001b[13A\u001b[2K\u001b[13A\u001b[2K\u001b[7A\u001b[2K\u001b[7A\u001b[2K\u001b[7A\u001b[2K\u001b[7A\u001b[2K\u001b[7A\u001b[2K\u001b[13A\u001b[2K\u001b[7A\u001b[2K\u001b[13A\u001b[2K\u001b[13A\u001b[2K\u001b[7A\u001b[2K\u001b[13A\u001b[2K\u001b[13A\u001b[2K\u001b[7A\u001b[2K\u001b[7A\u001b[2K\u001b[13A\u001b[2K\u001b[7A\u001b[2K\u001b[7A\u001b[2K\u001b[7A\u001b[2K\u001b[13A\u001b[2K\u001b[13A\u001b[2K\u001b[13A\u001b[2K\u001b[13A\u001b[2K\u001b[7A\u001b[2K\u001b[13A\u001b[2K\u001b[7A\u001b[2K\u001b[13A\u001b[2K\u001b[13A\u001b[2K\u001b[7A\u001b[2K\u001b[13A\u001b[2K\u001b[13A\u001b[2K\u001b[13A\u001b[2K\u001b[13A\u001b[2K\u001b[13A\u001b[2K\u001b[7A\u001b[2K\u001b[7A\u001b[2K\u001b[13A\u001b[2K\u001b[7A\u001b[2K\u001b[13A\u001b[2K\u001b[13A\u001b[2K\u001b[13A\u001b[2K\u001b[13A\u001b[2K\u001b[13A\u001b[2K\u001b[7A\u001b[2K\u001b[7A\u001b[2K\u001b[13A\u001b[2K\u001b[7A\u001b[2K\u001b[13A\u001b[2K\u001b[13A\u001b[2K\u001b[7A\u001b[2K\u001b[7A\u001b[2K\u001b[13A\u001b[2K\u001b[7A\u001b[2K\u001b[13A\u001b[2K\u001b[7A\u001b[2K\u001b[7A\u001b[2K\u001b[13A\u001b[2K\u001b[7A\u001b[2K\u001b[13A\u001b[2K\u001b[13A\u001b[2K\u001b[7A\u001b[2K\u001b[13A\u001b[2K\u001b[7A\u001b[2K\u001b[13A\u001b[2K\u001b[13A\u001b[2K\u001b[13A\u001b[2K\u001b[13A\u001b[2K\u001b[13A\u001b[2K\u001b[7A\u001b[2K\u001b[13A\u001b[2K\u001b[13A\u001b[2K\u001b[13A\u001b[2K\u001b[13A\u001b[2K\u001b[13A\u001b[2K\u001b[13A\u001b[2K\u001b[13A\u001b[2K\u001b[13A\u001b[2K\u001b[13A\u001b[2K\u001b[13A\u001b[2K\u001b[13A\u001b[2K\u001b[13A\u001b[2K\u001b[13A\u001b[2K\u001b[13A\u001b[2K\u001b[13A\u001b[2K\u001b[13A\u001b[2K\u001b[13A\u001b[2K\u001b[13A\u001b[2K\u001b[13A\u001b[2K\u001b[13A\u001b[2K\u001b[13A\u001b[2K\u001b[13A\u001b[2K\u001b[13A\u001b[2K\u001b[13A\u001b[2K\u001b[13A\u001b[2K\u001b[13A\u001b[2K\u001b[13A\u001b[2K\u001b[13A\u001b[2K\u001b[13A\u001b[2K\u001b[13A\u001b[2K\u001b[13A\u001b[2K\u001b[13A\u001b[2K\u001b[13A\u001b[2K\u001b[13A\u001b[2K\u001b[13A\u001b[2K\u001b[13A\u001b[2K\u001b[13A\u001b[2K\u001b[13A\u001b[2K\u001b[13A\u001b[2K\u001b[13A\u001b[2K\u001b[13A\u001b[2K\u001b[13A\u001b[2K\u001b[13A\u001b[2K\u001b[13A\u001b[2K\u001b[13A\u001b[2K\u001b[13A\u001b[2K\u001b[13A\u001b[2K\u001b[13A\u001b[2K\u001b[13A\u001b[2K\u001b[13A\u001b[2K\u001b[13A\u001b[2K\u001b[13A\u001b[2K\u001b[13A\u001b[2K\u001b[13A\u001b[2K\u001b[13A\u001b[2K\u001b[13A\u001b[2K\u001b[13A\u001b[2K\u001b[13A\u001b[2K\u001b[13A\u001b[2K\u001b[13A\u001b[2K\u001b[13A\u001b[2K\u001b[13A\u001b[2K\u001b[13A\u001b[2K\u001b[13A\u001b[2K\u001b[13A\u001b[2K\u001b[13A\u001b[2K\u001b[13A\u001b[2K\u001b[13A\u001b[2K\u001b[13A\u001b[2K\u001b[13A\u001b[2K\u001b[13A\u001b[2K\u001b[13A\u001b[2K\u001b[13A\u001b[2K\u001b[13A\u001b[2K\u001b[13A\u001b[2K\u001b[13A\u001b[2K\u001b[13A\u001b[2K\u001b[13A\u001b[2K\u001b[13A\u001b[2K\u001b[13A\u001b[2K\u001b[13A\u001b[2K\u001b[13A\u001b[2K\u001b[13A\u001b[2K\u001b[13A\u001b[2K\u001b[13A\u001b[2K\u001b[13A\u001b[2K\u001b[13A\u001b[2K\u001b[13A\u001b[2K\u001b[13A\u001b[2K\u001b[13A\u001b[2K\u001b[13A\u001b[2K\u001b[13A\u001b[2K\u001b[13A\u001b[2K\u001b[13A\u001b[2K\u001b[13A\u001b[2K\u001b[13A\u001b[2K\u001b[13A\u001b[2K\u001b[13A\u001b[2K\u001b[13A\u001b[2K\u001b[13A\u001b[2K\u001b[13A\u001b[2K\u001b[13A\u001b[2K\u001b[13A\u001b[2K\u001b[13A\u001b[2K\u001b[13A\u001b[2K\u001b[13A\u001b[2K\u001b[13A\u001b[2K\u001b[13A\u001b[2K\u001b[13A\u001b[2K\u001b[13A\u001b[2K\u001b[13A\u001b[2K\u001b[13A\u001b[2K\u001b[13A\u001b[2K\u001b[13A\u001b[2K\u001b[13A\u001b[2K\u001b[13A\u001b[2K\u001b[13A\u001b[2K\u001b[13A\u001b[2K\u001b[13A\u001b[2K\u001b[13A\u001b[2K\u001b[13A\u001b[2K\u001b[13A\u001b[2K\u001b[13A\u001b[2K\u001b[13A\u001b[2K\u001b[13A\u001b[2K\u001b[13A\u001b[2K\u001b[13A\u001b[2K\u001b[13A\u001b[2K\u001b[13A\u001b[2K\u001b[13A\u001b[2K\u001b[13A\u001b[2K\u001b[13A\u001b[2K\u001b[13A\u001b[2K\u001b[13A\u001b[2K\u001b[13A\u001b[2K\u001b[13A\u001b[2K\u001b[13A\u001b[2K\u001b[13A\u001b[2K\u001b[13A\u001b[2K\u001b[13A\u001b[2K\u001b[13A\u001b[2K\u001b[13A\u001b[2K\u001b[13A\u001b[2K\u001b[13A\u001b[2K\u001b[13A\u001b[2K\u001b[13A\u001b[2K\u001b[13A\u001b[2K\u001b[13A\u001b[2K\u001b[13A\u001b[2K\u001b[13A\u001b[2K\u001b[13A\u001b[2K\u001b[13A\u001b[2K\u001b[13A\u001b[2K\u001b[13A\u001b[2K\u001b[13A\u001b[2K\u001b[13A\u001b[2K\u001b[13A\u001b[2K\u001b[13A\u001b[2K\u001b[13A\u001b[2K\u001b[13A\u001b[2K\u001b[13A\u001b[2K\u001b[13A\u001b[2K\u001b[13A\u001b[2K\u001b[13A\u001b[2K\u001b[13A\u001b[2K\u001b[13A\u001b[2K\u001b[13A\u001b[2K\u001b[13A\u001b[2K\u001b[13A\u001b[2K\u001b[13A\u001b[2K\u001b[13A\u001b[2K\u001b[13A\u001b[2K\u001b[13A\u001b[2K\u001b[13A\u001b[2K\u001b[13A\u001b[2K\u001b[13A\u001b[2K\u001b[13A\u001b[2K\u001b[13A\u001b[2K\u001b[13A\u001b[2K\u001b[13A\u001b[2K\u001b[13A\u001b[2K\u001b[13A\u001b[2K\u001b[13A\u001b[2K\u001b[13A\u001b[2K\u001b[13A\u001b[2K\u001b[13A\u001b[2K\u001b[13A\u001b[2K\u001b[13A\u001b[2K\u001b[13A\u001b[2K\u001b[13A\u001b[2K\u001b[13A\u001b[2K\u001b[13A\u001b[2K\u001b[13A\u001b[2K\u001b[13A\u001b[2K\u001b[13A\u001b[2K\u001b[13A\u001b[2K\u001b[13A\u001b[2K\u001b[13A\u001b[2K\u001b[13A\u001b[2K\u001b[13A\u001b[2K\u001b[13A\u001b[2K\u001b[13A\u001b[2K\u001b[13A\u001b[2K\u001b[13A\u001b[2K\u001b[13A\u001b[2K\u001b[13A\u001b[2K\u001b[13A\u001b[2K\u001b[13A\u001b[2K\u001b[13A\u001b[2K\u001b[13A\u001b[2K\u001b[13A\u001b[2K\u001b[13A\u001b[2K\u001b[13A\u001b[2K\u001b[13A\u001b[2K\u001b[13A\u001b[2K\u001b[13A\u001b[2K\u001b[13A\u001b[2K\u001b[13A\u001b[2K\u001b[13A\u001b[2K\u001b[13A\u001b[2K\u001b[13A\u001b[2K\u001b[13A\u001b[2K\u001b[13A\u001b[2K\u001b[13A\u001b[2K\u001b[13A\u001b[2K\u001b[13A\u001b[2K\u001b[13A\u001b[2K\u001b[13A\u001b[2K\u001b[13A\u001b[2K\u001b[13A\u001b[2K\u001b[13A\u001b[2K\u001b[13A\u001b[2K\u001b[13A\u001b[2K\u001b[13A\u001b[2K\u001b[13A\u001b[2K\u001b[13A\u001b[2K\u001b[13A\u001b[2K\u001b[13A\u001b[2K\u001b[13A\u001b[2K\u001b[13A\u001b[2K\u001b[13A\u001b[2K\u001b[13A\u001b[2K\u001b[13A\u001b[2K\u001b[13A\u001b[2K\u001b[13A\u001b[2K\u001b[13A\u001b[2K\u001b[13A\u001b[2K\u001b[13A\u001b[2K\u001b[13A\u001b[2K\u001b[13A\u001b[2K\u001b[13A\u001b[2K\u001b[13A\u001b[2K\u001b[13A\u001b[2K\u001b[13A\u001b[2K\u001b[13A\u001b[2K\u001b[13A\u001b[2K\u001b[13A\u001b[2K\u001b[13A\u001b[2K\u001b[13A\u001b[2K\u001b[13A\u001b[2K\u001b[13A\u001b[2K\u001b[13A\u001b[2K\u001b[13A\u001b[2K\u001b[13A\u001b[2K\u001b[13A\u001b[2K\u001b[13A\u001b[2K\u001b[13A\u001b[2K\u001b[13A\u001b[2K\u001b[13A\u001b[2K\u001b[13A\u001b[2K\u001b[13A\u001b[2K\u001b[13A\u001b[2K\u001b[13A\u001b[2K\u001b[13A\u001b[2K\u001b[13A\u001b[2K\u001b[13A\u001b[2K\u001b[13A\u001b[2K\u001b[13A\u001b[2K\u001b[13A\u001b[2K\u001b[13A\u001b[2K\u001b[13A\u001b[2K\u001b[13A\u001b[2K\u001b[13A\u001b[2K\u001b[13A\u001b[2K\u001b[13A\u001b[2K\u001b[13A\u001b[2K\u001b[13A\u001b[2K\u001b[13A\u001b[2K\u001b[13A\u001b[2K\u001b[13A\u001b[2K\u001b[13A\u001b[2K\u001b[13A\u001b[2K\u001b[13A\u001b[2K\u001b[13A\u001b[2K\u001b[13A\u001b[2K\u001b[13A\u001b[2K\u001b[13A\u001b[2K\u001b[13A\u001b[2K\u001b[13A\u001b[2K\u001b[13A\u001b[2K\u001b[13A\u001b[2K\u001b[13A\u001b[2K\u001b[13A\u001b[2K\u001b[13A\u001b[2K\u001b[13A\u001b[2K\u001b[13A\u001b[2K\u001b[13A\u001b[2K\u001b[13A\u001b[2K\u001b[13A\u001b[2K\u001b[13A\u001b[2K\u001b[13A\u001b[2K\u001b[13A\u001b[2K\u001b[13A\u001b[2K\u001b[13A\u001b[2K\u001b[13A\u001b[2K\u001b[13A\u001b[2K\u001b[13A\u001b[2K\u001b[13A\u001b[2K\u001b[13A\u001b[2K\u001b[13A\u001b[2K\u001b[13A\u001b[2K\u001b[13A\u001b[2K\u001b[13A\u001b[2K\u001b[13A\u001b[2K\u001b[13A\u001b[2K\u001b[13A\u001b[2K\u001b[13A\u001b[2K\u001b[13A\u001b[2K\u001b[13A\u001b[2K\u001b[13A\u001b[2K\u001b[13A\u001b[2K\u001b[13A\u001b[2K\u001b[13A\u001b[2K\u001b[13A\u001b[2K\u001b[13A\u001b[2K\u001b[13A\u001b[2K\u001b[13A\u001b[2K\u001b[13A\u001b[2K\u001b[13A\u001b[2K\u001b[13A\u001b[2K\u001b[13A\u001b[2K\u001b[13A\u001b[2K\u001b[13A\u001b[2K\u001b[13A\u001b[2K\u001b[13A\u001b[2K\u001b[13A\u001b[2K\u001b[13A\u001b[2K\u001b[13A\u001b[2K\u001b[13A\u001b[2K\u001b[13A\u001b[2K\u001b[13A\u001b[2K\u001b[13A\u001b[2K\u001b[13A\u001b[2K\u001b[13A\u001b[2K\u001b[13A\u001b[2K\u001b[13A\u001b[2K\u001b[13A\u001b[2K\u001b[13A\u001b[2K\u001b[13A\u001b[2K\u001b[13A\u001b[2K\u001b[13A\u001b[2K\u001b[13A\u001b[2K\u001b[13A\u001b[2K\u001b[13A\u001b[2K\u001b[13A\u001b[2K\u001b[13A\u001b[2K\u001b[13A\u001b[2K\u001b[13A\u001b[2K\u001b[13A\u001b[2K\u001b[13A\u001b[2K\u001b[13A\u001b[2K\u001b[13A\u001b[2K\u001b[13A\u001b[2K\u001b[13A\u001b[2K\u001b[13A\u001b[2K\u001b[13A\u001b[2K\u001b[13A\u001b[2K\u001b[13A\u001b[2K\u001b[13A\u001b[2K\u001b[13A\u001b[2K\u001b[13A\u001b[2K\u001b[13A\u001b[2K\u001b[13A\u001b[2K\u001b[13A\u001b[2K\u001b[13A\u001b[2K\u001b[13A\u001b[2K\u001b[13A\u001b[2K\u001b[13A\u001b[2K\u001b[13A\u001b[2K\u001b[13A\u001b[2K\u001b[13A\u001b[2K\u001b[13A\u001b[2K\u001b[13A\u001b[2K\u001b[13A\u001b[2K\u001b[13A\u001b[2K\u001b[13A\u001b[2K\u001b[13A\u001b[2K\u001b[13A\u001b[2K\u001b[13A\u001b[2K\u001b[13A\u001b[2K\u001b[13A\u001b[2K\u001b[13A\u001b[2K\u001b[13A\u001b[2K\u001b[13A\u001b[2K\u001b[13A\u001b[2K\u001b[13A\u001b[2K\u001b[13A\u001b[2K\u001b[13A\u001b[2K\u001b[13A\u001b[2K\u001b[13A\u001b[2K\u001b[13A\u001b[2K\u001b[13A\u001b[2K\u001b[13A\u001b[2K\u001b[13A\u001b[2K\u001b[13A\u001b[2K\u001b[13A\u001b[2K\u001b[13A\u001b[2K\u001b[13A\u001b[2K\u001b[13A\u001b[2K\u001b[13A\u001b[2K\u001b[13A\u001b[2K\u001b[13A\u001b[2K\u001b[13A\u001b[2K\u001b[13A\u001b[2K\u001b[13A\u001b[2K\u001b[13A\u001b[2K\u001b[13A\u001b[2K\u001b[13A\u001b[2K\u001b[13A\u001b[2K\u001b[13A\u001b[2K\u001b[13A\u001b[2K\u001b[13A\u001b[2K\u001b[13A\u001b[2K\u001b[13A\u001b[2K\u001b[13A\u001b[2K\u001b[13A\u001b[2K\u001b[13A\u001b[2K\u001b[13A\u001b[2K\u001b[13A\u001b[2K\u001b[13A\u001b[2K\u001b[13A\u001b[2K\u001b[13A\u001b[2K\u001b[13A\u001b[2K\u001b[13A\u001b[2K\u001b[13A\u001b[2K\u001b[13A\u001b[2K\u001b[13A\u001b[2K\u001b[13A\u001b[2K\u001b[13A\u001b[2K\u001b[13A\u001b[2K\u001b[13A\u001b[2K\u001b[13A\u001b[2K\u001b[13A\u001b[2K\u001b[13A\u001b[2K\u001b[13A\u001b[2K\u001b[13A\u001b[2K\u001b[13A\u001b[2K\u001b[13A\u001b[2K\u001b[13A\u001b[2K\u001b[13A\u001b[2K\u001b[13A\u001b[2K\u001b[13A\u001b[2K\u001b[13A\u001b[2K\u001b[13A\u001b[2K\u001b[13A\u001b[2K\u001b[13A\u001b[2K\u001b[13A\u001b[2K\u001b[13A\u001b[2K\u001b[13A\u001b[2K\u001b[13A\u001b[2K\u001b[13A\u001b[2K\u001b[13A\u001b[2K\u001b[13A\u001b[2K\u001b[13A\u001b[2K\u001b[13A\u001b[2K\u001b[13A\u001b[2K\u001b[13A\u001b[2K\u001b[13A\u001b[2K\u001b[13A\u001b[2K\u001b[13A\u001b[2K\u001b[13A\u001b[2K\u001b[13A\u001b[2K\u001b[13A\u001b[2K\u001b[13A\u001b[2K\u001b[13A\u001b[2K\u001b[13A\u001b[2K\u001b[13A\u001b[2K\u001b[13A\u001b[2K\u001b[13A\u001b[2K\u001b[13A\u001b[2K\u001b[13A\u001b[2K\u001b[13A\u001b[2K\u001b[13A\u001b[2K\u001b[13A\u001b[2K\u001b[13A\u001b[2K\u001b[13A\u001b[2K\u001b[13A\u001b[2K\u001b[13A\u001b[2K\u001b[13A\u001b[2K\u001b[13A\u001b[2K\u001b[13A\u001b[2K\u001b[13A\u001b[2K\u001b[13A\u001b[2K\u001b[13A\u001b[2K\u001b[13A\u001b[2K\u001b[13A\u001b[2K\u001b[13A\u001b[2K\u001b[13A\u001b[2K\u001b[13A\u001b[2K\u001b[13A\u001b[2K\u001b[13A\u001b[2K\u001b[13A\u001b[2K\u001b[13A\u001b[2K\u001b[13A\u001b[2K\u001b[13A\u001b[2K\u001b[13A\u001b[2K\u001b[13A\u001b[2K\u001b[13A\u001b[2K\u001b[13A\u001b[2K\u001b[13A\u001b[2K\u001b[13A\u001b[2K\u001b[13A\u001b[2K\u001b[13A\u001b[2K\u001b[13A\u001b[2K\u001b[13A\u001b[2K\u001b[13A\u001b[2K\u001b[13A\u001b[2K\u001b[13A\u001b[2K\u001b[13A\u001b[2K\u001b[13A\u001b[2K\u001b[13A\u001b[2K\u001b[13A\u001b[2K\u001b[13A\u001b[2K\u001b[13A\u001b[2K\u001b[13A\u001b[2K\u001b[13A\u001b[2K\u001b[13A\u001b[2K\u001b[13A\u001b[2K\u001b[13A\u001b[2K\u001b[13A\u001b[2K\u001b[13A\u001b[2K\u001b[13A\u001b[2K\u001b[13A\u001b[2K\u001b[13A\u001b[2K\u001b[13A\u001b[2K\u001b[13A\u001b[2K\u001b[13A\u001b[2K\u001b[13A\u001b[2K\u001b[13A\u001b[2K\u001b[13A\u001b[2K\u001b[13A\u001b[2K\u001b[13A\u001b[2K\u001b[13A\u001b[2K\u001b[13A\u001b[2K\u001b[13A\u001b[2K\u001b[13A\u001b[2K\u001b[13A\u001b[2K\u001b[13A\u001b[2K\u001b[13A\u001b[2K\u001b[13A\u001b[2K\u001b[13A\u001b[2K\u001b[13A\u001b[2K\u001b[13A\u001b[2K\u001b[13A\u001b[2K\u001b[13A\u001b[2K\u001b[13A\u001b[2K\u001b[13A\u001b[2K\u001b[13A\u001b[2K\u001b[13A\u001b[2K\u001b[13A\u001b[2K\u001b[13A\u001b[2K\u001b[13A\u001b[2K\u001b[13A\u001b[2K\u001b[13A\u001b[2K\u001b[13A\u001b[2K\u001b[13A\u001b[2K\u001b[13A\u001b[2K\u001b[13A\u001b[2K\u001b[13A\u001b[2K\u001b[13A\u001b[2K\u001b[13A\u001b[2K\u001b[13A\u001b[2K\u001b[13A\u001b[2K\u001b[13A\u001b[2K\u001b[13A\u001b[2K\u001b[13A\u001b[2K\u001b[13A\u001b[2K\u001b[13A\u001b[2K\u001b[13A\u001b[2K\u001b[13A\u001b[2K\u001b[13A\u001b[2K\u001b[13A\u001b[2K\u001b[13A\u001b[2K\u001b[13A\u001b[2K\u001b[13A\u001b[2K\u001b[13A\u001b[2K\u001b[13A\u001b[2K\u001b[13A\u001b[2K\u001b[13A\u001b[2K\u001b[13A\u001b[2K\u001b[13A\u001b[2K\u001b[13A\u001b[2K\u001b[13A\u001b[2K\u001b[13A\u001b[2K\u001b[13A\u001b[2K\u001b[13A\u001b[2K\u001b[13A\u001b[2K\u001b[13A\u001b[2K\u001b[13A\u001b[2K\u001b[13A\u001b[2K\u001b[13A\u001b[2K\u001b[13A\u001b[2K\u001b[13A\u001b[2K\u001b[13A\u001b[2K\u001b[13A\u001b[2K\u001b[13A\u001b[2K\u001b[13A\u001b[2K\u001b[13A\u001b[2K\u001b[13A\u001b[2K\u001b[13A\u001b[2K\u001b[13A\u001b[2K\u001b[13A\u001b[2K\u001b[13A\u001b[2K\u001b[13A\u001b[2K\u001b[13A\u001b[2K\u001b[13A\u001b[2K\u001b[13A\u001b[2K\u001b[13A\u001b[2K\u001b[13A\u001b[2K\u001b[13A\u001b[2K\u001b[13A\u001b[2K\u001b[13A\u001b[2K\u001b[13A\u001b[2K\u001b[13A\u001b[2K\u001b[13A\u001b[2K\u001b[13A\u001b[2K\u001b[13A\u001b[2K\u001b[13A\u001b[2K\u001b[13A\u001b[2K\u001b[13A\u001b[2K\u001b[13A\u001b[2K\u001b[13A\u001b[2K\u001b[13A\u001b[2K\u001b[13A\u001b[2K\u001b[13A\u001b[2K\u001b[13A\u001b[2K\u001b[13A\u001b[2K\u001b[13A\u001b[2K\u001b[13A\u001b[2K\u001b[13A\u001b[2K\u001b[13A\u001b[2K\u001b[13A\u001b[2K\u001b[13A\u001b[2K\u001b[13A\u001b[2K\u001b[13A\u001b[2K\u001b[13A\u001b[2K\u001b[13A\u001b[2K\u001b[13A\u001b[2K\u001b[13A\u001b[2K\u001b[13A\u001b[2K\u001b[13A\u001b[2K\u001b[13A\u001b[2K\u001b[13A\u001b[2K\u001b[13A\u001b[2K\u001b[13A\u001b[2K\u001b[13A\u001b[2K\u001b[13A\u001b[2K\u001b[13A\u001b[2K\u001b[13A\u001b[2K\u001b[13A\u001b[2K\u001b[13A\u001b[2K\u001b[13A\u001b[2K\u001b[13A\u001b[2K\u001b[13A\u001b[2K\u001b[13A\u001b[2K\u001b[13A\u001b[2K\u001b[13A\u001b[2K\u001b[13A\u001b[2K\u001b[13A\u001b[2K\u001b[13A\u001b[2K\u001b[13A\u001b[2K\u001b[13A\u001b[2K\u001b[13A\u001b[2K\u001b[13A\u001b[2K\u001b[13A\u001b[2K\u001b[13A\u001b[2K\u001b[13A\u001b[2K\u001b[13A\u001b[2K\u001b[13A\u001b[2K\u001b[13A\u001b[2K\u001b[13A\u001b[2K\u001b[13A\u001b[2K\u001b[13A\u001b[2K\u001b[13A\u001b[2K\u001b[13A\u001b[2K\u001b[13A\u001b[2K\u001b[13A\u001b[2K\u001b[13A\u001b[2K\u001b[13A\u001b[2K\u001b[13A\u001b[2K\u001b[13A\u001b[2K\u001b[13A\u001b[2K\u001b[13A\u001b[2K\u001b[13A\u001b[2K\u001b[13A\u001b[2K\u001b[13A\u001b[2K\u001b[13A\u001b[2K\u001b[13A\u001b[2K\u001b[13A\u001b[2K\u001b[13A\u001b[2K\u001b[13A\u001b[2K\u001b[13A\u001b[2K\u001b[13A\u001b[2K\u001b[13A\u001b[2K\u001b[13A\u001b[2K\u001b[13A\u001b[2K\u001b[13A\u001b[2K\u001b[13A\u001b[2K\u001b[13A\u001b[2K\u001b[13A\u001b[2K\u001b[13A\u001b[2K\u001b[13A\u001b[2K\u001b[13A\u001b[2K\u001b[13A\u001b[2K\u001b[13A\u001b[2K\u001b[13A\u001b[2K\u001b[13A\u001b[2K\u001b[13A\u001b[2K\u001b[13A\u001b[2K\u001b[13A\u001b[2K\u001b[13A\u001b[2K\u001b[13A\u001b[2K\u001b[13A\u001b[2K\u001b[13A\u001b[2K\u001b[13A\u001b[2K\u001b[13A\u001b[2K\u001b[13A\u001b[2K\u001b[13A\u001b[2K\u001b[13A\u001b[2K\u001b[13A\u001b[2K\u001b[13A\u001b[2K\u001b[13A\u001b[2K\u001b[13A\u001b[2K\u001b[13A\u001b[2K\u001b[13A\u001b[2K\u001b[13A\u001b[2K\u001b[13A\u001b[2K\u001b[13A\u001b[2K\u001b[13A\u001b[2K\u001b[13A\u001b[2K\u001b[13A\u001b[2K\u001b[13A\u001b[2K\u001b[13A\u001b[2K\u001b[13A\u001b[2KDigest: sha256:0c524d3abe2642c09c5852299bd79bf78ba0ee2ef040473324caab0826f64d44\n",
      "Status: Downloaded newer image for community.wave.seqera.io/library/fastqc:0.12.1--5cfd0f3cb6760c42\n",
      "community.wave.seqera.io/library/fastqc:0.12.1--5cfd0f3cb6760c42\n",
      "\u001b[1m\n",
      "What's next:\u001b[0m\n",
      "    View a summary of image vulnerabilities and recommendations → \u001b[36mdocker scout quickview community.wave.seqera.io/library/fastqc:0.12.1--5cfd0f3cb6760c42\u001b[0m\n"
     ]
    }
   ],
   "source": [
    "# pull the container\n",
    "!docker pull community.wave.seqera.io/library/fastqc:0.12.1--5cfd0f3cb6760c42"
   ]
  },
  {
   "cell_type": "code",
   "execution_count": 283,
   "metadata": {},
   "outputs": [
    {
     "name": "stdout",
     "output_type": "stream",
     "text": [
      "/home/jana/UNI/Master/IISemester/compworkflows/day4\n",
      "application/gzip\n",
      "application/gzip\n",
      "Started analysis of SRX19144486_SRR23195516_1.fastq.gz\n",
      "application/gzip\n",
      "application/gzip\n",
      "Approx 5% complete for SRX19144486_SRR23195516_1.fastq.gz\n",
      "Approx 10% complete for SRX19144486_SRR23195516_1.fastq.gz\n",
      "Approx 15% complete for SRX19144486_SRR23195516_1.fastq.gz\n",
      "Approx 20% complete for SRX19144486_SRR23195516_1.fastq.gz\n",
      "Approx 25% complete for SRX19144486_SRR23195516_1.fastq.gz\n",
      "Approx 30% complete for SRX19144486_SRR23195516_1.fastq.gz\n",
      "Approx 35% complete for SRX19144486_SRR23195516_1.fastq.gz\n",
      "Approx 40% complete for SRX19144486_SRR23195516_1.fastq.gz\n",
      "Approx 45% complete for SRX19144486_SRR23195516_1.fastq.gz\n",
      "Approx 50% complete for SRX19144486_SRR23195516_1.fastq.gz\n",
      "Approx 55% complete for SRX19144486_SRR23195516_1.fastq.gz\n",
      "Approx 60% complete for SRX19144486_SRR23195516_1.fastq.gz\n",
      "Approx 65% complete for SRX19144486_SRR23195516_1.fastq.gz\n",
      "Approx 70% complete for SRX19144486_SRR23195516_1.fastq.gz\n",
      "Approx 75% complete for SRX19144486_SRR23195516_1.fastq.gz\n",
      "Approx 80% complete for SRX19144486_SRR23195516_1.fastq.gz\n",
      "Approx 85% complete for SRX19144486_SRR23195516_1.fastq.gz\n",
      "Approx 90% complete for SRX19144486_SRR23195516_1.fastq.gz\n",
      "Approx 95% complete for SRX19144486_SRR23195516_1.fastq.gz\n",
      "Analysis complete for SRX19144486_SRR23195516_1.fastq.gz\n",
      "Started analysis of SRX19144486_SRR23195516_2.fastq.gz\n",
      "Approx 5% complete for SRX19144486_SRR23195516_2.fastq.gz\n",
      "Approx 10% complete for SRX19144486_SRR23195516_2.fastq.gz\n",
      "Approx 15% complete for SRX19144486_SRR23195516_2.fastq.gz\n",
      "Approx 20% complete for SRX19144486_SRR23195516_2.fastq.gz\n",
      "Approx 25% complete for SRX19144486_SRR23195516_2.fastq.gz\n",
      "Approx 30% complete for SRX19144486_SRR23195516_2.fastq.gz\n",
      "Approx 35% complete for SRX19144486_SRR23195516_2.fastq.gz\n",
      "Approx 40% complete for SRX19144486_SRR23195516_2.fastq.gz\n",
      "Approx 45% complete for SRX19144486_SRR23195516_2.fastq.gz\n",
      "Approx 50% complete for SRX19144486_SRR23195516_2.fastq.gz\n",
      "Approx 55% complete for SRX19144486_SRR23195516_2.fastq.gz\n",
      "Approx 60% complete for SRX19144486_SRR23195516_2.fastq.gz\n",
      "Approx 65% complete for SRX19144486_SRR23195516_2.fastq.gz\n",
      "Approx 70% complete for SRX19144486_SRR23195516_2.fastq.gz\n",
      "Approx 75% complete for SRX19144486_SRR23195516_2.fastq.gz\n",
      "Approx 80% complete for SRX19144486_SRR23195516_2.fastq.gz\n",
      "Approx 85% complete for SRX19144486_SRR23195516_2.fastq.gz\n",
      "Approx 90% complete for SRX19144486_SRR23195516_2.fastq.gz\n",
      "Approx 95% complete for SRX19144486_SRR23195516_2.fastq.gz\n",
      "Analysis complete for SRX19144486_SRR23195516_2.fastq.gz\n",
      "Started analysis of SRX19144488_SRR23195511_1.fastq.gz\n",
      "Approx 5% complete for SRX19144488_SRR23195511_1.fastq.gz\n",
      "Approx 10% complete for SRX19144488_SRR23195511_1.fastq.gz\n",
      "Approx 15% complete for SRX19144488_SRR23195511_1.fastq.gz\n",
      "Approx 20% complete for SRX19144488_SRR23195511_1.fastq.gz\n",
      "Approx 25% complete for SRX19144488_SRR23195511_1.fastq.gz\n",
      "Approx 30% complete for SRX19144488_SRR23195511_1.fastq.gz\n",
      "Approx 35% complete for SRX19144488_SRR23195511_1.fastq.gz\n",
      "Approx 40% complete for SRX19144488_SRR23195511_1.fastq.gz\n",
      "Approx 45% complete for SRX19144488_SRR23195511_1.fastq.gz\n",
      "Approx 50% complete for SRX19144488_SRR23195511_1.fastq.gz\n",
      "Approx 55% complete for SRX19144488_SRR23195511_1.fastq.gz\n",
      "Approx 60% complete for SRX19144488_SRR23195511_1.fastq.gz\n",
      "Approx 65% complete for SRX19144488_SRR23195511_1.fastq.gz\n",
      "Approx 70% complete for SRX19144488_SRR23195511_1.fastq.gz\n",
      "Approx 75% complete for SRX19144488_SRR23195511_1.fastq.gz\n",
      "Approx 80% complete for SRX19144488_SRR23195511_1.fastq.gz\n",
      "Approx 85% complete for SRX19144488_SRR23195511_1.fastq.gz\n",
      "Approx 90% complete for SRX19144488_SRR23195511_1.fastq.gz\n",
      "Approx 95% complete for SRX19144488_SRR23195511_1.fastq.gz\n",
      "Analysis complete for SRX19144488_SRR23195511_1.fastq.gz\n",
      "Started analysis of SRX19144488_SRR23195511_2.fastq.gz\n",
      "Approx 5% complete for SRX19144488_SRR23195511_2.fastq.gz\n",
      "Approx 10% complete for SRX19144488_SRR23195511_2.fastq.gz\n",
      "Approx 15% complete for SRX19144488_SRR23195511_2.fastq.gz\n",
      "Approx 20% complete for SRX19144488_SRR23195511_2.fastq.gz\n",
      "Approx 25% complete for SRX19144488_SRR23195511_2.fastq.gz\n",
      "Approx 30% complete for SRX19144488_SRR23195511_2.fastq.gz\n",
      "Approx 35% complete for SRX19144488_SRR23195511_2.fastq.gz\n",
      "Approx 40% complete for SRX19144488_SRR23195511_2.fastq.gz\n",
      "Approx 45% complete for SRX19144488_SRR23195511_2.fastq.gz\n",
      "Approx 50% complete for SRX19144488_SRR23195511_2.fastq.gz\n",
      "Approx 55% complete for SRX19144488_SRR23195511_2.fastq.gz\n",
      "Approx 60% complete for SRX19144488_SRR23195511_2.fastq.gz\n",
      "Approx 65% complete for SRX19144488_SRR23195511_2.fastq.gz\n",
      "Approx 70% complete for SRX19144488_SRR23195511_2.fastq.gz\n",
      "Approx 75% complete for SRX19144488_SRR23195511_2.fastq.gz\n",
      "Approx 80% complete for SRX19144488_SRR23195511_2.fastq.gz\n",
      "Approx 85% complete for SRX19144488_SRR23195511_2.fastq.gz\n",
      "Approx 90% complete for SRX19144488_SRR23195511_2.fastq.gz\n",
      "Approx 95% complete for SRX19144488_SRR23195511_2.fastq.gz\n",
      "Analysis complete for SRX19144488_SRR23195511_2.fastq.gz\n"
     ]
    }
   ],
   "source": [
    "# run the container and save the results to a new \"fastqc_results\" directory\n",
    "!docker run -v $(pwd):$(pwd) -w $(pwd) community.wave.seqera.io/library/fastqc:0.12.1--5cfd0f3cb6760c42 fastqc fastq/SRX19144486_SRR23195516_1.fastq.gz fastq/SRX19144486_SRR23195516_2.fastq.gz fastq/SRX19144488_SRR23195511_1.fastq.gz fastq/SRX19144488_SRR23195511_2.fastq.gz -o fastqc_results\n"
   ]
  },
  {
   "cell_type": "markdown",
   "metadata": {},
   "source": [
    "### Now that you know how to use a docker container, which approach between running everything manually and using docker was easier and which approach will be easier in the future?\n",
    "\n",
    "It was easier to pull the docker image instead of doing the seven steps of the manual installation. It will also be easier in the future."
   ]
  },
  {
   "cell_type": "markdown",
   "metadata": {},
   "source": [
    "### What would you say, which approach is more reproducible?\n",
    "\n",
    "The docker approach is more reproducible. In that approach, everyone can use the same computing environment defined by the docker container and local differences, for example with the operating system, do not make a difference."
   ]
  },
  {
   "cell_type": "markdown",
   "metadata": {},
   "source": [
    "### Compare the file to last weeks fastqc results, are they identical?\n",
    "\n",
    "Yes, they are identical.\n",
    "\n",
    "### Is the fastqc version identical?\n",
    "\n",
    "\n",
    "rnaseq used fastqc version 0.12.1. The created docker container uses the same fasqc version "
   ]
  },
  {
   "cell_type": "code",
   "execution_count": 51,
   "metadata": {},
   "outputs": [
    {
     "name": "stdout",
     "output_type": "stream",
     "text": [
      "FastQC v0.12.1\n"
     ]
    }
   ],
   "source": [
    "!docker run -v $(pwd):$(pwd) -w $(pwd) community.wave.seqera.io/library/fastqc:0.12.1--5cfd0f3cb6760c42 fastqc --version"
   ]
  },
  {
   "cell_type": "markdown",
   "metadata": {},
   "source": [
    "## Dockerfiles\n",
    "\n",
    "We now used Docker containers and images directly to boost our research. \n",
    "\n",
    "Let's create our own toy Dockerfile including the \"cowsay\" tool (https://en.wikipedia.org/wiki/Cowsay)\n",
    "\n",
    "Hints:\n",
    "1. Docker is Linux, so you need to know the apt-get command to install \"cowsay\""
   ]
  },
  {
   "cell_type": "code",
   "execution_count": 52,
   "metadata": {},
   "outputs": [],
   "source": [
    "# open the file \"my_dockerfile\" in a text editor"
   ]
  },
  {
   "cell_type": "markdown",
   "metadata": {},
   "source": [
    "### Explain the RUN and ENV lines you added to the file"
   ]
  },
  {
   "cell_type": "markdown",
   "metadata": {},
   "source": [
    "RUN apt-get update<br>\n",
    "RUN apt-get install -y curl<br>\n",
    "RUN apt-get install -y cowsay<br>\n",
    "updates the apt-get repository and installs curl and cowsay\n",
    "\n",
    "\n",
    "ENV PATH=\"$PATH:/usr/games\"<br>\n",
    "adds the path /usr/games to PATH"
   ]
  },
  {
   "cell_type": "code",
   "execution_count": 53,
   "metadata": {},
   "outputs": [
    {
     "name": "stdout",
     "output_type": "stream",
     "text": [
      "/home/jana/UNI/Master/IISemester/compworkflows/day4\n",
      "\u001b[1A\u001b[1B\u001b[0G\u001b[?25l[+] Building 0.0s (0/0)  docker:desktop-linux\n",
      "\u001b[?25h\u001b[1A\u001b[0G\u001b[?25l[+] Building 0.0s (0/0)  docker:desktop-linux\n",
      "\u001b[?25h\u001b[1A\u001b[0G\u001b[?25l[+] Building 0.0s (0/1)                                    docker:desktop-linux\n",
      "\u001b[?25h\u001b[1A\u001b[0G\u001b[?25l[+] Building 0.2s (1/2)                                    docker:desktop-linux\n",
      "\u001b[34m => [internal] load build definition from my_dockerfile                    0.0s\n",
      "\u001b[0m\u001b[34m => => transferring dockerfile: 857B                                       0.0s\n",
      "\u001b[0m => [internal] load metadata for docker.io/library/debian:bullseye-slim    0.2s\n",
      "\u001b[?25h\u001b[1A\u001b[1A\u001b[1A\u001b[1A\u001b[0G\u001b[?25l[+] Building 0.3s (1/2)                                    docker:desktop-linux\n",
      "\u001b[34m => [internal] load build definition from my_dockerfile                    0.0s\n",
      "\u001b[0m\u001b[34m => => transferring dockerfile: 857B                                       0.0s\n",
      "\u001b[0m => [internal] load metadata for docker.io/library/debian:bullseye-slim    0.3s\n",
      "\u001b[?25h\u001b[1A\u001b[1A\u001b[1A\u001b[1A\u001b[0G\u001b[?25l[+] Building 0.5s (1/2)                                    docker:desktop-linux\n",
      "\u001b[34m => [internal] load build definition from my_dockerfile                    0.0s\n",
      "\u001b[0m\u001b[34m => => transferring dockerfile: 857B                                       0.0s\n",
      "\u001b[0m => [internal] load metadata for docker.io/library/debian:bullseye-slim    0.5s\n",
      "\u001b[?25h\u001b[1A\u001b[1A\u001b[1A\u001b[1A\u001b[0G\u001b[?25l[+] Building 0.6s (1/2)                                    docker:desktop-linux\n",
      "\u001b[34m => [internal] load build definition from my_dockerfile                    0.0s\n",
      "\u001b[0m\u001b[34m => => transferring dockerfile: 857B                                       0.0s\n",
      "\u001b[0m => [internal] load metadata for docker.io/library/debian:bullseye-slim    0.6s\n",
      "\u001b[?25h\u001b[1A\u001b[1A\u001b[1A\u001b[1A\u001b[0G\u001b[?25l[+] Building 0.8s (1/2)                                    docker:desktop-linux\n",
      "\u001b[34m => [internal] load build definition from my_dockerfile                    0.0s\n",
      "\u001b[0m\u001b[34m => => transferring dockerfile: 857B                                       0.0s\n",
      "\u001b[0m => [internal] load metadata for docker.io/library/debian:bullseye-slim    0.8s\n",
      "\u001b[?25h\u001b[1A\u001b[1A\u001b[1A\u001b[1A\u001b[0G\u001b[?25l[+] Building 0.9s (1/2)                                    docker:desktop-linux\n",
      "\u001b[34m => [internal] load build definition from my_dockerfile                    0.0s\n",
      "\u001b[0m\u001b[34m => => transferring dockerfile: 857B                                       0.0s\n",
      "\u001b[0m => [internal] load metadata for docker.io/library/debian:bullseye-slim    0.9s\n",
      "\u001b[?25h\u001b[1A\u001b[1A\u001b[1A\u001b[1A\u001b[0G\u001b[?25l[+] Building 1.1s (1/2)                                    docker:desktop-linux\n",
      "\u001b[34m => [internal] load build definition from my_dockerfile                    0.0s\n",
      "\u001b[0m\u001b[34m => => transferring dockerfile: 857B                                       0.0s\n",
      "\u001b[0m => [internal] load metadata for docker.io/library/debian:bullseye-slim    1.1s\n",
      "\u001b[?25h\u001b[1A\u001b[1A\u001b[1A\u001b[1A\u001b[0G\u001b[?25l[+] Building 1.2s (1/2)                                    docker:desktop-linux\n",
      "\u001b[34m => [internal] load build definition from my_dockerfile                    0.0s\n",
      "\u001b[0m\u001b[34m => => transferring dockerfile: 857B                                       0.0s\n",
      "\u001b[0m => [internal] load metadata for docker.io/library/debian:bullseye-slim    1.2s\n",
      "\u001b[?25h\u001b[1A\u001b[1A\u001b[1A\u001b[1A\u001b[0G\u001b[?25l[+] Building 1.4s (1/2)                                    docker:desktop-linux\n",
      "\u001b[34m => [internal] load build definition from my_dockerfile                    0.0s\n",
      "\u001b[0m\u001b[34m => => transferring dockerfile: 857B                                       0.0s\n",
      "\u001b[0m => [internal] load metadata for docker.io/library/debian:bullseye-slim    1.4s\n",
      "\u001b[?25h\u001b[1A\u001b[1A\u001b[1A\u001b[1A\u001b[0G\u001b[?25l[+] Building 1.5s (1/2)                                    docker:desktop-linux\n",
      "\u001b[34m => [internal] load build definition from my_dockerfile                    0.0s\n",
      "\u001b[0m\u001b[34m => => transferring dockerfile: 857B                                       0.0s\n",
      "\u001b[0m => [internal] load metadata for docker.io/library/debian:bullseye-slim    1.5s\n",
      "\u001b[?25h\u001b[1A\u001b[1A\u001b[1A\u001b[1A\u001b[0G\u001b[?25l[+] Building 1.7s (1/2)                                    docker:desktop-linux\n",
      "\u001b[34m => [internal] load build definition from my_dockerfile                    0.0s\n",
      "\u001b[0m\u001b[34m => => transferring dockerfile: 857B                                       0.0s\n",
      "\u001b[0m => [internal] load metadata for docker.io/library/debian:bullseye-slim    1.7s\n",
      "\u001b[?25h\u001b[1A\u001b[1A\u001b[1A\u001b[1A\u001b[0G\u001b[?25l[+] Building 1.7s (2/2)                                    docker:desktop-linux\n",
      "\u001b[34m => [internal] load build definition from my_dockerfile                    0.0s\n",
      "\u001b[0m\u001b[34m => => transferring dockerfile: 857B                                       0.0s\n",
      "\u001b[0m\u001b[34m => [internal] load metadata for docker.io/library/debian:bullseye-slim    1.7s\n",
      "\u001b[0m\u001b[?25h\u001b[1A\u001b[1A\u001b[1A\u001b[1A\u001b[0G\u001b[?25l[+] Building 1.8s (7/8)                                    docker:desktop-linux\n",
      "\u001b[34m => [internal] load build definition from my_dockerfile                    0.0s\n",
      "\u001b[0m\u001b[34m => => transferring dockerfile: 857B                                       0.0s\n",
      "\u001b[0m\u001b[34m => [internal] load metadata for docker.io/library/debian:bullseye-slim    1.7s\n",
      "\u001b[0m\u001b[34m => [internal] load .dockerignore                                          0.0s\n",
      "\u001b[0m\u001b[34m => => transferring context: 2B                                            0.0s\n",
      "\u001b[0m\u001b[34m => [1/4] FROM docker.io/library/debian:bullseye-slim@sha256:3f9e53602537  0.0s\n",
      "\u001b[0m\u001b[34m => => resolve docker.io/library/debian:bullseye-slim@sha256:3f9e53602537  0.0s\n",
      "\u001b[0m\u001b[34m => CACHED [2/4] RUN apt-get update                                        0.0s\n",
      "\u001b[0m\u001b[34m => CACHED [3/4] RUN apt-get install -y curl                               0.0s\n",
      "\u001b[0m\u001b[34m => CACHED [4/4] RUN apt-get install -y cowsay                             0.0s\n",
      "\u001b[0m => exporting to image                                                     0.0s\n",
      "\u001b[34m => => exporting layers                                                    0.0s\n",
      "\u001b[0m\u001b[34m => => exporting manifest sha256:fa18e1a0a8b0badae433e7821c5571e3241125f0  0.0s\n",
      "\u001b[0m => => exporting config sha256:139e3a5f51df02bdb874df743675b871cdde08c7f7  0.0s\n",
      "\u001b[?25h\u001b[1A\u001b[1A\u001b[1A\u001b[1A\u001b[1A\u001b[1A\u001b[1A\u001b[1A\u001b[1A\u001b[1A\u001b[1A\u001b[1A\u001b[1A\u001b[1A\u001b[1A\u001b[0G\u001b[?25l[+] Building 1.9s (7/8)                                    docker:desktop-linux\n",
      "\u001b[34m => [internal] load build definition from my_dockerfile                    0.0s\n",
      "\u001b[0m\u001b[34m => => transferring dockerfile: 857B                                       0.0s\n",
      "\u001b[0m\u001b[34m => [internal] load metadata for docker.io/library/debian:bullseye-slim    1.7s\n",
      "\u001b[0m\u001b[34m => [internal] load .dockerignore                                          0.0s\n",
      "\u001b[0m\u001b[34m => => transferring context: 2B                                            0.0s\n",
      "\u001b[0m\u001b[34m => [1/4] FROM docker.io/library/debian:bullseye-slim@sha256:3f9e53602537  0.0s\n",
      "\u001b[0m\u001b[34m => => resolve docker.io/library/debian:bullseye-slim@sha256:3f9e53602537  0.0s\n",
      "\u001b[0m\u001b[34m => CACHED [2/4] RUN apt-get update                                        0.0s\n",
      "\u001b[0m\u001b[34m => CACHED [3/4] RUN apt-get install -y curl                               0.0s\n",
      "\u001b[0m\u001b[34m => CACHED [4/4] RUN apt-get install -y cowsay                             0.0s\n",
      "\u001b[0m => exporting to image                                                     0.1s\n",
      "\u001b[34m => => exporting layers                                                    0.0s\n",
      "\u001b[0m\u001b[34m => => exporting manifest sha256:fa18e1a0a8b0badae433e7821c5571e3241125f0  0.0s\n",
      "\u001b[0m\u001b[34m => => exporting config sha256:139e3a5f51df02bdb874df743675b871cdde08c7f7  0.0s\n",
      "\u001b[0m\u001b[34m => => exporting attestation manifest sha256:ff1c5f9d0b6bf9c77580b74b97a7  0.1s\n",
      "\u001b[0m => => exporting manifest list sha256:787b98791d602ca74243c7845d245ef9cb6  0.0s\n",
      "\u001b[?25h\u001b[1A\u001b[1A\u001b[1A\u001b[1A\u001b[1A\u001b[1A\u001b[1A\u001b[1A\u001b[1A\u001b[1A\u001b[1A\u001b[1A\u001b[1A\u001b[1A\u001b[1A\u001b[1A\u001b[1A\u001b[0G\u001b[?25l[+] Building 2.2s (8/8)                                    docker:desktop-linux\n",
      "\u001b[34m => [internal] load build definition from my_dockerfile                    0.0s\n",
      "\u001b[0m\u001b[34m => => transferring dockerfile: 857B                                       0.0s\n",
      "\u001b[0m\u001b[34m => [internal] load metadata for docker.io/library/debian:bullseye-slim    1.7s\n",
      "\u001b[0m\u001b[34m => [internal] load .dockerignore                                          0.0s\n",
      "\u001b[0m\u001b[34m => => transferring context: 2B                                            0.0s\n",
      "\u001b[0m\u001b[34m => [1/4] FROM docker.io/library/debian:bullseye-slim@sha256:3f9e53602537  0.0s\n",
      "\u001b[0m\u001b[34m => => resolve docker.io/library/debian:bullseye-slim@sha256:3f9e53602537  0.0s\n",
      "\u001b[0m\u001b[34m => CACHED [2/4] RUN apt-get update                                        0.0s\n",
      "\u001b[0m\u001b[34m => CACHED [3/4] RUN apt-get install -y curl                               0.0s\n",
      "\u001b[0m\u001b[34m => CACHED [4/4] RUN apt-get install -y cowsay                             0.0s\n",
      "\u001b[0m\u001b[34m => exporting to image                                                     0.2s\n",
      "\u001b[0m\u001b[34m => => exporting layers                                                    0.0s\n",
      "\u001b[0m\u001b[34m => => exporting manifest sha256:fa18e1a0a8b0badae433e7821c5571e3241125f0  0.0s\n",
      "\u001b[0m\u001b[34m => => exporting config sha256:139e3a5f51df02bdb874df743675b871cdde08c7f7  0.0s\n",
      "\u001b[0m\u001b[34m => => exporting attestation manifest sha256:ff1c5f9d0b6bf9c77580b74b97a7  0.1s\n",
      "\u001b[0m\u001b[34m => => exporting manifest list sha256:787b98791d602ca74243c7845d245ef9cb6  0.0s\n",
      "\u001b[0m\u001b[34m => => naming to docker.io/jana/cowsay:latest                              0.0s\n",
      "\u001b[0m\u001b[34m => => unpacking to docker.io/jana/cowsay:latest                           0.0s\n",
      "\u001b[0m\u001b[?25h\u001b[1A\u001b[1A\u001b[1A\u001b[1A\u001b[1A\u001b[1A\u001b[1A\u001b[1A\u001b[1A\u001b[1A\u001b[1A\u001b[1A\u001b[1A\u001b[1A\u001b[1A\u001b[1A\u001b[1A\u001b[1A\u001b[1A\u001b[0G\u001b[?25l[+] Building 2.3s (8/8) FINISHED                           docker:desktop-linux\n",
      "\u001b[34m => [internal] load build definition from my_dockerfile                    0.0s\n",
      "\u001b[0m\u001b[34m => => transferring dockerfile: 857B                                       0.0s\n",
      "\u001b[0m\u001b[34m => [internal] load metadata for docker.io/library/debian:bullseye-slim    1.7s\n",
      "\u001b[0m\u001b[34m => [internal] load .dockerignore                                          0.0s\n",
      "\u001b[0m\u001b[34m => => transferring context: 2B                                            0.0s\n",
      "\u001b[0m\u001b[34m => [1/4] FROM docker.io/library/debian:bullseye-slim@sha256:3f9e53602537  0.0s\n",
      "\u001b[0m\u001b[34m => => resolve docker.io/library/debian:bullseye-slim@sha256:3f9e53602537  0.0s\n",
      "\u001b[0m\u001b[34m => CACHED [2/4] RUN apt-get update                                        0.0s\n",
      "\u001b[0m\u001b[34m => CACHED [3/4] RUN apt-get install -y curl                               0.0s\n",
      "\u001b[0m\u001b[34m => CACHED [4/4] RUN apt-get install -y cowsay                             0.0s\n",
      "\u001b[0m\u001b[34m => exporting to image                                                     0.2s\n",
      "\u001b[0m\u001b[34m => => exporting layers                                                    0.0s\n",
      "\u001b[0m\u001b[34m => => exporting manifest sha256:fa18e1a0a8b0badae433e7821c5571e3241125f0  0.0s\n",
      "\u001b[0m\u001b[34m => => exporting config sha256:139e3a5f51df02bdb874df743675b871cdde08c7f7  0.0s\n",
      "\u001b[0m\u001b[34m => => exporting attestation manifest sha256:ff1c5f9d0b6bf9c77580b74b97a7  0.1s\n",
      "\u001b[0m\u001b[34m => => exporting manifest list sha256:787b98791d602ca74243c7845d245ef9cb6  0.0s\n",
      "\u001b[0m\u001b[34m => => naming to docker.io/jana/cowsay:latest                              0.0s\n",
      "\u001b[0m\u001b[34m => => unpacking to docker.io/jana/cowsay:latest                           0.0s\n",
      "\u001b[0m\u001b[?25h\n",
      " \u001b[33m2 warnings found (use docker --debug to expand):\n",
      "\u001b[0m - LegacyKeyValueFormat: \"LABEL key=value\" should be used instead of legacy \"LABEL key value\" format (line 5)\n",
      " - LegacyKeyValueFormat: \"LABEL key=value\" should be used instead of legacy \"LABEL key value\" format (line 6)\n",
      "\u001b[1m\n",
      "What's next:\u001b[0m\n",
      "    View a summary of image vulnerabilities and recommendations → \u001b[36mdocker scout quickview \u001b[0m\n"
     ]
    }
   ],
   "source": [
    "# build the docker image\n",
    "!pwd\n",
    "!docker build -f ./my_dockerfile . -t jana/cowsay"
   ]
  },
  {
   "cell_type": "code",
   "execution_count": 54,
   "metadata": {},
   "outputs": [
    {
     "name": "stdout",
     "output_type": "stream",
     "text": [
      "REPOSITORY                                TAG                        IMAGE ID       CREATED          SIZE\n",
      "jana/salmon                               latest                     fd962ac93118   13 minutes ago   820MB\n",
      "jana/salmon_docker                        latest                     4401540b17c9   13 minutes ago   820MB\n",
      "jana/cowsay                               latest                     787b98791d60   2 hours ago      230MB\n",
      "<none>                                    <none>                     18624251e7df   2 hours ago      230MB\n",
      "community.wave.seqera.io/library/fastqc   0.12.1--5cfd0f3cb6760c42   0c524d3abe26   4 months ago     1.39GB\n",
      "combinelab/salmon                         latest                     cefd8bb0b2ed   6 months ago     152MB\n",
      "hello-world                               latest                     91fb4b041da2   17 months ago    24.4kB\n"
     ]
    }
   ],
   "source": [
    "# check if image has been build\n",
    "!docker image ls"
   ]
  },
  {
   "cell_type": "code",
   "execution_count": 55,
   "metadata": {},
   "outputs": [
    {
     "name": "stdout",
     "output_type": "stream",
     "text": [
      " _____\n",
      "< muh >\n",
      " -----\n",
      "        \\   ^__^\n",
      "         \\  (oo)\\_______\n",
      "            (__)\\       )\\/\\\n",
      "                ||----w |\n",
      "                ||     ||\n"
     ]
    }
   ],
   "source": [
    "# run the docker file \n",
    "!docker run jana/cowsay cowsay muh"
   ]
  },
  {
   "cell_type": "markdown",
   "metadata": {},
   "source": [
    "## Let's do some bioinformatics with the docker file and create a new docker file that holds the salmon tool used in rnaseq\n",
    "\n",
    "To do so, use \"curl\" in your new dockerfile to get salmon from https://github.com/COMBINE-lab/salmon/releases/download/v1.5.2/salmon-1.5.2_linux_x86_64.tar.gz"
   ]
  },
  {
   "cell_type": "code",
   "execution_count": 56,
   "metadata": {},
   "outputs": [
    {
     "name": "stdout",
     "output_type": "stream",
     "text": [
      "\u001b[1A\u001b[1B\u001b[0G\u001b[?25l[+] Building 0.0s (0/1)                                    docker:desktop-linux\n",
      "\u001b[?25h\u001b[1A\u001b[0G\u001b[?25l[+] Building 0.2s (1/2)                                    docker:desktop-linux\n",
      "\u001b[34m => [internal] load build definition from salmon_docker                    0.0s\n",
      "\u001b[0m\u001b[34m => => transferring dockerfile: 676B                                       0.0s\n",
      "\u001b[0m => [internal] load metadata for docker.io/library/debian:bullseye-slim    0.1s\n",
      "\u001b[?25h\u001b[1A\u001b[1A\u001b[1A\u001b[1A\u001b[0G\u001b[?25l[+] Building 0.3s (1/2)                                    docker:desktop-linux\n",
      "\u001b[34m => [internal] load build definition from salmon_docker                    0.0s\n",
      "\u001b[0m\u001b[34m => => transferring dockerfile: 676B                                       0.0s\n",
      "\u001b[0m => [internal] load metadata for docker.io/library/debian:bullseye-slim    0.3s\n",
      "\u001b[?25h\u001b[1A\u001b[1A\u001b[1A\u001b[1A\u001b[0G\u001b[?25l[+] Building 0.5s (1/2)                                    docker:desktop-linux\n",
      "\u001b[34m => [internal] load build definition from salmon_docker                    0.0s\n",
      "\u001b[0m\u001b[34m => => transferring dockerfile: 676B                                       0.0s\n",
      "\u001b[0m => [internal] load metadata for docker.io/library/debian:bullseye-slim    0.4s\n",
      "\u001b[?25h\u001b[1A\u001b[1A\u001b[1A\u001b[1A\u001b[0G\u001b[?25l[+] Building 0.6s (1/2)                                    docker:desktop-linux\n",
      "\u001b[34m => [internal] load build definition from salmon_docker                    0.0s\n",
      "\u001b[0m\u001b[34m => => transferring dockerfile: 676B                                       0.0s\n",
      "\u001b[0m => [internal] load metadata for docker.io/library/debian:bullseye-slim    0.6s\n",
      "\u001b[?25h\u001b[1A\u001b[1A\u001b[1A\u001b[1A\u001b[0G\u001b[?25l[+] Building 0.8s (1/2)                                    docker:desktop-linux\n",
      "\u001b[34m => [internal] load build definition from salmon_docker                    0.0s\n",
      "\u001b[0m\u001b[34m => => transferring dockerfile: 676B                                       0.0s\n",
      "\u001b[0m => [internal] load metadata for docker.io/library/debian:bullseye-slim    0.8s\n",
      "\u001b[?25h\u001b[1A\u001b[1A\u001b[1A\u001b[1A\u001b[0G\u001b[?25l[+] Building 0.9s (1/2)                                    docker:desktop-linux\n",
      "\u001b[34m => [internal] load build definition from salmon_docker                    0.0s\n",
      "\u001b[0m\u001b[34m => => transferring dockerfile: 676B                                       0.0s\n",
      "\u001b[0m => [internal] load metadata for docker.io/library/debian:bullseye-slim    0.9s\n",
      "\u001b[?25h\u001b[1A\u001b[1A\u001b[1A\u001b[1A\u001b[0G\u001b[?25l[+] Building 1.1s (2/2)                                    docker:desktop-linux\n",
      "\u001b[34m => [internal] load build definition from salmon_docker                    0.0s\n",
      "\u001b[0m\u001b[34m => => transferring dockerfile: 676B                                       0.0s\n",
      "\u001b[0m\u001b[34m => [internal] load metadata for docker.io/library/debian:bullseye-slim    1.0s\n",
      "\u001b[0m\u001b[?25h\u001b[1A\u001b[1A\u001b[1A\u001b[1A\u001b[0G\u001b[?25l[+] Building 1.2s (12/13)                                  docker:desktop-linux\n",
      "\u001b[34m => [internal] load build definition from salmon_docker                    0.0s\n",
      "\u001b[0m\u001b[34m => => transferring dockerfile: 676B                                       0.0s\n",
      "\u001b[0m\u001b[34m => [internal] load metadata for docker.io/library/debian:bullseye-slim    1.0s\n",
      "\u001b[0m\u001b[34m => [internal] load .dockerignore                                          0.0s\n",
      "\u001b[0m\u001b[34m => => transferring context: 2B                                            0.0s\n",
      "\u001b[0m\u001b[34m => [1/9] FROM docker.io/library/debian:bullseye-slim@sha256:3f9e53602537  0.0s\n",
      "\u001b[0m\u001b[34m => => resolve docker.io/library/debian:bullseye-slim@sha256:3f9e53602537  0.0s\n",
      "\u001b[0m\u001b[34m => CACHED [2/9] RUN apt-get update                                        0.0s\n",
      "\u001b[0m\u001b[34m => CACHED [3/9] RUN apt-get upgrade                                       0.0s\n",
      "\u001b[0m\u001b[34m => CACHED [4/9] RUN apt-get install -y curl xz-utils liblzma-dev          0.0s\n",
      "\u001b[0m\u001b[34m => CACHED [5/9] RUN curl -LO https://github.com/COMBINE-lab/salmon/relea  0.0s\n",
      "\u001b[0m\u001b[34m => CACHED [6/9] RUN tar -xzf salmon-1.5.2_linux_x86_64.tar.gz             0.0s\n",
      "\u001b[0m\u001b[34m => CACHED [7/9] RUN mv salmon-1.5.2_linux_x86_64/bin/* /usr/bin           0.0s\n",
      "\u001b[0m\u001b[34m => CACHED [8/9] RUN mv salmon-1.5.2_linux_x86_64/lib/* /usr/lib           0.0s\n",
      "\u001b[0m\u001b[34m => CACHED [9/9] RUN salmon --version                                      0.0s\n",
      "\u001b[0m => exporting to image                                                     0.0s\n",
      "\u001b[34m => => exporting layers                                                    0.0s\n",
      "\u001b[0m\u001b[34m => => exporting manifest sha256:c7e0f641beaa38ad111ce65f60803c9904fb1397  0.0s\n",
      "\u001b[0m => => exporting config sha256:99bb443a5f0a9fc3c0a856eb73a20a8b0de5a39204  0.0s\n",
      "\u001b[?25h\u001b[1A\u001b[1A\u001b[1A\u001b[1A\u001b[1A\u001b[1A\u001b[1A\u001b[1A\u001b[1A\u001b[1A\u001b[1A\u001b[1A\u001b[1A\u001b[1A\u001b[1A\u001b[1A\u001b[1A\u001b[1A\u001b[1A\u001b[1A\u001b[0G\u001b[?25l[+] Building 1.3s (12/13)                                  docker:desktop-linux\n",
      "\u001b[34m => [internal] load build definition from salmon_docker                    0.0s\n",
      "\u001b[0m\u001b[34m => => transferring dockerfile: 676B                                       0.0s\n",
      "\u001b[0m\u001b[34m => [internal] load metadata for docker.io/library/debian:bullseye-slim    1.0s\n",
      "\u001b[0m\u001b[34m => [internal] load .dockerignore                                          0.0s\n",
      "\u001b[0m\u001b[34m => => transferring context: 2B                                            0.0s\n",
      "\u001b[0m\u001b[34m => [1/9] FROM docker.io/library/debian:bullseye-slim@sha256:3f9e53602537  0.0s\n",
      "\u001b[0m\u001b[34m => => resolve docker.io/library/debian:bullseye-slim@sha256:3f9e53602537  0.0s\n",
      "\u001b[0m\u001b[34m => CACHED [2/9] RUN apt-get update                                        0.0s\n",
      "\u001b[0m\u001b[34m => CACHED [3/9] RUN apt-get upgrade                                       0.0s\n",
      "\u001b[0m\u001b[34m => CACHED [4/9] RUN apt-get install -y curl xz-utils liblzma-dev          0.0s\n",
      "\u001b[0m\u001b[34m => CACHED [5/9] RUN curl -LO https://github.com/COMBINE-lab/salmon/relea  0.0s\n",
      "\u001b[0m\u001b[34m => CACHED [6/9] RUN tar -xzf salmon-1.5.2_linux_x86_64.tar.gz             0.0s\n",
      "\u001b[0m\u001b[34m => CACHED [7/9] RUN mv salmon-1.5.2_linux_x86_64/bin/* /usr/bin           0.0s\n",
      "\u001b[0m\u001b[34m => CACHED [8/9] RUN mv salmon-1.5.2_linux_x86_64/lib/* /usr/lib           0.0s\n",
      "\u001b[0m\u001b[34m => CACHED [9/9] RUN salmon --version                                      0.0s\n",
      "\u001b[0m => exporting to image                                                     0.1s\n",
      "\u001b[34m => => exporting layers                                                    0.0s\n",
      "\u001b[0m\u001b[34m => => exporting manifest sha256:c7e0f641beaa38ad111ce65f60803c9904fb1397  0.0s\n",
      "\u001b[0m\u001b[34m => => exporting config sha256:99bb443a5f0a9fc3c0a856eb73a20a8b0de5a39204  0.0s\n",
      "\u001b[0m\u001b[34m => => exporting attestation manifest sha256:ff12f0232237034786f188eae2a1  0.1s\n",
      "\u001b[0m\u001b[34m => => exporting manifest list sha256:a31bee305ede01683032530bcdeab640896  0.0s\n",
      "\u001b[0m => => naming to docker.io/jana/salmon_docker:latest                       0.0s\n",
      "\u001b[?25h\u001b[1A\u001b[1A\u001b[1A\u001b[1A\u001b[1A\u001b[1A\u001b[1A\u001b[1A\u001b[1A\u001b[1A\u001b[1A\u001b[1A\u001b[1A\u001b[1A\u001b[1A\u001b[1A\u001b[1A\u001b[1A\u001b[1A\u001b[1A\u001b[1A\u001b[1A\u001b[1A\u001b[0G\u001b[?25l[+] Building 1.5s (13/13)                                  docker:desktop-linux\n",
      "\u001b[34m => => transferring dockerfile: 676B                                       0.0s\n",
      "\u001b[0m\u001b[34m => [internal] load metadata for docker.io/library/debian:bullseye-slim    1.0s\n",
      "\u001b[0m\u001b[34m => [internal] load .dockerignore                                          0.0s\n",
      "\u001b[0m\u001b[34m => => transferring context: 2B                                            0.0s\n",
      "\u001b[0m\u001b[34m => [1/9] FROM docker.io/library/debian:bullseye-slim@sha256:3f9e53602537  0.0s\n",
      "\u001b[0m\u001b[34m => => resolve docker.io/library/debian:bullseye-slim@sha256:3f9e53602537  0.0s\n",
      "\u001b[0m\u001b[34m => CACHED [2/9] RUN apt-get update                                        0.0s\n",
      "\u001b[0m\u001b[34m => CACHED [3/9] RUN apt-get upgrade                                       0.0s\n",
      "\u001b[0m\u001b[34m => CACHED [4/9] RUN apt-get install -y curl xz-utils liblzma-dev          0.0s\n",
      "\u001b[0m\u001b[34m => CACHED [5/9] RUN curl -LO https://github.com/COMBINE-lab/salmon/relea  0.0s\n",
      "\u001b[0m\u001b[34m => CACHED [6/9] RUN tar -xzf salmon-1.5.2_linux_x86_64.tar.gz             0.0s\n",
      "\u001b[0m\u001b[34m => CACHED [7/9] RUN mv salmon-1.5.2_linux_x86_64/bin/* /usr/bin           0.0s\n",
      "\u001b[0m\u001b[34m => CACHED [8/9] RUN mv salmon-1.5.2_linux_x86_64/lib/* /usr/lib           0.0s\n",
      "\u001b[0m\u001b[34m => CACHED [9/9] RUN salmon --version                                      0.0s\n",
      "\u001b[0m\u001b[34m => exporting to image                                                     0.2s\n",
      "\u001b[0m\u001b[34m => => exporting layers                                                    0.0s\n",
      "\u001b[0m\u001b[34m => => exporting manifest sha256:c7e0f641beaa38ad111ce65f60803c9904fb1397  0.0s\n",
      "\u001b[0m\u001b[34m => => exporting config sha256:99bb443a5f0a9fc3c0a856eb73a20a8b0de5a39204  0.0s\n",
      "\u001b[0m\u001b[34m => => exporting attestation manifest sha256:ff12f0232237034786f188eae2a1  0.1s\n",
      "\u001b[0m\u001b[34m => => exporting manifest list sha256:a31bee305ede01683032530bcdeab640896  0.0s\n",
      "\u001b[0m\u001b[34m => => naming to docker.io/jana/salmon_docker:latest                       0.0s\n",
      "\u001b[0m\u001b[34m => => unpacking to docker.io/jana/salmon_docker:latest                    0.0s\n",
      "\u001b[0m\u001b[?25h\u001b[1A\u001b[1A\u001b[1A\u001b[1A\u001b[1A\u001b[1A\u001b[1A\u001b[1A\u001b[1A\u001b[1A\u001b[1A\u001b[1A\u001b[1A\u001b[1A\u001b[1A\u001b[1A\u001b[1A\u001b[1A\u001b[1A\u001b[1A\u001b[1A\u001b[1A\u001b[1A\u001b[0G\u001b[?25l[+] Building 1.6s (13/13) FINISHED                         docker:desktop-linux\n",
      "\u001b[34m => [internal] load build definition from salmon_docker                    0.0s\n",
      "\u001b[0m\u001b[34m => => transferring dockerfile: 676B                                       0.0s\n",
      "\u001b[0m\u001b[34m => [internal] load metadata for docker.io/library/debian:bullseye-slim    1.0s\n",
      "\u001b[0m\u001b[34m => [internal] load .dockerignore                                          0.0s\n",
      "\u001b[0m\u001b[34m => => transferring context: 2B                                            0.0s\n",
      "\u001b[0m\u001b[34m => [1/9] FROM docker.io/library/debian:bullseye-slim@sha256:3f9e53602537  0.0s\n",
      "\u001b[0m\u001b[34m => => resolve docker.io/library/debian:bullseye-slim@sha256:3f9e53602537  0.0s\n",
      "\u001b[0m\u001b[34m => CACHED [2/9] RUN apt-get update                                        0.0s\n",
      "\u001b[0m\u001b[34m => CACHED [3/9] RUN apt-get upgrade                                       0.0s\n",
      "\u001b[0m\u001b[34m => CACHED [4/9] RUN apt-get install -y curl xz-utils liblzma-dev          0.0s\n",
      "\u001b[0m\u001b[34m => CACHED [5/9] RUN curl -LO https://github.com/COMBINE-lab/salmon/relea  0.0s\n",
      "\u001b[0m\u001b[34m => CACHED [6/9] RUN tar -xzf salmon-1.5.2_linux_x86_64.tar.gz             0.0s\n",
      "\u001b[0m\u001b[34m => CACHED [7/9] RUN mv salmon-1.5.2_linux_x86_64/bin/* /usr/bin           0.0s\n",
      "\u001b[0m\u001b[34m => CACHED [8/9] RUN mv salmon-1.5.2_linux_x86_64/lib/* /usr/lib           0.0s\n",
      "\u001b[0m\u001b[34m => CACHED [9/9] RUN salmon --version                                      0.0s\n",
      "\u001b[0m\u001b[34m => exporting to image                                                     0.2s\n",
      "\u001b[0m\u001b[34m => => exporting layers                                                    0.0s\n",
      "\u001b[0m\u001b[34m => => exporting manifest sha256:c7e0f641beaa38ad111ce65f60803c9904fb1397  0.0s\n",
      "\u001b[0m\u001b[34m => => exporting config sha256:99bb443a5f0a9fc3c0a856eb73a20a8b0de5a39204  0.0s\n",
      "\u001b[0m\u001b[34m => => exporting attestation manifest sha256:ff12f0232237034786f188eae2a1  0.1s\n",
      "\u001b[0m\u001b[34m => => exporting manifest list sha256:a31bee305ede01683032530bcdeab640896  0.0s\n",
      "\u001b[0m\u001b[34m => => naming to docker.io/jana/salmon_docker:latest                       0.0s\n",
      "\u001b[0m\u001b[34m => => unpacking to docker.io/jana/salmon_docker:latest                    0.0s\n",
      "\u001b[0m\u001b[?25h\u001b[1m\n",
      "What's next:\u001b[0m\n",
      "    View a summary of image vulnerabilities and recommendations → \u001b[36mdocker scout quickview \u001b[0m\n"
     ]
    }
   ],
   "source": [
    "# use the file \"salmon_docker\" in this directory to build a new docker image\n",
    "!docker build -f ./salmon_docker . -t jana/salmon_docker"
   ]
  },
  {
   "cell_type": "code",
   "execution_count": 57,
   "metadata": {},
   "outputs": [
    {
     "name": "stdout",
     "output_type": "stream",
     "text": [
      "\u001b[1A\u001b[1B\u001b[0G\u001b[?25l[+] Building 0.0s (0/1)                                    docker:desktop-linux\n",
      "\u001b[?25h\u001b[1A\u001b[0G\u001b[?25l[+] Building 0.2s (1/2)                                    docker:desktop-linux\n",
      "\u001b[34m => [internal] load build definition from salmon_docker                    0.0s\n",
      "\u001b[0m\u001b[34m => => transferring dockerfile: 676B                                       0.0s\n",
      "\u001b[0m => [internal] load metadata for docker.io/library/debian:bullseye-slim    0.2s\n",
      "\u001b[?25h\u001b[1A\u001b[1A\u001b[1A\u001b[1A\u001b[0G\u001b[?25l[+] Building 0.3s (2/2)                                    docker:desktop-linux\n",
      "\u001b[34m => [internal] load build definition from salmon_docker                    0.0s\n",
      "\u001b[0m\u001b[34m => => transferring dockerfile: 676B                                       0.0s\n",
      "\u001b[0m\u001b[34m => [internal] load metadata for docker.io/library/debian:bullseye-slim    0.2s\n",
      "\u001b[0m\u001b[?25h\u001b[1A\u001b[1A\u001b[1A\u001b[1A\u001b[0G\u001b[?25l[+] Building 0.4s (12/13)                                  docker:desktop-linux\n",
      "\u001b[34m => [internal] load build definition from salmon_docker                    0.0s\n",
      "\u001b[0m\u001b[34m => => transferring dockerfile: 676B                                       0.0s\n",
      "\u001b[0m\u001b[34m => [internal] load metadata for docker.io/library/debian:bullseye-slim    0.2s\n",
      "\u001b[0m\u001b[34m => [internal] load .dockerignore                                          0.0s\n",
      "\u001b[0m\u001b[34m => => transferring context: 2B                                            0.0s\n",
      "\u001b[0m\u001b[34m => [1/9] FROM docker.io/library/debian:bullseye-slim@sha256:3f9e53602537  0.0s\n",
      "\u001b[0m\u001b[34m => => resolve docker.io/library/debian:bullseye-slim@sha256:3f9e53602537  0.0s\n",
      "\u001b[0m\u001b[34m => CACHED [2/9] RUN apt-get update                                        0.0s\n",
      "\u001b[0m\u001b[34m => CACHED [3/9] RUN apt-get upgrade                                       0.0s\n",
      "\u001b[0m\u001b[34m => CACHED [4/9] RUN apt-get install -y curl xz-utils liblzma-dev          0.0s\n",
      "\u001b[0m\u001b[34m => CACHED [5/9] RUN curl -LO https://github.com/COMBINE-lab/salmon/relea  0.0s\n",
      "\u001b[0m\u001b[34m => CACHED [6/9] RUN tar -xzf salmon-1.5.2_linux_x86_64.tar.gz             0.0s\n",
      "\u001b[0m\u001b[34m => CACHED [7/9] RUN mv salmon-1.5.2_linux_x86_64/bin/* /usr/bin           0.0s\n",
      "\u001b[0m\u001b[34m => CACHED [8/9] RUN mv salmon-1.5.2_linux_x86_64/lib/* /usr/lib           0.0s\n",
      "\u001b[0m\u001b[34m => CACHED [9/9] RUN salmon --version                                      0.0s\n",
      "\u001b[0m => exporting to image                                                     0.0s\n",
      "\u001b[34m => => exporting layers                                                    0.0s\n",
      "\u001b[0m\u001b[34m => => exporting manifest sha256:c7e0f641beaa38ad111ce65f60803c9904fb1397  0.0s\n",
      "\u001b[0m\u001b[34m => => exporting config sha256:99bb443a5f0a9fc3c0a856eb73a20a8b0de5a39204  0.0s\n",
      "\u001b[0m => => exporting attestation manifest sha256:5d7ac1dca0179a52a3e724b9fdf7  0.0s\n",
      "\u001b[?25h\u001b[1A\u001b[1A\u001b[1A\u001b[1A\u001b[1A\u001b[1A\u001b[1A\u001b[1A\u001b[1A\u001b[1A\u001b[1A\u001b[1A\u001b[1A\u001b[1A\u001b[1A\u001b[1A\u001b[1A\u001b[1A\u001b[1A\u001b[1A\u001b[1A\u001b[0G\u001b[?25l[+] Building 0.5s (12/13)                                  docker:desktop-linux\n",
      "\u001b[34m => => transferring dockerfile: 676B                                       0.0s\n",
      "\u001b[0m\u001b[34m => [internal] load metadata for docker.io/library/debian:bullseye-slim    0.2s\n",
      "\u001b[0m\u001b[34m => [internal] load .dockerignore                                          0.0s\n",
      "\u001b[0m\u001b[34m => => transferring context: 2B                                            0.0s\n",
      "\u001b[0m\u001b[34m => [1/9] FROM docker.io/library/debian:bullseye-slim@sha256:3f9e53602537  0.0s\n",
      "\u001b[0m\u001b[34m => => resolve docker.io/library/debian:bullseye-slim@sha256:3f9e53602537  0.0s\n",
      "\u001b[0m\u001b[34m => CACHED [2/9] RUN apt-get update                                        0.0s\n",
      "\u001b[0m\u001b[34m => CACHED [3/9] RUN apt-get upgrade                                       0.0s\n",
      "\u001b[0m\u001b[34m => CACHED [4/9] RUN apt-get install -y curl xz-utils liblzma-dev          0.0s\n",
      "\u001b[0m\u001b[34m => CACHED [5/9] RUN curl -LO https://github.com/COMBINE-lab/salmon/relea  0.0s\n",
      "\u001b[0m\u001b[34m => CACHED [6/9] RUN tar -xzf salmon-1.5.2_linux_x86_64.tar.gz             0.0s\n",
      "\u001b[0m\u001b[34m => CACHED [7/9] RUN mv salmon-1.5.2_linux_x86_64/bin/* /usr/bin           0.0s\n",
      "\u001b[0m\u001b[34m => CACHED [8/9] RUN mv salmon-1.5.2_linux_x86_64/lib/* /usr/lib           0.0s\n",
      "\u001b[0m\u001b[34m => CACHED [9/9] RUN salmon --version                                      0.0s\n",
      "\u001b[0m => exporting to image                                                     0.2s\n",
      "\u001b[34m => => exporting layers                                                    0.0s\n",
      "\u001b[0m\u001b[34m => => exporting manifest sha256:c7e0f641beaa38ad111ce65f60803c9904fb1397  0.0s\n",
      "\u001b[0m\u001b[34m => => exporting config sha256:99bb443a5f0a9fc3c0a856eb73a20a8b0de5a39204  0.0s\n",
      "\u001b[0m\u001b[34m => => exporting attestation manifest sha256:5d7ac1dca0179a52a3e724b9fdf7  0.1s\n",
      "\u001b[0m\u001b[34m => => exporting manifest list sha256:ff904e3f94488499f58751cebe92382ec6e  0.0s\n",
      "\u001b[0m\u001b[34m => => naming to docker.io/jana/salmon:latest                              0.0s\n",
      "\u001b[0m\u001b[34m => => unpacking to docker.io/jana/salmon:latest                           0.0s\n",
      "\u001b[0m\u001b[?25h\u001b[1A\u001b[1A\u001b[1A\u001b[1A\u001b[1A\u001b[1A\u001b[1A\u001b[1A\u001b[1A\u001b[1A\u001b[1A\u001b[1A\u001b[1A\u001b[1A\u001b[1A\u001b[1A\u001b[1A\u001b[1A\u001b[1A\u001b[1A\u001b[1A\u001b[1A\u001b[1A\u001b[0G\u001b[?25l[+] Building 0.7s (13/13)                                  docker:desktop-linux\n",
      "\u001b[34m => => transferring dockerfile: 676B                                       0.0s\n",
      "\u001b[0m\u001b[34m => [internal] load metadata for docker.io/library/debian:bullseye-slim    0.2s\n",
      "\u001b[0m\u001b[34m => [internal] load .dockerignore                                          0.0s\n",
      "\u001b[0m\u001b[34m => => transferring context: 2B                                            0.0s\n",
      "\u001b[0m\u001b[34m => [1/9] FROM docker.io/library/debian:bullseye-slim@sha256:3f9e53602537  0.0s\n",
      "\u001b[0m\u001b[34m => => resolve docker.io/library/debian:bullseye-slim@sha256:3f9e53602537  0.0s\n",
      "\u001b[0m\u001b[34m => CACHED [2/9] RUN apt-get update                                        0.0s\n",
      "\u001b[0m\u001b[34m => CACHED [3/9] RUN apt-get upgrade                                       0.0s\n",
      "\u001b[0m\u001b[34m => CACHED [4/9] RUN apt-get install -y curl xz-utils liblzma-dev          0.0s\n",
      "\u001b[0m\u001b[34m => CACHED [5/9] RUN curl -LO https://github.com/COMBINE-lab/salmon/relea  0.0s\n",
      "\u001b[0m\u001b[34m => CACHED [6/9] RUN tar -xzf salmon-1.5.2_linux_x86_64.tar.gz             0.0s\n",
      "\u001b[0m\u001b[34m => CACHED [7/9] RUN mv salmon-1.5.2_linux_x86_64/bin/* /usr/bin           0.0s\n",
      "\u001b[0m\u001b[34m => CACHED [8/9] RUN mv salmon-1.5.2_linux_x86_64/lib/* /usr/lib           0.0s\n",
      "\u001b[0m\u001b[34m => CACHED [9/9] RUN salmon --version                                      0.0s\n",
      "\u001b[0m\u001b[34m => exporting to image                                                     0.2s\n",
      "\u001b[0m\u001b[34m => => exporting layers                                                    0.0s\n",
      "\u001b[0m\u001b[34m => => exporting manifest sha256:c7e0f641beaa38ad111ce65f60803c9904fb1397  0.0s\n",
      "\u001b[0m\u001b[34m => => exporting config sha256:99bb443a5f0a9fc3c0a856eb73a20a8b0de5a39204  0.0s\n",
      "\u001b[0m\u001b[34m => => exporting attestation manifest sha256:5d7ac1dca0179a52a3e724b9fdf7  0.1s\n",
      "\u001b[0m\u001b[34m => => exporting manifest list sha256:ff904e3f94488499f58751cebe92382ec6e  0.0s\n",
      "\u001b[0m\u001b[34m => => naming to docker.io/jana/salmon:latest                              0.0s\n",
      "\u001b[0m\u001b[34m => => unpacking to docker.io/jana/salmon:latest                           0.0s\n",
      "\u001b[0m\u001b[?25h\u001b[1A\u001b[1A\u001b[1A\u001b[1A\u001b[1A\u001b[1A\u001b[1A\u001b[1A\u001b[1A\u001b[1A\u001b[1A\u001b[1A\u001b[1A\u001b[1A\u001b[1A\u001b[1A\u001b[1A\u001b[1A\u001b[1A\u001b[1A\u001b[1A\u001b[1A\u001b[1A\u001b[0G\u001b[?25l[+] Building 0.8s (13/13)                                  docker:desktop-linux\n",
      "\u001b[34m => => transferring dockerfile: 676B                                       0.0s\n",
      "\u001b[0m\u001b[34m => [internal] load metadata for docker.io/library/debian:bullseye-slim    0.2s\n",
      "\u001b[0m\u001b[34m => [internal] load .dockerignore                                          0.0s\n",
      "\u001b[0m\u001b[34m => => transferring context: 2B                                            0.0s\n",
      "\u001b[0m\u001b[34m => [1/9] FROM docker.io/library/debian:bullseye-slim@sha256:3f9e53602537  0.0s\n",
      "\u001b[0m\u001b[34m => => resolve docker.io/library/debian:bullseye-slim@sha256:3f9e53602537  0.0s\n",
      "\u001b[0m\u001b[34m => CACHED [2/9] RUN apt-get update                                        0.0s\n",
      "\u001b[0m\u001b[34m => CACHED [3/9] RUN apt-get upgrade                                       0.0s\n",
      "\u001b[0m\u001b[34m => CACHED [4/9] RUN apt-get install -y curl xz-utils liblzma-dev          0.0s\n",
      "\u001b[0m\u001b[34m => CACHED [5/9] RUN curl -LO https://github.com/COMBINE-lab/salmon/relea  0.0s\n",
      "\u001b[0m\u001b[34m => CACHED [6/9] RUN tar -xzf salmon-1.5.2_linux_x86_64.tar.gz             0.0s\n",
      "\u001b[0m\u001b[34m => CACHED [7/9] RUN mv salmon-1.5.2_linux_x86_64/bin/* /usr/bin           0.0s\n",
      "\u001b[0m\u001b[34m => CACHED [8/9] RUN mv salmon-1.5.2_linux_x86_64/lib/* /usr/lib           0.0s\n",
      "\u001b[0m\u001b[34m => CACHED [9/9] RUN salmon --version                                      0.0s\n",
      "\u001b[0m\u001b[34m => exporting to image                                                     0.2s\n",
      "\u001b[0m\u001b[34m => => exporting layers                                                    0.0s\n",
      "\u001b[0m\u001b[34m => => exporting manifest sha256:c7e0f641beaa38ad111ce65f60803c9904fb1397  0.0s\n",
      "\u001b[0m\u001b[34m => => exporting config sha256:99bb443a5f0a9fc3c0a856eb73a20a8b0de5a39204  0.0s\n",
      "\u001b[0m\u001b[34m => => exporting attestation manifest sha256:5d7ac1dca0179a52a3e724b9fdf7  0.1s\n",
      "\u001b[0m\u001b[34m => => exporting manifest list sha256:ff904e3f94488499f58751cebe92382ec6e  0.0s\n",
      "\u001b[0m\u001b[34m => => naming to docker.io/jana/salmon:latest                              0.0s\n",
      "\u001b[0m\u001b[34m => => unpacking to docker.io/jana/salmon:latest                           0.0s\n",
      "\u001b[0m\u001b[?25h\u001b[1A\u001b[1A\u001b[1A\u001b[1A\u001b[1A\u001b[1A\u001b[1A\u001b[1A\u001b[1A\u001b[1A\u001b[1A\u001b[1A\u001b[1A\u001b[1A\u001b[1A\u001b[1A\u001b[1A\u001b[1A\u001b[1A\u001b[1A\u001b[1A\u001b[1A\u001b[1A\u001b[0G\u001b[?25l[+] Building 0.9s (13/13) FINISHED                         docker:desktop-linux\n",
      "\u001b[34m => [internal] load build definition from salmon_docker                    0.0s\n",
      "\u001b[0m\u001b[34m => => transferring dockerfile: 676B                                       0.0s\n",
      "\u001b[0m\u001b[34m => [internal] load metadata for docker.io/library/debian:bullseye-slim    0.2s\n",
      "\u001b[0m\u001b[34m => [internal] load .dockerignore                                          0.0s\n",
      "\u001b[0m\u001b[34m => => transferring context: 2B                                            0.0s\n",
      "\u001b[0m\u001b[34m => [1/9] FROM docker.io/library/debian:bullseye-slim@sha256:3f9e53602537  0.0s\n",
      "\u001b[0m\u001b[34m => => resolve docker.io/library/debian:bullseye-slim@sha256:3f9e53602537  0.0s\n",
      "\u001b[0m\u001b[34m => CACHED [2/9] RUN apt-get update                                        0.0s\n",
      "\u001b[0m\u001b[34m => CACHED [3/9] RUN apt-get upgrade                                       0.0s\n",
      "\u001b[0m\u001b[34m => CACHED [4/9] RUN apt-get install -y curl xz-utils liblzma-dev          0.0s\n",
      "\u001b[0m\u001b[34m => CACHED [5/9] RUN curl -LO https://github.com/COMBINE-lab/salmon/relea  0.0s\n",
      "\u001b[0m\u001b[34m => CACHED [6/9] RUN tar -xzf salmon-1.5.2_linux_x86_64.tar.gz             0.0s\n",
      "\u001b[0m\u001b[34m => CACHED [7/9] RUN mv salmon-1.5.2_linux_x86_64/bin/* /usr/bin           0.0s\n",
      "\u001b[0m\u001b[34m => CACHED [8/9] RUN mv salmon-1.5.2_linux_x86_64/lib/* /usr/lib           0.0s\n",
      "\u001b[0m\u001b[34m => CACHED [9/9] RUN salmon --version                                      0.0s\n",
      "\u001b[0m\u001b[34m => exporting to image                                                     0.2s\n",
      "\u001b[0m\u001b[34m => => exporting layers                                                    0.0s\n",
      "\u001b[0m\u001b[34m => => exporting manifest sha256:c7e0f641beaa38ad111ce65f60803c9904fb1397  0.0s\n",
      "\u001b[0m\u001b[34m => => exporting config sha256:99bb443a5f0a9fc3c0a856eb73a20a8b0de5a39204  0.0s\n",
      "\u001b[0m\u001b[34m => => exporting attestation manifest sha256:5d7ac1dca0179a52a3e724b9fdf7  0.1s\n",
      "\u001b[0m\u001b[34m => => exporting manifest list sha256:ff904e3f94488499f58751cebe92382ec6e  0.0s\n",
      "\u001b[0m\u001b[34m => => naming to docker.io/jana/salmon:latest                              0.0s\n",
      "\u001b[0m\u001b[34m => => unpacking to docker.io/jana/salmon:latest                           0.0s\n",
      "\u001b[0m\u001b[?25h\u001b[1m\n",
      "What's next:\u001b[0m\n",
      "    View a summary of image vulnerabilities and recommendations → \u001b[36mdocker scout quickview \u001b[0m\n"
     ]
    }
   ],
   "source": [
    "# build the image\n",
    "!docker build -f ./salmon_docker . -t jana/salmon"
   ]
  },
  {
   "cell_type": "code",
   "execution_count": 58,
   "metadata": {},
   "outputs": [
    {
     "name": "stdout",
     "output_type": "stream",
     "text": [
      "salmon v1.5.2\n",
      "\n",
      "Usage:  salmon -h|--help or \n",
      "        salmon -v|--version or \n",
      "        salmon -c|--cite or \n",
      "        salmon [--no-version-check] <COMMAND> [-h | options]\n",
      "\n",
      "Commands:\n",
      "     index      : create a salmon index\n",
      "     quant      : quantify a sample\n",
      "     alevin     : single cell analysis\n",
      "     swim       : perform super-secret operation\n",
      "     quantmerge : merge multiple quantifications into a single file\n"
     ]
    }
   ],
   "source": [
    "# run the docker image to give out the version of salmon\n",
    "\n",
    "!docker run jana/salmon salmon"
   ]
  },
  {
   "cell_type": "markdown",
   "metadata": {},
   "source": [
    "## Do you think bioinformaticians have to create a docker image every time they want to run a tool?\n",
    "\n",
    "Find the salmon docker image online and run it on your computer.\n",
    "\n",
    "What is https://biocontainers.pro/ ?"
   ]
  },
  {
   "cell_type": "code",
   "execution_count": 59,
   "metadata": {
    "vscode": {
     "languageId": "shellscript"
    }
   },
   "outputs": [
    {
     "name": "stdout",
     "output_type": "stream",
     "text": [
      "salmon v1.10.3\n",
      "\n",
      "Usage:  salmon -h|--help or \n",
      "        salmon -v|--version or \n",
      "        salmon -c|--cite or \n",
      "        salmon [--no-version-check] <COMMAND> [-h | options]\n",
      "\n",
      "Commands:\n",
      "     index      : create a salmon index\n",
      "     quant      : quantify a sample\n",
      "     alevin     : single cell analysis\n",
      "     swim       : perform super-secret operation\n",
      "     quantmerge : merge multiple quantifications into a single file\n"
     ]
    }
   ],
   "source": [
    "#!docker pull combinelab/salmon:latest\n",
    "!docker run combinelab/salmon:latest salmon"
   ]
  },
  {
   "cell_type": "markdown",
   "metadata": {},
   "source": [
    "Biocontainers is a project that gives guidelines to help developing reproducible pipelines and good software[[source]](https://biocontainers-edu.readthedocs.io/en/latest/what_is_biocontainers.html). Reproducibility gets ensured by utilizing Conda, Docker and Singularity containers. In addition Biocontainers also provides some containers.\n"
   ]
  }
 ],
 "metadata": {
  "kernelspec": {
   "display_name": "compworkflows",
   "language": "python",
   "name": "python3"
  },
  "language_info": {
   "codemirror_mode": {
    "name": "ipython",
    "version": 3
   },
   "file_extension": ".py",
   "mimetype": "text/x-python",
   "name": "python",
   "nbconvert_exporter": "python",
   "pygments_lexer": "ipython3",
   "version": "3.10.15"
  }
 },
 "nbformat": 4,
 "nbformat_minor": 2
}
