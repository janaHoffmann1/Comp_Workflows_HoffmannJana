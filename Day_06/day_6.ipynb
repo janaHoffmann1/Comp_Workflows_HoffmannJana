{
 "cells": [
  {
   "cell_type": "markdown",
   "metadata": {},
   "source": [
    "# Day 6 - Nextflow Basics: Introduction to channels and operators"
   ]
  },
  {
   "cell_type": "markdown",
   "metadata": {},
   "source": [
    "Today, we will begin exploring Nextflow, the programming language that powers the advanced nf-core pipelines you worked with last week. Your task is to dive into the core concepts and syntax of Nextflow, understanding how this language enables the development of scalable and reproducible workflows.\n",
    "\n",
    "Nextflow works quite differently from traditional programming languages like Python or Java that you may already be familiar with. To get started, it is essential to understand the foundational concepts that set Nextflow apart."
   ]
  },
  {
   "cell_type": "markdown",
   "metadata": {},
   "source": [
    "### 1. Describe the concept of Workflows, Processes and Channels we deal with in Nextflow"
   ]
  },
  {
   "cell_type": "markdown",
   "metadata": {},
   "source": [
    "Workflows: In Nextflow a workflow includes different processes and in which order the different processes are executed[[source]](https://www.nextflow.io/docs/latest/workflow.html). The workflow takes the input through input channels and returns the result to an output channel.\n",
    "\n",
    "\n",
    "\n",
    "\n",
    "\n",
    "Processes: A process in Nextflow is a function that calls a command or script[[source]](https://www.nextflow.io/docs/latest/process.html). By default Nextflow assumes bash commands, but it is also possible to define in which language the command or script gets interpreted in the beginning of a process. A workflow combines many processes. \n",
    "\n",
    "\n",
    "\n",
    "\n",
    "\n",
    "\n",
    "Channels: In Nextflow channels are used to connect different processes[[source]](https://www.nextflow.io/docs/latest/channel.html). The output of one process is passed as input to the next process by a channel. When a process is done the output gets directly passed to the channel and then to the next process. The next process can only start after receiving the output from the channel. "
   ]
  },
  {
   "cell_type": "markdown",
   "metadata": {},
   "source": [
    "## Introduction to channels\n",
    "\n",
    "Please refer to the file  $\\texttt{channels\\_intro.nf}$ for the next exercises. Then run the code with the respective flag here below. "
   ]
  },
  {
   "cell_type": "code",
   "execution_count": 24,
   "metadata": {},
   "outputs": [
    {
     "name": "stdout",
     "output_type": "stream",
     "text": [
      "^C\n"
     ]
    }
   ],
   "source": [
    "# Task 1 - Create a channel that enumerates the numbers from 1 to 10\n",
    "!nextflow run channels_intro.nf --step 1"
   ]
  },
  {
   "cell_type": "code",
   "execution_count": 2,
   "metadata": {},
   "outputs": [
    {
     "name": "stdout",
     "output_type": "stream",
     "text": [
      "\n",
      "\u001b[1m\u001b[38;5;232m\u001b[48;5;43m N E X T F L O W \u001b[0;2m  ~  \u001b[mversion 24.04.4\u001b[m\n",
      "\u001b[K\n",
      "Launching\u001b[35m `channels_intro.nf` \u001b[0;2m[\u001b[0;1;36mintergalactic_ramanujan\u001b[0;2m] DSL2 - \u001b[36mrevision: \u001b[0;36me32a5d7b58\u001b[m\n",
      "\u001b[K\n",
      "a\n",
      "b\n",
      "c\n",
      "d\n",
      "e\n",
      "f\n",
      "g\n",
      "h\n",
      "i\n",
      "j\n",
      "k\n",
      "l\n",
      "m\n",
      "n\n",
      "o\n",
      "p\n",
      "q\n",
      "r\n",
      "s\n",
      "t\n",
      "u\n",
      "v\n",
      "w\n",
      "x\n",
      "y\n",
      "z\n"
     ]
    }
   ],
   "source": [
    "# Task 2 - Create a channel that gives out the entire alphabet\n",
    "!nextflow run channels_intro.nf --step 2"
   ]
  },
  {
   "cell_type": "code",
   "execution_count": 3,
   "metadata": {},
   "outputs": [
    {
     "name": "stdout",
     "output_type": "stream",
     "text": [
      "\n",
      "\u001b[1m\u001b[38;5;232m\u001b[48;5;43m N E X T F L O W \u001b[0;2m  ~  \u001b[mversion 24.04.4\u001b[m\n",
      "\u001b[K\n",
      "Launching\u001b[35m `channels_intro.nf` \u001b[0;2m[\u001b[0;1;36mdreamy_sammet\u001b[0;2m] DSL2 - \u001b[36mrevision: \u001b[0;36me32a5d7b58\u001b[m\n",
      "\u001b[K\n",
      "/home/jana/UNI/Master/IISemester/compworkflows/day_6/files_dir/fastq.fq\n",
      "/home/jana/UNI/Master/IISemester/compworkflows/day_6/files_dir/fastq5_2.fq\n",
      "/home/jana/UNI/Master/IISemester/compworkflows/day_6/files_dir/fastq2_1.fq\n",
      "/home/jana/UNI/Master/IISemester/compworkflows/day_6/files_dir/fastq5_1.fq\n",
      "/home/jana/UNI/Master/IISemester/compworkflows/day_6/files_dir/SRR5_2.fq\n",
      "/home/jana/UNI/Master/IISemester/compworkflows/day_6/files_dir/fastq4_1.fq\n",
      "/home/jana/UNI/Master/IISemester/compworkflows/day_6/files_dir/fastq4_2.fq\n",
      "/home/jana/UNI/Master/IISemester/compworkflows/day_6/files_dir/SRR3_2.fq\n",
      "/home/jana/UNI/Master/IISemester/compworkflows/day_6/files_dir/file_5.txt\n",
      "/home/jana/UNI/Master/IISemester/compworkflows/day_6/files_dir/fastq3_2.fq\n",
      "/home/jana/UNI/Master/IISemester/compworkflows/day_6/files_dir/file_3.txt\n",
      "/home/jana/UNI/Master/IISemester/compworkflows/day_6/files_dir/fastq_2.fq\n",
      "/home/jana/UNI/Master/IISemester/compworkflows/day_6/files_dir/fastq_1.fq\n",
      "/home/jana/UNI/Master/IISemester/compworkflows/day_6/files_dir/fastq2_2.fq\n",
      "/home/jana/UNI/Master/IISemester/compworkflows/day_6/files_dir/SRR1_2.fq\n",
      "/home/jana/UNI/Master/IISemester/compworkflows/day_6/files_dir/SRR2_1.fq\n",
      "/home/jana/UNI/Master/IISemester/compworkflows/day_6/files_dir/fastq1_1.fq\n",
      "/home/jana/UNI/Master/IISemester/compworkflows/day_6/files_dir/SRR2_2.fq\n",
      "/home/jana/UNI/Master/IISemester/compworkflows/day_6/files_dir/SRR5_1.fq\n",
      "/home/jana/UNI/Master/IISemester/compworkflows/day_6/files_dir/file_4.txt\n",
      "/home/jana/UNI/Master/IISemester/compworkflows/day_6/files_dir/file_2.txt\n",
      "/home/jana/UNI/Master/IISemester/compworkflows/day_6/files_dir/SRR1_1.fq\n",
      "/home/jana/UNI/Master/IISemester/compworkflows/day_6/files_dir/file_1.txt\n",
      "/home/jana/UNI/Master/IISemester/compworkflows/day_6/files_dir/SRR4_1.fq\n",
      "/home/jana/UNI/Master/IISemester/compworkflows/day_6/files_dir/SRR.fq\n",
      "/home/jana/UNI/Master/IISemester/compworkflows/day_6/files_dir/fastq3_1.fq\n",
      "/home/jana/UNI/Master/IISemester/compworkflows/day_6/files_dir/fastq1_2.fq\n",
      "/home/jana/UNI/Master/IISemester/compworkflows/day_6/files_dir/SRR4_2.fq\n",
      "/home/jana/UNI/Master/IISemester/compworkflows/day_6/files_dir/SRR3_1.fq\n"
     ]
    }
   ],
   "source": [
    "# Task 3 - Create a channel that includes all files in the \"files_dir\" directory\n",
    "!nextflow run channels_intro.nf --step 3"
   ]
  },
  {
   "cell_type": "code",
   "execution_count": 4,
   "metadata": {},
   "outputs": [
    {
     "name": "stdout",
     "output_type": "stream",
     "text": [
      "\n",
      "\u001b[1m\u001b[38;5;232m\u001b[48;5;43m N E X T F L O W \u001b[0;2m  ~  \u001b[mversion 24.04.4\u001b[m\n",
      "\u001b[K\n",
      "Launching\u001b[35m `channels_intro.nf` \u001b[0;2m[\u001b[0;1;36msick_watson\u001b[0;2m] DSL2 - \u001b[36mrevision: \u001b[0;36me32a5d7b58\u001b[m\n",
      "\u001b[K\n",
      "/home/jana/UNI/Master/IISemester/compworkflows/day_6/files_dir/file_5.txt\n",
      "/home/jana/UNI/Master/IISemester/compworkflows/day_6/files_dir/file_3.txt\n",
      "/home/jana/UNI/Master/IISemester/compworkflows/day_6/files_dir/file_4.txt\n",
      "/home/jana/UNI/Master/IISemester/compworkflows/day_6/files_dir/file_2.txt\n",
      "/home/jana/UNI/Master/IISemester/compworkflows/day_6/files_dir/file_1.txt\n"
     ]
    }
   ],
   "source": [
    "# Task 4 - Create a channel that includes all TXT files in the \"files_dir\" directory\n",
    "!nextflow run channels_intro.nf --step 4"
   ]
  },
  {
   "cell_type": "code",
   "execution_count": 5,
   "metadata": {},
   "outputs": [
    {
     "name": "stdout",
     "output_type": "stream",
     "text": [
      "\n",
      "\u001b[1m\u001b[38;5;232m\u001b[48;5;43m N E X T F L O W \u001b[0;2m  ~  \u001b[mversion 24.04.4\u001b[m\n",
      "\u001b[K\n",
      "Launching\u001b[35m `channels_intro.nf` \u001b[0;2m[\u001b[0;1;36mshrivelled_albattani\u001b[0;2m] DSL2 - \u001b[36mrevision: \u001b[0;36me32a5d7b58\u001b[m\n",
      "\u001b[K\n",
      "/home/jana/UNI/Master/IISemester/compworkflows/day_6/files_dir/fastq_2.fq\n",
      "/home/jana/UNI/Master/IISemester/compworkflows/day_6/files_dir/fastq_1.fq\n"
     ]
    }
   ],
   "source": [
    "# Task 5 - Create a channel that includes the files \"fastq_1.fq\" and \"fastq_2.fq\" in the \"files_dir\" directory\n",
    "!nextflow run channels_intro.nf --step 5"
   ]
  },
  {
   "cell_type": "code",
   "execution_count": 6,
   "metadata": {},
   "outputs": [
    {
     "name": "stdout",
     "output_type": "stream",
     "text": [
      "\n",
      "\u001b[1m\u001b[38;5;232m\u001b[48;5;43m N E X T F L O W \u001b[0;2m  ~  \u001b[mversion 24.04.4\u001b[m\n",
      "\u001b[K\n",
      "Launching\u001b[35m `channels_intro.nf` \u001b[0;2m[\u001b[0;1;36mconfident_mcnulty\u001b[0;2m] DSL2 - \u001b[36mrevision: \u001b[0;36me32a5d7b58\u001b[m\n",
      "\u001b[K\n",
      "/home/jana/UNI/Master/IISemester/compworkflows/day_6/files_dir/fastq.fq\n",
      "/home/jana/UNI/Master/IISemester/compworkflows/day_6/files_dir/fastq5_2.fq\n",
      "/home/jana/UNI/Master/IISemester/compworkflows/day_6/files_dir/fastq2_1.fq\n",
      "/home/jana/UNI/Master/IISemester/compworkflows/day_6/files_dir/fastq5_1.fq\n",
      "/home/jana/UNI/Master/IISemester/compworkflows/day_6/files_dir/SRR5_2.fq\n",
      "/home/jana/UNI/Master/IISemester/compworkflows/day_6/files_dir/fastq4_1.fq\n",
      "/home/jana/UNI/Master/IISemester/compworkflows/day_6/files_dir/fastq4_2.fq\n",
      "/home/jana/UNI/Master/IISemester/compworkflows/day_6/files_dir/SRR3_2.fq\n",
      "/home/jana/UNI/Master/IISemester/compworkflows/day_6/files_dir/file_5.txt\n",
      "/home/jana/UNI/Master/IISemester/compworkflows/day_6/files_dir/fastq3_2.fq\n",
      "/home/jana/UNI/Master/IISemester/compworkflows/day_6/files_dir/file_3.txt\n",
      "/home/jana/UNI/Master/IISemester/compworkflows/day_6/files_dir/fastq_2.fq\n",
      "/home/jana/UNI/Master/IISemester/compworkflows/day_6/files_dir/fastq_1.fq\n",
      "/home/jana/UNI/Master/IISemester/compworkflows/day_6/files_dir/fastq2_2.fq\n",
      "/home/jana/UNI/Master/IISemester/compworkflows/day_6/files_dir/SRR1_2.fq\n",
      "/home/jana/UNI/Master/IISemester/compworkflows/day_6/files_dir/SRR2_1.fq\n",
      "/home/jana/UNI/Master/IISemester/compworkflows/day_6/files_dir/.hidden_1.txt\n",
      "/home/jana/UNI/Master/IISemester/compworkflows/day_6/files_dir/fastq1_1.fq\n",
      "/home/jana/UNI/Master/IISemester/compworkflows/day_6/files_dir/SRR2_2.fq\n",
      "/home/jana/UNI/Master/IISemester/compworkflows/day_6/files_dir/SRR5_1.fq\n",
      "/home/jana/UNI/Master/IISemester/compworkflows/day_6/files_dir/file_4.txt\n",
      "/home/jana/UNI/Master/IISemester/compworkflows/day_6/files_dir/file_2.txt\n",
      "/home/jana/UNI/Master/IISemester/compworkflows/day_6/files_dir/SRR1_1.fq\n",
      "/home/jana/UNI/Master/IISemester/compworkflows/day_6/files_dir/file_1.txt\n",
      "/home/jana/UNI/Master/IISemester/compworkflows/day_6/files_dir/SRR4_1.fq\n",
      "/home/jana/UNI/Master/IISemester/compworkflows/day_6/files_dir/SRR.fq\n",
      "/home/jana/UNI/Master/IISemester/compworkflows/day_6/files_dir/fastq3_1.fq\n",
      "/home/jana/UNI/Master/IISemester/compworkflows/day_6/files_dir/fastq1_2.fq\n",
      "/home/jana/UNI/Master/IISemester/compworkflows/day_6/files_dir/SRR4_2.fq\n",
      "/home/jana/UNI/Master/IISemester/compworkflows/day_6/files_dir/SRR3_1.fq\n",
      "/home/jana/UNI/Master/IISemester/compworkflows/day_6/files_dir/.hidden_2.txt\n"
     ]
    }
   ],
   "source": [
    "# Task 6 - go back to the time when you included all files. Are you sure that really ALL files are included? If not, how can you include them?\n",
    "!nextflow run channels_intro.nf --step 6"
   ]
  },
  {
   "cell_type": "code",
   "execution_count": 7,
   "metadata": {},
   "outputs": [
    {
     "name": "stdout",
     "output_type": "stream",
     "text": [
      "\n",
      "\u001b[1m\u001b[38;5;232m\u001b[48;5;43m N E X T F L O W \u001b[0;2m  ~  \u001b[mversion 24.04.4\u001b[m\n",
      "\u001b[K\n",
      "Launching\u001b[35m `channels_intro.nf` \u001b[0;2m[\u001b[0;1;36mmodest_meitner\u001b[0;2m] DSL2 - \u001b[36mrevision: \u001b[0;36me32a5d7b58\u001b[m\n",
      "\u001b[K\n",
      "[fastq5, [/home/jana/UNI/Master/IISemester/compworkflows/day_6/files_dir/fastq5_1.fq, /home/jana/UNI/Master/IISemester/compworkflows/day_6/files_dir/fastq5_2.fq]]\n",
      "[fastq4, [/home/jana/UNI/Master/IISemester/compworkflows/day_6/files_dir/fastq4_1.fq, /home/jana/UNI/Master/IISemester/compworkflows/day_6/files_dir/fastq4_2.fq]]\n",
      "[fastq, [/home/jana/UNI/Master/IISemester/compworkflows/day_6/files_dir/fastq_1.fq, /home/jana/UNI/Master/IISemester/compworkflows/day_6/files_dir/fastq_2.fq]]\n",
      "[fastq2, [/home/jana/UNI/Master/IISemester/compworkflows/day_6/files_dir/fastq2_1.fq, /home/jana/UNI/Master/IISemester/compworkflows/day_6/files_dir/fastq2_2.fq]]\n",
      "[SRR2, [/home/jana/UNI/Master/IISemester/compworkflows/day_6/files_dir/SRR2_1.fq, /home/jana/UNI/Master/IISemester/compworkflows/day_6/files_dir/SRR2_2.fq]]\n",
      "[SRR5, [/home/jana/UNI/Master/IISemester/compworkflows/day_6/files_dir/SRR5_1.fq, /home/jana/UNI/Master/IISemester/compworkflows/day_6/files_dir/SRR5_2.fq]]\n",
      "[SRR1, [/home/jana/UNI/Master/IISemester/compworkflows/day_6/files_dir/SRR1_1.fq, /home/jana/UNI/Master/IISemester/compworkflows/day_6/files_dir/SRR1_2.fq]]\n",
      "[fastq3, [/home/jana/UNI/Master/IISemester/compworkflows/day_6/files_dir/fastq3_1.fq, /home/jana/UNI/Master/IISemester/compworkflows/day_6/files_dir/fastq3_2.fq]]\n",
      "[fastq1, [/home/jana/UNI/Master/IISemester/compworkflows/day_6/files_dir/fastq1_1.fq, /home/jana/UNI/Master/IISemester/compworkflows/day_6/files_dir/fastq1_2.fq]]\n",
      "[SRR4, [/home/jana/UNI/Master/IISemester/compworkflows/day_6/files_dir/SRR4_1.fq, /home/jana/UNI/Master/IISemester/compworkflows/day_6/files_dir/SRR4_2.fq]]\n",
      "[SRR3, [/home/jana/UNI/Master/IISemester/compworkflows/day_6/files_dir/SRR3_1.fq, /home/jana/UNI/Master/IISemester/compworkflows/day_6/files_dir/SRR3_2.fq]]\n"
     ]
    }
   ],
   "source": [
    "# Task 7 - get all filepairs in the \"files_dir\" directory\n",
    "!nextflow run channels_intro.nf --step 7"
   ]
  },
  {
   "cell_type": "markdown",
   "metadata": {},
   "source": [
    "## Now that you have a solid understanding of the basic concepts of channels in Nextflow, it’s time to experiment and see how they work in practice."
   ]
  },
  {
   "cell_type": "markdown",
   "metadata": {},
   "source": [
    "To do so, Nextflow has the concept of Operators to give and pass information inbetween channels.\n",
    "\n",
    "Please answer the questions in $\\texttt{basic\\_channel\\_operations.nf}$ and run the code here. "
   ]
  },
  {
   "cell_type": "code",
   "execution_count": 3,
   "metadata": {},
   "outputs": [
    {
     "name": "stdout",
     "output_type": "stream",
     "text": [
      "\n",
      "\u001b[1m\u001b[38;5;232m\u001b[48;5;43m N E X T F L O W \u001b[0;2m  ~  \u001b[mversion 24.04.4\u001b[m\n",
      "\u001b[K\n",
      "Launching\u001b[35m `basic_channel_operations.nf` \u001b[0;2m[\u001b[0;1;36msad_ptolemy\u001b[0;2m] DSL2 - \u001b[36mrevision: \u001b[0;36m20a6a4e244\u001b[m\n",
      "\u001b[K\n",
      "1\n"
     ]
    }
   ],
   "source": [
    "# Task 1 - Extract the first item from the channel\n",
    "!nextflow run basic_channel_operations.nf --step 1"
   ]
  },
  {
   "cell_type": "code",
   "execution_count": 4,
   "metadata": {},
   "outputs": [
    {
     "name": "stdout",
     "output_type": "stream",
     "text": [
      "\n",
      "\u001b[1m\u001b[38;5;232m\u001b[48;5;43m N E X T F L O W \u001b[0;2m  ~  \u001b[mversion 24.04.4\u001b[m\n",
      "\u001b[K\n",
      "Launching\u001b[35m `basic_channel_operations.nf` \u001b[0;2m[\u001b[0;1;36mmarvelous_stallman\u001b[0;2m] DSL2 - \u001b[36mrevision: \u001b[0;36m20a6a4e244\u001b[m\n",
      "\u001b[K\n",
      "3\n"
     ]
    }
   ],
   "source": [
    "# Task 2 - Extract the last item from the channel\n",
    "!nextflow run basic_channel_operations.nf --step 2"
   ]
  },
  {
   "cell_type": "code",
   "execution_count": 5,
   "metadata": {},
   "outputs": [
    {
     "name": "stdout",
     "output_type": "stream",
     "text": [
      "\n",
      "\u001b[1m\u001b[38;5;232m\u001b[48;5;43m N E X T F L O W \u001b[0;2m  ~  \u001b[mversion 24.04.4\u001b[m\n",
      "\u001b[K\n",
      "Launching\u001b[35m `basic_channel_operations.nf` \u001b[0;2m[\u001b[0;1;36mcheeky_mayer\u001b[0;2m] DSL2 - \u001b[36mrevision: \u001b[0;36m20a6a4e244\u001b[m\n",
      "\u001b[K\n",
      "1\n",
      "2\n"
     ]
    }
   ],
   "source": [
    "# Task 3 - Use an operator to extract the first two items from the channel\n",
    "!nextflow run basic_channel_operations.nf --step 3"
   ]
  },
  {
   "cell_type": "code",
   "execution_count": 6,
   "metadata": {},
   "outputs": [
    {
     "name": "stdout",
     "output_type": "stream",
     "text": [
      "\n",
      "\u001b[1m\u001b[38;5;232m\u001b[48;5;43m N E X T F L O W \u001b[0;2m  ~  \u001b[mversion 24.04.4\u001b[m\n",
      "\u001b[K\n",
      "Launching\u001b[35m `basic_channel_operations.nf` \u001b[0;2m[\u001b[0;1;36mgoofy_khorana\u001b[0;2m] DSL2 - \u001b[36mrevision: \u001b[0;36m20a6a4e244\u001b[m\n",
      "\u001b[K\n",
      "4\n",
      "9\n",
      "16\n"
     ]
    }
   ],
   "source": [
    "# Task 4 - Return the squared values of the channel\n",
    "!nextflow run basic_channel_operations.nf --step 4"
   ]
  },
  {
   "cell_type": "code",
   "execution_count": 7,
   "metadata": {},
   "outputs": [
    {
     "name": "stdout",
     "output_type": "stream",
     "text": [
      "\n",
      "\u001b[1m\u001b[38;5;232m\u001b[48;5;43m N E X T F L O W \u001b[0;2m  ~  \u001b[mversion 24.04.4\u001b[m\n",
      "\u001b[K\n",
      "Launching\u001b[35m `basic_channel_operations.nf` \u001b[0;2m[\u001b[0;1;36mnostalgic_gilbert\u001b[0;2m] DSL2 - \u001b[36mrevision: \u001b[0;36m20a6a4e244\u001b[m\n",
      "\u001b[K\n",
      "4\n",
      "9\n"
     ]
    }
   ],
   "source": [
    "# Task 5 - Remember the previous task where you squared the values of the channel. Now, extract the first two items from the squared channel\n",
    "!nextflow run basic_channel_operations.nf --step 5"
   ]
  },
  {
   "cell_type": "code",
   "execution_count": 8,
   "metadata": {},
   "outputs": [
    {
     "name": "stdout",
     "output_type": "stream",
     "text": [
      "\n",
      "\u001b[1m\u001b[38;5;232m\u001b[48;5;43m N E X T F L O W \u001b[0;2m  ~  \u001b[mversion 24.04.4\u001b[m\n",
      "\u001b[K\n",
      "Launching\u001b[35m `basic_channel_operations.nf` \u001b[0;2m[\u001b[0;1;36mgolden_brahmagupta\u001b[0;2m] DSL2 - \u001b[36mrevision: \u001b[0;36m20a6a4e244\u001b[m\n",
      "\u001b[K\n",
      "rolyaT\n",
      "tfiwS\n"
     ]
    }
   ],
   "source": [
    "# Task 6 - Remember when you used bash to reverse the output? Try to use map and Groovy to reverse the output\n",
    "!nextflow run basic_channel_operations.nf --step 6"
   ]
  },
  {
   "cell_type": "code",
   "execution_count": 9,
   "metadata": {},
   "outputs": [
    {
     "name": "stdout",
     "output_type": "stream",
     "text": [
      "\n",
      "\u001b[1m\u001b[38;5;232m\u001b[48;5;43m N E X T F L O W \u001b[0;2m  ~  \u001b[mversion 24.04.4\u001b[m\n",
      "\u001b[K\n",
      "Launching\u001b[35m `basic_channel_operations.nf` \u001b[0;2m[\u001b[0;1;36mcompassionate_feynman\u001b[0;2m] DSL2 - \u001b[36mrevision: \u001b[0;36m20a6a4e244\u001b[m\n",
      "\u001b[K\n",
      "[fastq.fq, /home/jana/UNI/Master/IISemester/compworkflows/day_6/files_dir/fastq.fq]\n",
      "[fastq5_2.fq, /home/jana/UNI/Master/IISemester/compworkflows/day_6/files_dir/fastq5_2.fq]\n",
      "[fastq2_1.fq, /home/jana/UNI/Master/IISemester/compworkflows/day_6/files_dir/fastq2_1.fq]\n",
      "[fastq5_1.fq, /home/jana/UNI/Master/IISemester/compworkflows/day_6/files_dir/fastq5_1.fq]\n",
      "[SRR5_2.fq, /home/jana/UNI/Master/IISemester/compworkflows/day_6/files_dir/SRR5_2.fq]\n",
      "[fastq4_1.fq, /home/jana/UNI/Master/IISemester/compworkflows/day_6/files_dir/fastq4_1.fq]\n",
      "[fastq4_2.fq, /home/jana/UNI/Master/IISemester/compworkflows/day_6/files_dir/fastq4_2.fq]\n",
      "[SRR3_2.fq, /home/jana/UNI/Master/IISemester/compworkflows/day_6/files_dir/SRR3_2.fq]\n",
      "[fastq3_2.fq, /home/jana/UNI/Master/IISemester/compworkflows/day_6/files_dir/fastq3_2.fq]\n",
      "[fastq_2.fq, /home/jana/UNI/Master/IISemester/compworkflows/day_6/files_dir/fastq_2.fq]\n",
      "[fastq_1.fq, /home/jana/UNI/Master/IISemester/compworkflows/day_6/files_dir/fastq_1.fq]\n",
      "[fastq2_2.fq, /home/jana/UNI/Master/IISemester/compworkflows/day_6/files_dir/fastq2_2.fq]\n",
      "[SRR1_2.fq, /home/jana/UNI/Master/IISemester/compworkflows/day_6/files_dir/SRR1_2.fq]\n",
      "[SRR2_1.fq, /home/jana/UNI/Master/IISemester/compworkflows/day_6/files_dir/SRR2_1.fq]\n",
      "[fastq1_1.fq, /home/jana/UNI/Master/IISemester/compworkflows/day_6/files_dir/fastq1_1.fq]\n",
      "[SRR2_2.fq, /home/jana/UNI/Master/IISemester/compworkflows/day_6/files_dir/SRR2_2.fq]\n",
      "[SRR5_1.fq, /home/jana/UNI/Master/IISemester/compworkflows/day_6/files_dir/SRR5_1.fq]\n",
      "[SRR1_1.fq, /home/jana/UNI/Master/IISemester/compworkflows/day_6/files_dir/SRR1_1.fq]\n",
      "[SRR4_1.fq, /home/jana/UNI/Master/IISemester/compworkflows/day_6/files_dir/SRR4_1.fq]\n",
      "[SRR.fq, /home/jana/UNI/Master/IISemester/compworkflows/day_6/files_dir/SRR.fq]\n",
      "[fastq3_1.fq, /home/jana/UNI/Master/IISemester/compworkflows/day_6/files_dir/fastq3_1.fq]\n",
      "[fastq1_2.fq, /home/jana/UNI/Master/IISemester/compworkflows/day_6/files_dir/fastq1_2.fq]\n",
      "[SRR4_2.fq, /home/jana/UNI/Master/IISemester/compworkflows/day_6/files_dir/SRR4_2.fq]\n",
      "[SRR3_1.fq, /home/jana/UNI/Master/IISemester/compworkflows/day_6/files_dir/SRR3_1.fq]\n"
     ]
    }
   ],
   "source": [
    "# Task 7 - Use fromPath to include all fastq files in the \"files_dir\" directory, then use map to return a pair containing the file name and the file path (Hint: include groovy code)\n",
    "!nextflow run basic_channel_operations.nf --step 7"
   ]
  },
  {
   "cell_type": "code",
   "execution_count": 10,
   "metadata": {},
   "outputs": [
    {
     "name": "stdout",
     "output_type": "stream",
     "text": [
      "\n",
      "\u001b[1m\u001b[38;5;232m\u001b[48;5;43m N E X T F L O W \u001b[0;2m  ~  \u001b[mversion 24.04.4\u001b[m\n",
      "\u001b[K\n",
      "Launching\u001b[35m `basic_channel_operations.nf` \u001b[0;2m[\u001b[0;1;36mintergalactic_cuvier\u001b[0;2m] DSL2 - \u001b[36mrevision: \u001b[0;36m20a6a4e244\u001b[m\n",
      "\u001b[K\n",
      "a\n",
      "b\n",
      "c\n",
      "1\n",
      "2\n",
      "3\n",
      "4\n",
      "5\n",
      "6\n"
     ]
    }
   ],
   "source": [
    "# Task 8 - Combine the items from the two channels into a single channel\n",
    "!nextflow run basic_channel_operations.nf --step 8"
   ]
  },
  {
   "cell_type": "code",
   "execution_count": 11,
   "metadata": {},
   "outputs": [
    {
     "name": "stdout",
     "output_type": "stream",
     "text": [
      "\n",
      "\u001b[1m\u001b[38;5;232m\u001b[48;5;43m N E X T F L O W \u001b[0;2m  ~  \u001b[mversion 24.04.4\u001b[m\n",
      "\u001b[K\n",
      "Launching\u001b[35m `basic_channel_operations.nf` \u001b[0;2m[\u001b[0;1;36mirreverent_panini\u001b[0;2m] DSL2 - \u001b[36mrevision: \u001b[0;36m20a6a4e244\u001b[m\n",
      "\u001b[K\n",
      "1\n",
      "2\n",
      "3\n",
      "4\n",
      "5\n",
      "6\n"
     ]
    }
   ],
   "source": [
    "# Task 9 - Flatten the list in the channel\n",
    "!nextflow run basic_channel_operations.nf --step 9"
   ]
  },
  {
   "cell_type": "code",
   "execution_count": 12,
   "metadata": {},
   "outputs": [
    {
     "name": "stdout",
     "output_type": "stream",
     "text": [
      "\n",
      "\u001b[1m\u001b[38;5;232m\u001b[48;5;43m N E X T F L O W \u001b[0;2m  ~  \u001b[mversion 24.04.4\u001b[m\n",
      "\u001b[K\n",
      "Launching\u001b[35m `basic_channel_operations.nf` \u001b[0;2m[\u001b[0;1;36msharp_montalcini\u001b[0;2m] DSL2 - \u001b[36mrevision: \u001b[0;36m20a6a4e244\u001b[m\n",
      "\u001b[K\n",
      "[1, 2, 3]\n"
     ]
    }
   ],
   "source": [
    "# Task 10 - Collect the items of a channel into a list. What kind of channel is the output channel?\n",
    "!nextflow run basic_channel_operations.nf --step 10"
   ]
  },
  {
   "cell_type": "markdown",
   "metadata": {},
   "source": [
    "What kind of channel is the output channel?\n",
    "The output channel is a value channel[[source]](https://www.nextflow.io/docs/latest/reference/operator.html#collect)."
   ]
  },
  {
   "cell_type": "code",
   "execution_count": 13,
   "metadata": {},
   "outputs": [
    {
     "name": "stdout",
     "output_type": "stream",
     "text": [
      "\n",
      "\u001b[1m\u001b[38;5;232m\u001b[48;5;43m N E X T F L O W \u001b[0;2m  ~  \u001b[mversion 24.04.4\u001b[m\n",
      "\u001b[K\n",
      "Launching\u001b[35m `basic_channel_operations.nf` \u001b[0;2m[\u001b[0;1;36mhappy_golick\u001b[0;2m] DSL2 - \u001b[36mrevision: \u001b[0;36m20a6a4e244\u001b[m\n",
      "\u001b[K\n",
      "[1, [V, f, B]]\n",
      "[3, [M, G, 33]]\n",
      "[2, [O, L, E]]\n"
     ]
    }
   ],
   "source": [
    "# Task 11 -  From the input channel, create lists where each first item in the list of lists is the first item in the output channel, followed by a list of all the items its paired with\n",
    "!nextflow run basic_channel_operations.nf --step 11"
   ]
  },
  {
   "cell_type": "code",
   "execution_count": 14,
   "metadata": {},
   "outputs": [
    {
     "name": "stdout",
     "output_type": "stream",
     "text": [
      "\n",
      "\u001b[1m\u001b[38;5;232m\u001b[48;5;43m N E X T F L O W \u001b[0;2m  ~  \u001b[mversion 24.04.4\u001b[m\n",
      "\u001b[K\n",
      "Launching\u001b[35m `basic_channel_operations.nf` \u001b[0;2m[\u001b[0;1;36mzen_swirles\u001b[0;2m] DSL2 - \u001b[36mrevision: \u001b[0;36m20a6a4e244\u001b[m\n",
      "\u001b[K\n",
      "[1, V, f]\n",
      "[3, M, G]\n",
      "[2, O, L]\n"
     ]
    }
   ],
   "source": [
    "# Task 12 - Create a channel that joins the input to the output channel. What do you notice?\n",
    "!nextflow run basic_channel_operations.nf --step 12"
   ]
  },
  {
   "cell_type": "markdown",
   "metadata": {},
   "source": [
    "Task 12 - What do you notice compared to Task 11?\n",
    "For each key only the first entry of each list with that key is in the output channel."
   ]
  },
  {
   "cell_type": "code",
   "execution_count": 15,
   "metadata": {},
   "outputs": [
    {
     "name": "stdout",
     "output_type": "stream",
     "text": [
      "\n",
      "\u001b[1m\u001b[38;5;232m\u001b[48;5;43m N E X T F L O W \u001b[0;2m  ~  \u001b[mversion 24.04.4\u001b[m\n",
      "\u001b[K\n",
      "Launching\u001b[35m `basic_channel_operations.nf` \u001b[0;2m[\u001b[0;1;36mstupefied_ride\u001b[0;2m] DSL2 - \u001b[36mrevision: \u001b[0;36m20a6a4e244\u001b[m\n",
      "\u001b[K\n",
      "The list of even numbers: [2, 4, 6, 8, 10]\n",
      "The list of odd numbers: [1, 3, 5, 7, 9]\n"
     ]
    }
   ],
   "source": [
    "# Task 13 - Split the input channel into two channels, one of all the even numbers and the other of all the odd numbers.\n",
    "#           Write them to stdout including information about which is which\n",
    "!nextflow run basic_channel_operations.nf --step 13 -dump-channels"
   ]
  },
  {
   "cell_type": "code",
   "execution_count": 16,
   "metadata": {},
   "outputs": [
    {
     "name": "stdout",
     "output_type": "stream",
     "text": [
      "\n",
      "\u001b[1m\u001b[38;5;232m\u001b[48;5;43m N E X T F L O W \u001b[0;2m  ~  \u001b[mversion 24.04.4\u001b[m\n",
      "\u001b[K\n",
      "Launching\u001b[35m `basic_channel_operations.nf` \u001b[0;2m[\u001b[0;1;36mcrazy_shockley\u001b[0;2m] DSL2 - \u001b[36mrevision: \u001b[0;36m20a6a4e244\u001b[m\n",
      "\u001b[K\n",
      "Snape\n",
      "Albus\n",
      "Ron\n",
      "Hagrid\n",
      "Dobby\n",
      "Hermione\n",
      "Harry\n"
     ]
    }
   ],
   "source": [
    "# Task 14 - Nextflow has the concept of maps. Write the names in the maps in this channel to a file called \"names.txt\". Each name should be on a new line. \n",
    "#           Store the file in the \"results\" directory under the name \"names.txt\"\n",
    "\n",
    "!nextflow run basic_channel_operations.nf --step 14\n",
    "\n",
    "!cat results/names.txt\n"
   ]
  },
  {
   "cell_type": "markdown",
   "metadata": {},
   "source": [
    "## Now that we learned about Channels and Operators to deal with them, let's focus on Processes that make use of these channels."
   ]
  },
  {
   "cell_type": "markdown",
   "metadata": {},
   "source": [
    "Please answer the questions in $\\texttt{basics\\_processes.nf}$ and run the code here. "
   ]
  },
  {
   "cell_type": "code",
   "execution_count": 17,
   "metadata": {},
   "outputs": [
    {
     "name": "stdout",
     "output_type": "stream",
     "text": [
      "\n",
      "\u001b[1m\u001b[38;5;232m\u001b[48;5;43m N E X T F L O W \u001b[0;2m  ~  \u001b[mversion 24.04.4\u001b[m\n",
      "\u001b[K\n",
      "Launching\u001b[35m `basics_processes.nf` \u001b[0;2m[\u001b[0;1;36mirreverent_cajal\u001b[0;2m] DSL2 - \u001b[36mrevision: \u001b[0;36me4f75cd56a\u001b[m\n",
      "\u001b[K\n",
      "\u001b[2m[\u001b[0;34m-        \u001b[0;2m] \u001b[0;2m\u001b[mSAYHELLO -\u001b[K\n",
      "\u001b[2A\n",
      "\u001b[2m[\u001b[0;34m-        \u001b[0;2m] \u001b[0;2m\u001b[mSAYHELLO\u001b[2m |\u001b[m 0 of 1\u001b[K\n",
      "\u001b[2A\n",
      "\u001b[2mexecutor >  local (1)\u001b[m\u001b[K\n",
      "\u001b[2m[\u001b[0;34m5e/e0744a\u001b[0;2m] \u001b[0;2m\u001b[mSAYHELLO\u001b[2m |\u001b[m 0 of 1\u001b[32m ✔\u001b[m\u001b[K\n",
      "Hello World!\u001b[K\n",
      "\u001b[K\n",
      "\u001b[5A\n",
      "\u001b[2mexecutor >  local (1)\u001b[m\u001b[K\n",
      "\u001b[2m[\u001b[0;34m5e/e0744a\u001b[0;2m] \u001b[0;2m\u001b[mSAYHELLO\u001b[2m |\u001b[m 1 of 1\u001b[32m ✔\u001b[m\u001b[K\n",
      "Hello World!\u001b[K\n",
      "\u001b[K\n",
      "\n"
     ]
    }
   ],
   "source": [
    "# Task 1 - create a process that says Hello World! (add debug true to the process right after initializing to be sable to print the output to the console)\n",
    "!nextflow run basics_processes.nf --step 1"
   ]
  },
  {
   "cell_type": "code",
   "execution_count": 18,
   "metadata": {},
   "outputs": [
    {
     "name": "stdout",
     "output_type": "stream",
     "text": [
      "\n",
      "\u001b[1m\u001b[38;5;232m\u001b[48;5;43m N E X T F L O W \u001b[0;2m  ~  \u001b[mversion 24.04.4\u001b[m\n",
      "\u001b[K\n",
      "Launching\u001b[35m `basics_processes.nf` \u001b[0;2m[\u001b[0;1;36mspontaneous_lumiere\u001b[0;2m] DSL2 - \u001b[36mrevision: \u001b[0;36me4f75cd56a\u001b[m\n",
      "\u001b[K\n",
      "\u001b[2m[\u001b[0;34m-        \u001b[0;2m] \u001b[0;2m\u001b[mSAYHELLO_PYTHON -\u001b[K\n",
      "\u001b[2A\n",
      "\u001b[2m[\u001b[0;34m-        \u001b[0;2m] \u001b[0;2m\u001b[mSAYHELLO_PYTHON\u001b[2m |\u001b[m 0 of 1\u001b[K\n",
      "\u001b[2A\n",
      "\u001b[2mexecutor >  local (1)\u001b[m\u001b[K\n",
      "\u001b[2m[\u001b[0;34me1/f29e8d\u001b[0;2m] \u001b[0;2m\u001b[mSAYHELLO_PYTHON\u001b[2m |\u001b[m 0 of 1\u001b[K\n",
      "\u001b[3A\n",
      "\u001b[2mexecutor >  local (1)\u001b[m\u001b[K\n",
      "\u001b[2m[\u001b[0;34me1/f29e8d\u001b[0;2m] \u001b[0;2m\u001b[mSAYHELLO_PYTHON\u001b[2m |\u001b[m 1 of 1\u001b[32m ✔\u001b[m\u001b[K\n",
      "Hello world!\u001b[K\n",
      "\u001b[K\n",
      "\n"
     ]
    }
   ],
   "source": [
    "# Task 2 - create a process that says Hello World! using Python\n",
    "!nextflow run basics_processes.nf --step 2"
   ]
  },
  {
   "cell_type": "code",
   "execution_count": 19,
   "metadata": {},
   "outputs": [
    {
     "name": "stdout",
     "output_type": "stream",
     "text": [
      "\n",
      "\u001b[1m\u001b[38;5;232m\u001b[48;5;43m N E X T F L O W \u001b[0;2m  ~  \u001b[mversion 24.04.4\u001b[m\n",
      "\u001b[K\n",
      "Launching\u001b[35m `basics_processes.nf` \u001b[0;2m[\u001b[0;1;36mhappy_volhard\u001b[0;2m] DSL2 - \u001b[36mrevision: \u001b[0;36me4f75cd56a\u001b[m\n",
      "\u001b[K\n",
      "\u001b[2m[\u001b[0;34m-        \u001b[0;2m] \u001b[0;2m\u001b[mSAYHELLO_PARAM -\u001b[K\n",
      "\u001b[2A\n",
      "\u001b[2m[\u001b[0;34m-        \u001b[0;2m] \u001b[0;2m\u001b[mSAYHELLO_PARAM\u001b[2m |\u001b[m 0 of 1\u001b[K\n",
      "\u001b[2A\n",
      "\u001b[2mexecutor >  local (1)\u001b[m\u001b[K\n",
      "\u001b[2m[\u001b[0;34m32/2f71dc\u001b[0;2m] \u001b[0;2m\u001b[mSAYHELLO_PARAM\u001b[33;2m (\u001b[0;33m1\u001b[2m)\u001b[m\u001b[2m |\u001b[m 0 of 1\u001b[32m ✔\u001b[m\u001b[K\n",
      "Hello world!\u001b[K\n",
      "\u001b[K\n",
      "\u001b[5A\n",
      "\u001b[2mexecutor >  local (1)\u001b[m\u001b[K\n",
      "\u001b[2m[\u001b[0;34m32/2f71dc\u001b[0;2m] \u001b[0;2m\u001b[mSAYHELLO_PARAM\u001b[33;2m (\u001b[0;33m1\u001b[2m)\u001b[m\u001b[2m |\u001b[m 1 of 1\u001b[32m ✔\u001b[m\u001b[K\n",
      "Hello world!\u001b[K\n",
      "\u001b[K\n",
      "\n"
     ]
    }
   ],
   "source": [
    "# Task 3 - create a process that reads in the string \"Hello world!\" from a channel and write it to command line\n",
    "!nextflow run basics_processes.nf --step 3"
   ]
  },
  {
   "cell_type": "code",
   "execution_count": 20,
   "metadata": {},
   "outputs": [
    {
     "name": "stdout",
     "output_type": "stream",
     "text": [
      "\n",
      "\u001b[1m\u001b[38;5;232m\u001b[48;5;43m N E X T F L O W \u001b[0;2m  ~  \u001b[mversion 24.04.4\u001b[m\n",
      "\u001b[K\n",
      "Launching\u001b[35m `basics_processes.nf` \u001b[0;2m[\u001b[0;1;36msmall_wozniak\u001b[0;2m] DSL2 - \u001b[36mrevision: \u001b[0;36me4f75cd56a\u001b[m\n",
      "\u001b[K\n",
      "\u001b[2m[\u001b[0;34m-        \u001b[0;2m] \u001b[0;2m\u001b[mSAYHELLO_FILE -\u001b[K\n",
      "\u001b[2A\n",
      "\u001b[2m[\u001b[0;34m-        \u001b[0;2m] \u001b[0;2m\u001b[mSAYHELLO_FILE\u001b[2m |\u001b[m 0 of 1\u001b[K\n",
      "\u001b[2A\n",
      "\u001b[2mexecutor >  local (1)\u001b[m\u001b[K\n",
      "\u001b[2m[\u001b[0;34m77/f3be12\u001b[0;2m] \u001b[0;2m\u001b[mSAYHELLO_FILE\u001b[33;2m (\u001b[0;33m1\u001b[2m)\u001b[m\u001b[2m |\u001b[m 1 of 1\u001b[32m ✔\u001b[m\u001b[K\n",
      "\n"
     ]
    }
   ],
   "source": [
    "# Task 4 - create a process that reads in the string \"Hello world!\" from a channel and write it to a file. \n",
    "!nextflow run basics_processes.nf --step 4"
   ]
  },
  {
   "cell_type": "markdown",
   "metadata": {},
   "source": [
    "It might be that you created the file but it doesnt appear in the directory. Use the work folder and the output on the command line to find the file."
   ]
  },
  {
   "cell_type": "code",
   "execution_count": 21,
   "metadata": {},
   "outputs": [
    {
     "name": "stdout",
     "output_type": "stream",
     "text": [
      "\n",
      "\u001b[1m\u001b[38;5;232m\u001b[48;5;43m N E X T F L O W \u001b[0;2m  ~  \u001b[mversion 24.04.4\u001b[m\n",
      "\u001b[K\n",
      "Launching\u001b[35m `basics_processes.nf` \u001b[0;2m[\u001b[0;1;36mpedantic_kay\u001b[0;2m] DSL2 - \u001b[36mrevision: \u001b[0;36me4f75cd56a\u001b[m\n",
      "\u001b[K\n",
      "\u001b[2m[\u001b[0;34m-        \u001b[0;2m] \u001b[0;2m\u001b[mUPPERCASE -\u001b[K\n",
      "\u001b[2A\n",
      "\u001b[2mexecutor >  local (1)\u001b[m\u001b[K\n",
      "\u001b[2m[\u001b[0;34mbc/5f1803\u001b[0;2m] \u001b[0;2m\u001b[mUPPERCASE\u001b[33;2m (\u001b[0;33m1\u001b[2m)\u001b[m\u001b[2m |\u001b[m 0 of 1\u001b[K\n",
      "\u001b[3A\n",
      "\u001b[2mexecutor >  local (1)\u001b[m\u001b[K\n",
      "\u001b[2m[\u001b[0;34mbc/5f1803\u001b[0;2m] \u001b[0;2m\u001b[mUPPERCASE\u001b[33;2m (\u001b[0;33m1\u001b[2m)\u001b[m\u001b[2m |\u001b[m 1 of 1\u001b[32m ✔\u001b[m\u001b[K\n",
      "/home/jana/UNI/Master/IISemester/compworkflows/day_6/work/bc/5f180373ca33b4cf1cafa0a49aacfe/helloworld_uppercase.txt\u001b[K\n",
      "\u001b[4A\n",
      "\u001b[2mexecutor >  local (1)\u001b[m\u001b[K\n",
      "\u001b[2m[\u001b[0;34mbc/5f1803\u001b[0;2m] \u001b[0;2m\u001b[mUPPERCASE\u001b[33;2m (\u001b[0;33m1\u001b[2m)\u001b[m\u001b[2m |\u001b[m 1 of 1\u001b[32m ✔\u001b[m\u001b[K\n",
      "/home/jana/UNI/Master/IISemester/compworkflows/day_6/work/bc/5f180373ca33b4cf1cafa0a49aacfe/helloworld_uppercase.txt\u001b[K\n",
      "\n"
     ]
    }
   ],
   "source": [
    "# Task 5 - create a process that reads in a string and converts it to uppercase and saves it to a file as output. View the path to the file in the console\n",
    "!nextflow run basics_processes.nf --step 5"
   ]
  },
  {
   "cell_type": "code",
   "execution_count": 22,
   "metadata": {},
   "outputs": [
    {
     "name": "stdout",
     "output_type": "stream",
     "text": [
      "\n",
      "\u001b[1m\u001b[38;5;232m\u001b[48;5;43m N E X T F L O W \u001b[0;2m  ~  \u001b[mversion 24.04.4\u001b[m\n",
      "\u001b[K\n",
      "Launching\u001b[35m `basics_processes.nf` \u001b[0;2m[\u001b[0;1;36mecstatic_planck\u001b[0;2m] DSL2 - \u001b[36mrevision: \u001b[0;36me4f75cd56a\u001b[m\n",
      "\u001b[K\n",
      "\u001b[2m[\u001b[0;34m-        \u001b[0;2m] \u001b[0;2m\u001b[mUPPERCASE  -\u001b[K\n",
      "\u001b[2m[\u001b[0;34m-        \u001b[0;2m] \u001b[0;2m\u001b[mPRINTUPPER -\u001b[K\n",
      "\u001b[3A\n",
      "\u001b[2m[\u001b[0;34m-        \u001b[0;2m] \u001b[0;2m\u001b[mUPPERCASE \u001b[2m |\u001b[m 0 of 1\u001b[K\n",
      "\u001b[2m[\u001b[0;34m-        \u001b[0;2m] \u001b[0;2m\u001b[mPRINTUPPER -\u001b[K\n",
      "\u001b[3A\n",
      "\u001b[2mexecutor >  local (1)\u001b[m\u001b[K\n",
      "\u001b[2m[\u001b[0;34m9f/103d4c\u001b[0;2m] \u001b[0;2m\u001b[mUPPERCASE\u001b[33;2m (\u001b[0;33m1\u001b[2m)\u001b[m\u001b[2m |\u001b[m 0 of 1\u001b[K\n",
      "\u001b[2m[\u001b[0;34m-        \u001b[0;2m] \u001b[0;2m\u001b[mPRINTUPPER    -\u001b[K\n",
      "\u001b[4A\n",
      "\u001b[2mexecutor >  local (1)\u001b[m\u001b[K\n",
      "\u001b[2m[\u001b[0;34m9f/103d4c\u001b[0;2m] \u001b[0;2m\u001b[mUPPERCASE\u001b[33;2m (\u001b[0;33m1\u001b[2m)\u001b[m\u001b[2m |\u001b[m 1 of 1\u001b[32m ✔\u001b[m\u001b[K\n",
      "\u001b[2m[\u001b[0;34m-        \u001b[0;2m] \u001b[0;2m\u001b[mPRINTUPPER   \u001b[2m |\u001b[m 0 of 1\u001b[K\n",
      "\u001b[4A\n",
      "\u001b[2mexecutor >  local (2)\u001b[m\u001b[K\n",
      "\u001b[2m[\u001b[0;34m9f/103d4c\u001b[0;2m] \u001b[0;2m\u001b[mUPPERCASE\u001b[33;2m (\u001b[0;33m1\u001b[2m)\u001b[m \u001b[2m |\u001b[m 1 of 1\u001b[32m ✔\u001b[m\u001b[K\n",
      "\u001b[2m[\u001b[0;34m46/829a23\u001b[0;2m] \u001b[0;2m\u001b[mPRINTUPPER\u001b[33;2m (\u001b[0;33m1\u001b[2m)\u001b[m\u001b[2m |\u001b[m 1 of 1\u001b[32m ✔\u001b[m\u001b[K\n",
      "HELLO WORLD!\u001b[K\n",
      "\u001b[K\n",
      "\u001b[6A\n",
      "\u001b[2mexecutor >  local (2)\u001b[m\u001b[K\n",
      "\u001b[2m[\u001b[0;34m9f/103d4c\u001b[0;2m] \u001b[0;2m\u001b[mUPPERCASE\u001b[33;2m (\u001b[0;33m1\u001b[2m)\u001b[m \u001b[2m |\u001b[m 1 of 1\u001b[32m ✔\u001b[m\u001b[K\n",
      "\u001b[2m[\u001b[0;34m46/829a23\u001b[0;2m] \u001b[0;2m\u001b[mPRINTUPPER\u001b[33;2m (\u001b[0;33m1\u001b[2m)\u001b[m\u001b[2m |\u001b[m 1 of 1\u001b[32m ✔\u001b[m\u001b[K\n",
      "HELLO WORLD!\u001b[K\n",
      "\u001b[K\n",
      "\n"
     ]
    }
   ],
   "source": [
    "# Task 6 - add another process that reads in the resulting file from UPPERCASE and print the content to the console (debug true).\n",
    "!nextflow run basics_processes.nf --step 6"
   ]
  },
  {
   "cell_type": "markdown",
   "metadata": {},
   "source": [
    "Comared to all the other runs. What changed in the output here and why?\n",
    "\n",
    "With UPPERCASE and PRINTUPPER there are two processes in the output instead of one now. "
   ]
  },
  {
   "cell_type": "code",
   "execution_count": 23,
   "metadata": {},
   "outputs": [
    {
     "name": "stdout",
     "output_type": "stream",
     "text": [
      "\n",
      "\u001b[1m\u001b[38;5;232m\u001b[48;5;43m N E X T F L O W \u001b[0;2m  ~  \u001b[mversion 24.04.4\u001b[m\n",
      "\u001b[K\n",
      "Launching\u001b[35m `basics_processes.nf` \u001b[0;2m[\u001b[0;1;36mfocused_shockley\u001b[0;2m] DSL2 - \u001b[36mrevision: \u001b[0;36me4f75cd56a\u001b[m\n",
      "\u001b[K\n",
      "\u001b[2m[\u001b[0;34m-        \u001b[0;2m] \u001b[0;2m\u001b[mUPPERCASE -\u001b[K\n",
      "\u001b[2m[\u001b[0;34m-        \u001b[0;2m] \u001b[0;2m\u001b[mZIPFILE   -\u001b[K\n",
      "\u001b[3A\n",
      "\u001b[2m[\u001b[0;34m-        \u001b[0;2m] \u001b[0;2m\u001b[mUPPERCASE\u001b[2m |\u001b[m 0 of 1\u001b[K\n",
      "\u001b[2m[\u001b[0;34m-        \u001b[0;2m] \u001b[0;2m\u001b[mZIPFILE   -\u001b[K\n",
      "\u001b[3A\n",
      "\u001b[2mexecutor >  local (1)\u001b[m\u001b[K\n",
      "\u001b[2m[\u001b[0;34md4/2c3e42\u001b[0;2m] \u001b[0;2m\u001b[mUPPERCASE\u001b[33;2m (\u001b[0;33m1\u001b[2m)\u001b[m\u001b[2m |\u001b[m 0 of 1\u001b[K\n",
      "\u001b[2m[\u001b[0;34m-        \u001b[0;2m] \u001b[0;2m\u001b[mZIPFILE       -\u001b[K\n",
      "\u001b[4A\n",
      "\u001b[2mexecutor >  local (1)\u001b[m\u001b[K\n",
      "\u001b[2m[\u001b[0;34md4/2c3e42\u001b[0;2m] \u001b[0;2m\u001b[mUPPERCASE\u001b[33;2m (\u001b[0;33m1\u001b[2m)\u001b[m\u001b[2m |\u001b[m 1 of 1\u001b[32m ✔\u001b[m\u001b[K\n",
      "\u001b[2m[\u001b[0;34m-        \u001b[0;2m] \u001b[0;2m\u001b[mZIPFILE       -\u001b[K\n",
      "\u001b[4A\n",
      "\u001b[2mexecutor >  local (2)\u001b[m\u001b[K\n",
      "\u001b[2m[\u001b[0;34md4/2c3e42\u001b[0;2m] \u001b[0;2m\u001b[mUPPERCASE\u001b[33;2m (\u001b[0;33m1\u001b[2m)\u001b[m\u001b[2m |\u001b[m 1 of 1\u001b[32m ✔\u001b[m\u001b[K\n",
      "\u001b[2m[\u001b[0;34m7c/a64f02\u001b[0;2m] \u001b[0;2m\u001b[mZIPFILE\u001b[33;2m (\u001b[0;33m1\u001b[2m)\u001b[m  \u001b[2m |\u001b[m 1 of 1\u001b[32m ✔\u001b[m\u001b[K\n",
      "/home/jana/UNI/Master/IISemester/compworkflows/day_6/work/7c/a64f0208fb36fdd74190b3795bc1eb/zip_file.bzip2\u001b[K\n",
      "\u001b[5A\n",
      "\u001b[2mexecutor >  local (2)\u001b[m\u001b[K\n",
      "\u001b[2m[\u001b[0;34md4/2c3e42\u001b[0;2m] \u001b[0;2m\u001b[mUPPERCASE\u001b[33;2m (\u001b[0;33m1\u001b[2m)\u001b[m\u001b[2m |\u001b[m 1 of 1\u001b[32m ✔\u001b[m\u001b[K\n",
      "\u001b[2m[\u001b[0;34m7c/a64f02\u001b[0;2m] \u001b[0;2m\u001b[mZIPFILE\u001b[33;2m (\u001b[0;33m1\u001b[2m)\u001b[m  \u001b[2m |\u001b[m 1 of 1\u001b[32m ✔\u001b[m\u001b[K\n",
      "/home/jana/UNI/Master/IISemester/compworkflows/day_6/work/7c/a64f0208fb36fdd74190b3795bc1eb/zip_file.bzip2\u001b[K\n",
      "\n"
     ]
    }
   ],
   "source": [
    "# Task 7 - based on the paramater \"zip\" (see at the head of the file), create a process that zips the file created in the UPPERCASE process either in \"zip\", \"gzip\" OR \"bzip2\" format.\n",
    "#          Print out the path to the zipped file in the console\n",
    "!nextflow run basics_processes.nf --step 7"
   ]
  },
  {
   "cell_type": "code",
   "execution_count": 24,
   "metadata": {},
   "outputs": [
    {
     "name": "stdout",
     "output_type": "stream",
     "text": [
      "\n",
      "\u001b[1m\u001b[38;5;232m\u001b[48;5;43m N E X T F L O W \u001b[0;2m  ~  \u001b[mversion 24.04.4\u001b[m\n",
      "\u001b[K\n",
      "Launching\u001b[35m `basics_processes.nf` \u001b[0;2m[\u001b[0;1;36minfallible_leakey\u001b[0;2m] DSL2 - \u001b[36mrevision: \u001b[0;36me4f75cd56a\u001b[m\n",
      "\u001b[K\n",
      "\u001b[2m[\u001b[0;34m-        \u001b[0;2m] \u001b[0;2m\u001b[mUPPERCASE  -\u001b[K\n",
      "\u001b[2m[\u001b[0;34m-        \u001b[0;2m] \u001b[0;2m\u001b[mALLZIPFILE -\u001b[K\n",
      "\u001b[3A\n",
      "\u001b[2m[\u001b[0;34m-        \u001b[0;2m] \u001b[0;2m\u001b[mUPPERCASE \u001b[2m |\u001b[m 0 of 1\u001b[K\n",
      "\u001b[2m[\u001b[0;34m-        \u001b[0;2m] \u001b[0;2m\u001b[mALLZIPFILE -\u001b[K\n",
      "\u001b[3A\n",
      "\u001b[2mexecutor >  local (1)\u001b[m\u001b[K\n",
      "\u001b[2m[\u001b[0;34mdb/0620e8\u001b[0;2m] \u001b[0;2m\u001b[mUPPERCASE\u001b[33;2m (\u001b[0;33m1\u001b[2m)\u001b[m\u001b[2m |\u001b[m 0 of 1\u001b[K\n",
      "\u001b[2m[\u001b[0;34m-        \u001b[0;2m] \u001b[0;2m\u001b[mALLZIPFILE    -\u001b[K\n",
      "\u001b[4A\n",
      "\u001b[2mexecutor >  local (1)\u001b[m\u001b[K\n",
      "\u001b[2m[\u001b[0;34mdb/0620e8\u001b[0;2m] \u001b[0;2m\u001b[mUPPERCASE\u001b[33;2m (\u001b[0;33m1\u001b[2m)\u001b[m\u001b[2m |\u001b[m 1 of 1\u001b[32m ✔\u001b[m\u001b[K\n",
      "\u001b[2m[\u001b[0;34m-        \u001b[0;2m] \u001b[0;2m\u001b[mALLZIPFILE   \u001b[2m |\u001b[m 0 of 1\u001b[K\n",
      "\u001b[4A\n",
      "\u001b[2mexecutor >  local (2)\u001b[m\u001b[K\n",
      "\u001b[2m[\u001b[0;34mdb/0620e8\u001b[0;2m] \u001b[0;2m\u001b[mUPPERCASE\u001b[33;2m (\u001b[0;33m1\u001b[2m)\u001b[m \u001b[2m |\u001b[m 1 of 1\u001b[32m ✔\u001b[m\u001b[K\n",
      "\u001b[2m[\u001b[0;34m48/385784\u001b[0;2m] \u001b[0;2m\u001b[mALLZIPFILE\u001b[33;2m (\u001b[0;33m1\u001b[2m)\u001b[m\u001b[2m |\u001b[m 1 of 1\u001b[32m ✔\u001b[m\u001b[K\n",
      "/home/jana/UNI/Master/IISemester/compworkflows/day_6/work/48/3857842334f139ea88945cc29b627b/zip_file.zip\u001b[K\n",
      "/home/jana/UNI/Master/IISemester/compworkflows/day_6/work/48/3857842334f139ea88945cc29b627b/bzip2_file.bzip2\u001b[K\n",
      "/home/jana/UNI/Master/IISemester/compworkflows/day_6/work/48/3857842334f139ea88945cc29b627b/gzip_file.gzip\u001b[K\n",
      "  adding: helloworld_uppercase.txt (stored 0%)\u001b[K\n",
      "\u001b[K\n",
      "\u001b[9A\n",
      "\u001b[2mexecutor >  local (2)\u001b[m\u001b[K\n",
      "\u001b[2m[\u001b[0;34mdb/0620e8\u001b[0;2m] \u001b[0;2m\u001b[mUPPERCASE\u001b[33;2m (\u001b[0;33m1\u001b[2m)\u001b[m \u001b[2m |\u001b[m 1 of 1\u001b[32m ✔\u001b[m\u001b[K\n",
      "\u001b[2m[\u001b[0;34m48/385784\u001b[0;2m] \u001b[0;2m\u001b[mALLZIPFILE\u001b[33;2m (\u001b[0;33m1\u001b[2m)\u001b[m\u001b[2m |\u001b[m 1 of 1\u001b[32m ✔\u001b[m\u001b[K\n",
      "/home/jana/UNI/Master/IISemester/compworkflows/day_6/work/48/3857842334f139ea88945cc29b627b/zip_file.zip\u001b[K\n",
      "/home/jana/UNI/Master/IISemester/compworkflows/day_6/work/48/3857842334f139ea88945cc29b627b/bzip2_file.bzip2\u001b[K\n",
      "/home/jana/UNI/Master/IISemester/compworkflows/day_6/work/48/3857842334f139ea88945cc29b627b/gzip_file.gzip\u001b[K\n",
      "  adding: helloworld_uppercase.txt (stored 0%)\u001b[K\n",
      "\u001b[K\n",
      "\n"
     ]
    }
   ],
   "source": [
    "# Task 8 - Create a process that zips the file created in the UPPERCASE process in \"zip\", \"gzip\" AND \"bzip2\" format. Print out the paths to the zipped files in the console\n",
    "!nextflow run basics_processes.nf --step 8"
   ]
  },
  {
   "cell_type": "code",
   "execution_count": 85,
   "metadata": {},
   "outputs": [
    {
     "name": "stdout",
     "output_type": "stream",
     "text": [
      "\n",
      "\u001b[1m\u001b[38;5;232m\u001b[48;5;43m N E X T F L O W \u001b[0;2m  ~  \u001b[mversion 24.04.4\u001b[m\n",
      "\u001b[K\n",
      "Launching\u001b[35m `basics_processes.nf` \u001b[0;2m[\u001b[0;1;36mreverent_turing\u001b[0;2m] DSL2 - \u001b[36mrevision: \u001b[0;36m51aaa7d31e\u001b[m\n",
      "\u001b[K\n",
      "\u001b[2m[\u001b[0;34m-        \u001b[0;2m] \u001b[0;2m\u001b[mWRITEFILE -\u001b[K\n",
      "\u001b[2A\n",
      "\u001b[2m[\u001b[0;34m-        \u001b[0;2m] \u001b[0;2m\u001b[mWRITEFILE\u001b[2m |\u001b[m 0 of 4\u001b[K\n",
      "\u001b[2A\n",
      "\u001b[2mexecutor >  local (5)\u001b[m\u001b[K\n",
      "\u001b[2m[\u001b[0;34ma0/a8f6e0\u001b[0;2m] \u001b[0;2m\u001b[mWRITEFILE\u001b[33;2m (\u001b[0;33m5\u001b[2m)\u001b[m\u001b[2m |\u001b[m 0 of 7\u001b[K\n",
      "\u001b[3A\n",
      "\u001b[2mexecutor >  local (7)\u001b[m\u001b[K\n",
      "\u001b[2m[\u001b[0;34m81/84d1e0\u001b[0;2m] \u001b[0;2m\u001b[mWRITEFILE\u001b[33;2m (\u001b[0;33m6\u001b[2m)\u001b[m\u001b[2m |\u001b[m 7 of 7\u001b[32m ✔\u001b[m\u001b[K\n",
      "\u001b[3A\n",
      "\u001b[2mexecutor >  local (7)\u001b[m\u001b[K\n",
      "\u001b[2m[\u001b[0;34m81/84d1e0\u001b[0;2m] \u001b[0;2m\u001b[mWRITEFILE\u001b[33;2m (\u001b[0;33m6\u001b[2m)\u001b[m\u001b[2m |\u001b[m 7 of 7\u001b[32m ✔\u001b[m\u001b[K\n",
      "\n"
     ]
    }
   ],
   "source": [
    " # Task 9 - Create a process that reads in a list of names and titles from a channel and writes them to a file.\n",
    "#           Store the file in the \"results\" directory under the name \"names.tsv\"\n",
    "!nextflow run basics_processes.nf --step 9"
   ]
  },
  {
   "cell_type": "code",
   "execution_count": 92,
   "metadata": {},
   "outputs": [
    {
     "data": {
      "text/html": [
       "<div>\n",
       "<style scoped>\n",
       "    .dataframe tbody tr th:only-of-type {\n",
       "        vertical-align: middle;\n",
       "    }\n",
       "\n",
       "    .dataframe tbody tr th {\n",
       "        vertical-align: top;\n",
       "    }\n",
       "\n",
       "    .dataframe thead th {\n",
       "        text-align: right;\n",
       "    }\n",
       "</style>\n",
       "<table border=\"1\" class=\"dataframe\">\n",
       "  <thead>\n",
       "    <tr style=\"text-align: right;\">\n",
       "      <th></th>\n",
       "      <th>0</th>\n",
       "      <th>1</th>\n",
       "    </tr>\n",
       "  </thead>\n",
       "  <tbody>\n",
       "    <tr>\n",
       "      <th>0</th>\n",
       "      <td>Albus</td>\n",
       "      <td>headmaster</td>\n",
       "    </tr>\n",
       "    <tr>\n",
       "      <th>1</th>\n",
       "      <td>Ron</td>\n",
       "      <td>student</td>\n",
       "    </tr>\n",
       "    <tr>\n",
       "      <th>2</th>\n",
       "      <td>Dobby</td>\n",
       "      <td>hero</td>\n",
       "    </tr>\n",
       "    <tr>\n",
       "      <th>3</th>\n",
       "      <td>Hagrid</td>\n",
       "      <td>groundkeeper</td>\n",
       "    </tr>\n",
       "    <tr>\n",
       "      <th>4</th>\n",
       "      <td>Hermione</td>\n",
       "      <td>student</td>\n",
       "    </tr>\n",
       "    <tr>\n",
       "      <th>5</th>\n",
       "      <td>Snape</td>\n",
       "      <td>teacher</td>\n",
       "    </tr>\n",
       "    <tr>\n",
       "      <th>6</th>\n",
       "      <td>Harry</td>\n",
       "      <td>student</td>\n",
       "    </tr>\n",
       "  </tbody>\n",
       "</table>\n",
       "</div>"
      ],
      "text/plain": [
       "          0             1\n",
       "0     Albus    headmaster\n",
       "1       Ron       student\n",
       "2     Dobby          hero\n",
       "3    Hagrid  groundkeeper\n",
       "4  Hermione       student\n",
       "5     Snape       teacher\n",
       "6     Harry       student"
      ]
     },
     "execution_count": 92,
     "metadata": {},
     "output_type": "execute_result"
    }
   ],
   "source": [
    "import pandas as pd\n",
    "\n",
    "df_names = pd.read_csv(\"results/names.tsv\", sep=\",\", header=None)\n",
    "df_names"
   ]
  },
  {
   "cell_type": "markdown",
   "metadata": {},
   "source": [
    "## Now, let's try some more advanced Operators"
   ]
  },
  {
   "cell_type": "markdown",
   "metadata": {},
   "source": [
    "Please answer the questions in $\\texttt{advanced\\_channel\\_operations.nf}$ and run the code here. "
   ]
  },
  {
   "cell_type": "markdown",
   "metadata": {},
   "source": [
    "To come closer to actual pipelines, we introduce the concept of \"meta-maps\" which you can imagine as dictionaries that are passed with data via channels containing crucial metadata on the sample. \n",
    "\n",
    "Also, we will come back to samplesheets which you should remember from last week."
   ]
  },
  {
   "cell_type": "code",
   "execution_count": 93,
   "metadata": {},
   "outputs": [
    {
     "name": "stdout",
     "output_type": "stream",
     "text": [
      "\n",
      "\u001b[1m\u001b[38;5;232m\u001b[48;5;43m N E X T F L O W \u001b[0;2m  ~  \u001b[mversion 24.04.4\u001b[m\n",
      "\u001b[K\n",
      "Launching\u001b[35m `advanced_channel_operations.nf` \u001b[0;2m[\u001b[0;1;36mconfident_archimedes\u001b[0;2m] DSL2 - \u001b[36mrevision: \u001b[0;36m657823d22a\u001b[m\n",
      "\u001b[K\n",
      "[sample:CONTROL_REP1, fastq_1:fq_1_R1.fastq.gz, fastq_2:fq_1_R2.fastq.gz, strandedness:auto]\n",
      "[sample:CONTROL_REP2, fastq_1:fq_2_R1.fastq.gz, fastq_2:fq_2_R2.fastq.gz, strandedness:forward]\n",
      "[sample:CONTROL_REP3, fastq_1:fq_3_R1.fastq.gz, fastq_2:fq_3_R2.fastq.gz, strandedness:reverse]\n",
      "[sample:CONTROL_REP1, fastq_1:fq_4_R1.fastq.gz, fastq_2:fq_4_R2.fastq.gz, strandedness:auto]\n"
     ]
    }
   ],
   "source": [
    "# Task 1 - Read in the samplesheet.\n",
    "\n",
    "!nextflow run advanced_channel_operations.nf --step 1"
   ]
  },
  {
   "cell_type": "code",
   "execution_count": 94,
   "metadata": {},
   "outputs": [
    {
     "name": "stdout",
     "output_type": "stream",
     "text": [
      "\n",
      "\u001b[1m\u001b[38;5;232m\u001b[48;5;43m N E X T F L O W \u001b[0;2m  ~  \u001b[mversion 24.04.4\u001b[m\n",
      "\u001b[K\n",
      "Launching\u001b[35m `advanced_channel_operations.nf` \u001b[0;2m[\u001b[0;1;36mjolly_leibniz\u001b[0;2m] DSL2 - \u001b[36mrevision: \u001b[0;36m657823d22a\u001b[m\n",
      "\u001b[K\n",
      "[[sample:CONTROL_REP1, strandedness:auto], [/home/jana/UNI/Master/IISemester/compworkflows/day_6/fq_1_R1.fastq.gz, /home/jana/UNI/Master/IISemester/compworkflows/day_6/fq_1_R2.fastq.gz]]\n",
      "[[sample:CONTROL_REP2, strandedness:forward], [/home/jana/UNI/Master/IISemester/compworkflows/day_6/fq_2_R1.fastq.gz, /home/jana/UNI/Master/IISemester/compworkflows/day_6/fq_2_R2.fastq.gz]]\n",
      "[[sample:CONTROL_REP3, strandedness:reverse], [/home/jana/UNI/Master/IISemester/compworkflows/day_6/fq_3_R1.fastq.gz, /home/jana/UNI/Master/IISemester/compworkflows/day_6/fq_3_R2.fastq.gz]]\n",
      "[[sample:CONTROL_REP1, strandedness:auto], [/home/jana/UNI/Master/IISemester/compworkflows/day_6/fq_4_R1.fastq.gz, /home/jana/UNI/Master/IISemester/compworkflows/day_6/fq_4_R2.fastq.gz]]\n"
     ]
    }
   ],
   "source": [
    "# Task 2 - Read in the samplesheet and create a meta-map with all metadata and another list with the filenames ([[metadata_1 : metadata_1, ...], [fastq_1, fastq_2]]).\n",
    "#          Set the output to a new channel \"in_ch\" and view the channel. YOU WILL NEED TO COPY AND PASTE THIS CODE INTO SOME OF THE FOLLOWING TASKS (sorry for that).\n",
    "\n",
    "!nextflow run advanced_channel_operations.nf --step 2"
   ]
  },
  {
   "cell_type": "code",
   "execution_count": 117,
   "metadata": {},
   "outputs": [
    {
     "name": "stdout",
     "output_type": "stream",
     "text": [
      "\n",
      "\u001b[1m\u001b[38;5;232m\u001b[48;5;43m N E X T F L O W \u001b[0;2m  ~  \u001b[mversion 24.04.4\u001b[m\n",
      "\u001b[K\n",
      "Launching\u001b[35m `advanced_channel_operations.nf` \u001b[0;2m[\u001b[0;1;36mevil_bartik\u001b[0;2m] DSL2 - \u001b[36mrevision: \u001b[0;36mce9c51e8ab\u001b[m\n",
      "\u001b[K\n",
      "[[[sample:CONTROL_REP1, strandedness:auto], [fq_1_R1.fastq.gz, fq_1_R2.fastq.gz]], [[sample:CONTROL_REP1, strandedness:auto], [fq_4_R1.fastq.gz, fq_4_R2.fastq.gz]]]\n",
      "[[[sample:CONTROL_REP2, strandedness:forward], [fq_2_R1.fastq.gz, fq_2_R2.fastq.gz]]]\n",
      "[[[sample:CONTROL_REP3, strandedness:reverse], [fq_3_R1.fastq.gz, fq_3_R2.fastq.gz]]]\n"
     ]
    }
   ],
   "source": [
    "# Task 3 - Now we assume that we want to handle different \"strandedness\" values differently. \n",
    "#          Split the channel into the right amount of channels and write them all to stdout so that we can understand which is which.\n",
    "\n",
    "!nextflow run advanced_channel_operations.nf --step 3 -dump-channels"
   ]
  },
  {
   "cell_type": "code",
   "execution_count": 96,
   "metadata": {},
   "outputs": [
    {
     "name": "stdout",
     "output_type": "stream",
     "text": [
      "\n",
      "\u001b[1m\u001b[38;5;232m\u001b[48;5;43m N E X T F L O W \u001b[0;2m  ~  \u001b[mversion 24.04.4\u001b[m\n",
      "\u001b[K\n",
      "Launching\u001b[35m `advanced_channel_operations.nf` \u001b[0;2m[\u001b[0;1;36mserene_lavoisier\u001b[0;2m] DSL2 - \u001b[36mrevision: \u001b[0;36m657823d22a\u001b[m\n",
      "\u001b[K\n",
      "[[sample:CONTROL_REP2, strandedness:forward], [[fq_2_R1.fastq.gz, fq_2_R2.fastq.gz]]]\n",
      "[[sample:CONTROL_REP3, strandedness:reverse], [[fq_3_R1.fastq.gz, fq_3_R2.fastq.gz]]]\n",
      "[[sample:CONTROL_REP1, strandedness:auto], [[fq_1_R1.fastq.gz, fq_1_R2.fastq.gz], [fq_4_R1.fastq.gz, fq_4_R2.fastq.gz]]]\n"
     ]
    }
   ],
   "source": [
    "# Task 4 - Group together all files with the same sample-id and strandedness value.\n",
    "\n",
    "!nextflow run advanced_channel_operations.nf --step 4"
   ]
  },
  {
   "cell_type": "markdown",
   "metadata": {},
   "source": [
    "## It's finally time to link processes and channels with each other"
   ]
  },
  {
   "cell_type": "markdown",
   "metadata": {},
   "source": [
    "Please go to the file $\\texttt{link\\_p\\_c.nf}$"
   ]
  },
  {
   "cell_type": "code",
   "execution_count": 116,
   "metadata": {},
   "outputs": [
    {
     "name": "stdout",
     "output_type": "stream",
     "text": [
      "\n",
      "\u001b[1m\u001b[38;5;232m\u001b[48;5;43m N E X T F L O W \u001b[0;2m  ~  \u001b[mversion 24.04.4\u001b[m\n",
      "\u001b[K\n",
      "Launching\u001b[35m `link_p_c.nf` \u001b[0;2m[\u001b[0;1;36msuspicious_elion\u001b[0;2m] DSL2 - \u001b[36mrevision: \u001b[0;36m2a54dac29b\u001b[m\n",
      "\u001b[K\n",
      "\u001b[2m[\u001b[0;34m-        \u001b[0;2m] \u001b[0;2m\u001b[mSPLITLETTERS   -\u001b[K\n",
      "\u001b[2m[\u001b[0;34m-        \u001b[0;2m] \u001b[0;2m\u001b[mCONVERTTOUPPER -\u001b[K\n",
      "\u001b[3A\n",
      "\u001b[2m[\u001b[0;34m-        \u001b[0;2m] \u001b[0;2m\u001b[mSPLITLETTERS  \u001b[2m |\u001b[m 0 of 2\u001b[K\n",
      "\u001b[2m[\u001b[0;34m-        \u001b[0;2m] \u001b[0;2m\u001b[mCONVERTTOUPPER -\u001b[K\n",
      "\u001b[3A\n",
      "\u001b[2mexecutor >  local (2)\u001b[m\u001b[K\n",
      "\u001b[2m[\u001b[0;34ma1/c56772\u001b[0;2m] \u001b[0;2m\u001b[mSPLITLETTERS\u001b[33;2m (\u001b[0;33m2\u001b[2m)\u001b[m\u001b[2m |\u001b[m 0 of 2\u001b[K\n",
      "\u001b[2m[\u001b[0;34m-        \u001b[0;2m] \u001b[0;2m\u001b[mCONVERTTOUPPER   -\u001b[K\n",
      "\u001b[4A\n",
      "\u001b[2mexecutor >  local (2)\u001b[m\u001b[K\n",
      "\u001b[2m[\u001b[0;34ma1/c56772\u001b[0;2m] \u001b[0;2m\u001b[mSPLITLETTERS\u001b[33;2m (\u001b[0;33m2\u001b[2m)\u001b[m\u001b[2m |\u001b[m 0 of 2\u001b[K\n",
      "\u001b[2m[\u001b[0;34m-        \u001b[0;2m] \u001b[0;2m\u001b[mCONVERTTOUPPER  \u001b[2m |\u001b[m 0 of 1\u001b[K\n",
      "\u001b[4A\n",
      "\u001b[2mexecutor >  local (4)\u001b[m\u001b[K\n",
      "\u001b[2m[\u001b[0;34ma1/c56772\u001b[0;2m] \u001b[0;2m\u001b[mSPLITLETTERS\u001b[33;2m (\u001b[0;33m2\u001b[2m)\u001b[m  \u001b[2m |\u001b[m 2 of 2\u001b[32m ✔\u001b[m\u001b[K\n",
      "\u001b[2m[\u001b[0;34me2/2c2bec\u001b[0;2m] \u001b[0;2m\u001b[mCONVERTTOUPPER\u001b[33;2m (\u001b[0;33m2\u001b[2m)\u001b[m\u001b[2m |\u001b[m 0 of 2\u001b[K\n",
      "HELL\u001b[K\n",
      "OWOR\u001b[K\n",
      "LD\u001b[K\n",
      "\u001b[K\n",
      "\u001b[8A\n",
      "\u001b[2mexecutor >  local (4)\u001b[m\u001b[K\n",
      "\u001b[2m[\u001b[0;34ma1/c56772\u001b[0;2m] \u001b[0;2m\u001b[mSPLITLETTERS\u001b[33;2m (\u001b[0;33m2\u001b[2m)\u001b[m  \u001b[2m |\u001b[m 2 of 2\u001b[32m ✔\u001b[m\u001b[K\n",
      "\u001b[2m[\u001b[0;34m8a/526b74\u001b[0;2m] \u001b[0;2m\u001b[mCONVERTTOUPPER\u001b[33;2m (\u001b[0;33m1\u001b[2m)\u001b[m\u001b[2m |\u001b[m 2 of 2\u001b[32m ✔\u001b[m\u001b[K\n",
      "HELL\u001b[K\n",
      "OWOR\u001b[K\n",
      "LD\u001b[K\n",
      "\u001b[K\n",
      "COM\u001b[K\n",
      "PUT\u001b[K\n",
      "ATI\u001b[K\n",
      "ONA\u001b[K\n",
      "LWO\u001b[K\n",
      "RKF\u001b[K\n",
      "LOW\u001b[K\n",
      "S\u001b[K\n",
      "\u001b[K\n",
      "\n"
     ]
    }
   ],
   "source": [
    "!nextflow run link_p_c.nf"
   ]
  },
  {
   "cell_type": "markdown",
   "metadata": {},
   "source": [
    "### Give a list with the paths to the chunk files\n",
    "\n",
    "./results/h_w.txt<br>\n",
    "./results/c_w.txt"
   ]
  },
  {
   "cell_type": "markdown",
   "metadata": {},
   "source": [
    "### Why was CONVERTTOUPPER run so often?\n",
    "\n",
    "Because it runs for each row of the samplesheet."
   ]
  }
 ],
 "metadata": {
  "kernelspec": {
   "display_name": "compworkflows",
   "language": "python",
   "name": "python3"
  },
  "language_info": {
   "codemirror_mode": {
    "name": "ipython",
    "version": 3
   },
   "file_extension": ".py",
   "mimetype": "text/x-python",
   "name": "python",
   "nbconvert_exporter": "python",
   "pygments_lexer": "ipython3",
   "version": "3.10.15"
  }
 },
 "nbformat": 4,
 "nbformat_minor": 2
}
